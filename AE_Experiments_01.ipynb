{
 "cells": [
  {
   "cell_type": "code",
   "execution_count": 1,
   "metadata": {
    "ExecuteTime": {
     "end_time": "2024-11-29T06:24:42.370848Z",
     "start_time": "2024-11-29T06:24:38.969541Z"
    }
   },
   "outputs": [],
   "source": [
    "import torch\n",
    "import torch.nn as nn\n",
    "import torch.optim as optim\n",
    "import pandas as pd\n",
    "import numpy as np\n",
    "from torch.utils.data import Dataset, DataLoader\n",
    "from Models.AutoEncoder import AutoEncoder, AE_trainDataset, AE_validDataset\n",
    "from utils.utils import *\n",
    "from tqdm import tqdm\n",
    "from sklearn.metrics import f1_score\n"
   ]
  },
  {
   "cell_type": "markdown",
   "metadata": {},
   "source": [
    "# Auto Encoder Test"
   ]
  },
  {
   "cell_type": "markdown",
   "metadata": {},
   "source": [
    "* L1 정규화 추가\n",
    "* weight_decay 추가\n",
    "* BatchNorm 추가"
   ]
  },
  {
   "cell_type": "markdown",
   "metadata": {},
   "source": [
    "## Base Setup"
   ]
  },
  {
   "cell_type": "code",
   "execution_count": 2,
   "metadata": {
    "ExecuteTime": {
     "end_time": "2024-11-29T06:24:42.393847Z",
     "start_time": "2024-11-29T06:24:42.373866Z"
    }
   },
   "outputs": [
    {
     "name": "stdout",
     "output_type": "stream",
     "text": [
      "cuda\n"
     ]
    }
   ],
   "source": [
    "device = torch.device(\"cuda\" if torch.cuda.is_available() else \"cpu\")\n",
    "print(device)"
   ]
  },
  {
   "cell_type": "code",
   "execution_count": 3,
   "metadata": {
    "ExecuteTime": {
     "end_time": "2024-11-29T06:24:42.463692Z",
     "start_time": "2024-11-29T06:24:42.460493Z"
    }
   },
   "outputs": [],
   "source": [
    "num_epochs = 100\n",
    "batch_size = 128\n",
    "lr = 1e-4"
   ]
  },
  {
   "cell_type": "code",
   "execution_count": 4,
   "metadata": {
    "ExecuteTime": {
     "end_time": "2024-11-29T06:24:42.482970Z",
     "start_time": "2024-11-29T06:24:42.478984Z"
    }
   },
   "outputs": [
    {
     "name": "stdout",
     "output_type": "stream",
     "text": [
      "54\n"
     ]
    }
   ],
   "source": [
    "# Feature Selection\n",
    "cat_features = ['Gender', 'Card Brand', 'Card Type', 'Expires', 'Has Chip', 'Year PIN last Changed', 'Whether Security Chip is Used', 'Day', 'Error Message']\n",
    "\n",
    "num_features = ['Current Age', 'Retirement Age', 'Per Capita Income - Zipcode', 'Yearly Income', 'Total Debt', 'Credit Score', 'Credit Limit', 'Amount','Since Open Month']\n",
    "\n",
    "discarded = ['User', 'Birth Year', 'Birth Month', 'Card', 'Card Number', 'Zipcode', 'Merchandise Code', 'Acct Open Date', 'Year', 'Month']\n",
    "\n",
    "print(len(cat_features)*5 + len(num_features))\n"
   ]
  },
  {
   "cell_type": "code",
   "execution_count": 5,
   "metadata": {
    "ExecuteTime": {
     "end_time": "2024-11-29T06:24:50.640184Z",
     "start_time": "2024-11-29T06:24:42.491352Z"
    }
   },
   "outputs": [
    {
     "name": "stdout",
     "output_type": "stream",
     "text": [
      "TRANSITION\n",
      "IQR\n",
      "SPLIT\n",
      "DISCARD\n",
      "SCALE\n",
      "ENCODE\n",
      "TARGET\n",
      "UNLABEL\n",
      "TRAIN CAT/NUM\n",
      "VALID CAT/NUM\n",
      "RETURN\n"
     ]
    }
   ],
   "source": [
    "# 데이터 전처리\n",
    "data_path = 'Data/[24-2 DS_Project2] Data.csv'\n",
    "(train_cat_X, train_num_X, train_y), (valid_cat_X, valid_num_X, valid_y), label_encoders = process_data(\n",
    "    data_path,\n",
    "    cat_features,\n",
    "    num_features,\n",
    "    discarded\n",
    ")"
   ]
  },
  {
   "cell_type": "code",
   "execution_count": 6,
   "metadata": {},
   "outputs": [
    {
     "name": "stdout",
     "output_type": "stream",
     "text": [
      "Is Fraud?    897473\n",
      "dtype: int64\n"
     ]
    }
   ],
   "source": [
    "print(train_y.count())"
   ]
  },
  {
   "cell_type": "code",
   "execution_count": 7,
   "metadata": {
    "ExecuteTime": {
     "end_time": "2024-11-29T06:24:50.675458Z",
     "start_time": "2024-11-29T06:24:50.667307Z"
    }
   },
   "outputs": [
    {
     "data": {
      "text/plain": [
       "{'Gender': LabelEncoder(),\n",
       " 'Card Brand': LabelEncoder(),\n",
       " 'Card Type': LabelEncoder(),\n",
       " 'Expires': LabelEncoder(),\n",
       " 'Has Chip': LabelEncoder(),\n",
       " 'Year PIN last Changed': LabelEncoder(),\n",
       " 'Whether Security Chip is Used': LabelEncoder(),\n",
       " 'Day': LabelEncoder(),\n",
       " 'Error Message': LabelEncoder()}"
      ]
     },
     "execution_count": 7,
     "metadata": {},
     "output_type": "execute_result"
    }
   ],
   "source": [
    "train_cat_X,\n",
    "train_num_X,\n",
    "train_y,\n",
    "valid_cat_X,\n",
    "valid_num_X,\n",
    "valid_y,\n",
    "label_encoders"
   ]
  },
  {
   "cell_type": "code",
   "execution_count": 8,
   "metadata": {
    "ExecuteTime": {
     "end_time": "2024-11-29T06:24:50.908741Z",
     "start_time": "2024-11-29T06:24:50.745031Z"
    }
   },
   "outputs": [],
   "source": [
    "train_dataset = AE_trainDataset(train_cat_X, train_num_X, device)\n",
    "valid_dataset = AE_validDataset(valid_cat_X, valid_num_X, valid_y, device)\n",
    "train_loader = DataLoader(train_dataset, batch_size=batch_size, shuffle=True)\n",
    "valid_loader = DataLoader(valid_dataset, batch_size=batch_size, shuffle=False)"
   ]
  },
  {
   "cell_type": "code",
   "execution_count": 9,
   "metadata": {
    "ExecuteTime": {
     "end_time": "2024-11-29T06:24:52.019432Z",
     "start_time": "2024-11-29T06:24:50.927058Z"
    }
   },
   "outputs": [],
   "source": [
    "model = AutoEncoder(encoding_dim=32, cat_features=cat_features, num_features=num_features).to(device)\n",
    "optimizer = optim.AdamW(model.parameters(), lr=lr, weight_decay=1e-4)\n",
    "criterion = nn.MSELoss()\n"
   ]
  },
  {
   "cell_type": "code",
   "metadata": {},
   "source": [
    "best_f1 = 0\n",
    "l1_lambda = 1e-5\n",
    "for epoch in tqdm(range(num_epochs), desc='학습 진행률', ncols=100, position=0, leave=True):\n",
    "    # 학습 단계\n",
    "    model.train()\n",
    "    train_loss = 0\n",
    "    for cat_features, num_features in train_loader:\n",
    "        optimizer.zero_grad()\n",
    "        y_hat, y = model(cat_features, num_features)\n",
    "        \n",
    "        # MSE 손실 계산\n",
    "        mse_loss = criterion(y_hat, y)\n",
    "        \n",
    "        # L1 정규화 계산\n",
    "        l1_reg = torch.tensor(0., requires_grad=True).to(device)\n",
    "        for param in model.parameters():\n",
    "            l1_reg = l1_reg + torch.norm(param, 1)\n",
    "        \n",
    "        # 총 손실 = MSE 손실 + L1 정규화\n",
    "        loss = mse_loss + l1_lambda * l1_reg\n",
    "        \n",
    "        loss.backward()\n",
    "        optimizer.step()\n",
    "        train_loss += loss.item()\n",
    "    \n",
    "    # 평균 train_loss 계산\n",
    "    train_loss /= len(train_loader)\n",
    "    \n",
    "    # 검증 단계 (10 에포크마다)\n",
    "# ... existing code ...\n",
    "\n",
    "    if epoch % 10 == 0:\n",
    "        model.eval()\n",
    "        valid_loss = 0\n",
    "        reconstruction_errors = []\n",
    "        all_labels = []\n",
    "        \n",
    "        with torch.no_grad():\n",
    "            for cat_features, num_features, labels in valid_loader:\n",
    "                y_hat, y = model(cat_features, num_features)\n",
    "                # 배치 단위의 MSE 손실 계산\n",
    "                batch_loss = criterion(y_hat, y)\n",
    "                valid_loss += batch_loss.item()\n",
    "                \n",
    "                # 이상치 탐지를 위한 샘플별 reconstruction error 계산\n",
    "                sample_errors = torch.mean((y_hat - y) ** 2, dim=1)\n",
    "                reconstruction_errors.extend(sample_errors.cpu().numpy())\n",
    "                all_labels.extend(labels.cpu().numpy())\n",
    "            \n",
    "            # 평균 validation loss 계산\n",
    "            valid_loss /= len(valid_loader)\n",
    "            \n",
    "            # 이상치 탐지를 위한 임계값 설정 및 예측\n",
    "            threshold = np.percentile(reconstruction_errors, 95)\n",
    "            predictions = (np.array(reconstruction_errors) > threshold).astype(int)\n",
    "            f1 = f1_score(all_labels, predictions)           \n",
    "            tqdm.write(f\"에포크 {epoch}: Train Loss = {train_loss:.4f}, Valid Loss = {valid_loss:.4f}, F1 Score = {f1:.4f}\")\n",
    "    else:\n",
    "        # 10 에포크마다가 아닐 때는 train_loss만 출력\n",
    "        tqdm.write(f\"에포크 {epoch}: Train Loss = {train_loss:.4f}\")"
   ],
   "outputs": [],
   "execution_count": null
  },
  {
   "cell_type": "code",
   "execution_count": null,
   "metadata": {
    "ExecuteTime": {
     "end_time": "2024-11-29T06:24:52.069308Z",
     "start_time": "2024-11-29T06:24:52.066644Z"
    }
   },
   "outputs": [],
   "source": []
  }
 ],
 "metadata": {
  "kernelspec": {
   "display_name": "ai",
   "language": "python",
   "name": "python3"
  },
  "language_info": {
   "codemirror_mode": {
    "name": "ipython",
    "version": 3
   },
   "file_extension": ".py",
   "mimetype": "text/x-python",
   "name": "python",
   "nbconvert_exporter": "python",
   "pygments_lexer": "ipython3",
   "version": "3.12.2"
  }
 },
 "nbformat": 4,
 "nbformat_minor": 2
}
