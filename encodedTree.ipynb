{
 "cells": [
  {
   "cell_type": "code",
   "execution_count": 4,
   "id": "initial_id",
   "metadata": {
    "collapsed": true
   },
   "outputs": [],
   "source": [
    "import pandas as pd\n",
    "import numpy as np\n",
    "from future.utils.surrogateescape import encoded\n",
    "\n",
    "from Models.DT import *\n",
    "from utils.utils import *\n",
    "import torch\n",
    "import torch.nn as nn\n",
    "import torch.optim as optim\n",
    "from torch.utils.data import Dataset, DataLoader\n",
    "from Models.AutoEncoder import AutoEncoder, AE_trainDataset, AE_validDataset, AE_Dataset\n",
    "from utils.utils import *\n",
    "from tqdm import tqdm\n",
    "from sklearn.metrics import f1_score"
   ]
  },
  {
   "cell_type": "code",
   "execution_count": 5,
   "id": "7ec9d7cb8a6da03c",
   "metadata": {},
   "outputs": [],
   "source": [
    "device = torch.device('cuda' if torch.cuda.is_available() else 'cpu')"
   ]
  },
  {
   "cell_type": "code",
   "execution_count": 6,
   "id": "4d63752cfb85cefd",
   "metadata": {},
   "outputs": [],
   "source": [
    "df = pd.read_csv(\"Data/[24-2 DS_Project2] Data.csv\")"
   ]
  },
  {
   "cell_type": "code",
   "execution_count": 7,
   "id": "d72db31a100f3786",
   "metadata": {},
   "outputs": [],
   "source": [
    "batch_size = 128\n",
    "encoding_dim = 27\n",
    "lr = 1e-4\n",
    "l1_lambda = 1e-6"
   ]
  },
  {
   "cell_type": "code",
   "execution_count": 11,
   "id": "e572b19eb84eb8ac",
   "metadata": {},
   "outputs": [],
   "source": [
    "cat_features = ['Card', 'Gender', 'Card Brand', 'Card Type', 'Expires', 'Has Chip', \n",
    "                'Year PIN last Changed', 'Whether Security Chip is Used', 'Day']\n",
    "num_features = ['Current Age', 'Retirement Age', 'Per Capita Income - Zipcode',\n",
    "                'Yearly Income', 'Total Debt', 'Credit Score', 'Credit Limit', 'Amount', 'Since Open Month']\n",
    "discarded = ['User', 'Birth Year', 'Birth Month']"
   ]
  },
  {
   "cell_type": "code",
   "execution_count": 12,
   "id": "64b7b1d007c9f06b",
   "metadata": {},
   "outputs": [],
   "source": [
    "data_path = 'Data/[24-2 DS_Project2] Data.csv'"
   ]
  },
  {
   "cell_type": "code",
   "execution_count": 13,
   "id": "3276eb6da74c20e1",
   "metadata": {},
   "outputs": [
    {
     "name": "stdout",
     "output_type": "stream",
     "text": [
      "TRANSITION\n",
      "IQR\n",
      "SPLIT\n",
      "DISCARD\n",
      "SCALE\n",
      "ENCODE\n",
      "TARGET\n",
      "TRAIN CAT/NUM\n",
      "VALID CAT/NUM\n",
      "RETURN\n"
     ]
    }
   ],
   "source": [
    "(train_cat_X, train_num_X, train_y), (valid_cat_X, valid_num_X, valid_y), label_encoders = dt_process_data(\n",
    "    data_path,\n",
    "    cat_features,\n",
    "    num_features,\n",
    "    discarded\n",
    ")"
   ]
  },
  {
   "cell_type": "code",
   "execution_count": 14,
   "id": "f0a5795c235a562e",
   "metadata": {
    "ExecuteTime": {
     "end_time": "2024-11-30T16:33:18.900052Z",
     "start_time": "2024-11-30T16:33:18.744680Z"
    }
   },
   "outputs": [],
   "source": [
    "train_dataset = AE_Dataset(train_cat_X, train_num_X, train_y, device)\n",
    "valid_dataset = AE_Dataset(valid_cat_X, valid_num_X, valid_y, device)\n",
    "train_loader = DataLoader(train_dataset, batch_size=batch_size, shuffle=True)\n",
    "valid_loader = DataLoader(valid_dataset, batch_size=batch_size, shuffle=False)"
   ]
  },
  {
   "cell_type": "code",
   "execution_count": 18,
   "id": "63e5c6200ba692f8",
   "metadata": {
    "ExecuteTime": {
     "end_time": "2024-11-30T16:33:20.226464Z",
     "start_time": "2024-11-30T16:33:19.112909Z"
    }
   },
   "outputs": [],
   "source": [
    "model = AutoEncoder(encoding_dim=encoding_dim, cat_features=cat_features, num_features=num_features).to(device)\n",
    "optimizer = optim.AdamW(model.parameters(), lr=lr, weight_decay=1e-4)\n",
    "criterion = nn.MSELoss()"
   ]
  },
  {
   "cell_type": "code",
   "execution_count": 19,
   "id": "c691b4502908c863",
   "metadata": {
    "ExecuteTime": {
     "end_time": "2024-11-30T16:33:20.468636Z",
     "start_time": "2024-11-30T16:33:20.444287Z"
    }
   },
   "outputs": [
    {
     "name": "stderr",
     "output_type": "stream",
     "text": [
      "/tmp/ipykernel_6133/4157255290.py:1: FutureWarning: You are using `torch.load` with `weights_only=False` (the current default value), which uses the default pickle module implicitly. It is possible to construct malicious pickle data which will execute arbitrary code during unpickling (See https://github.com/pytorch/pytorch/blob/main/SECURITY.md#untrusted-models for more details). In a future release, the default value for `weights_only` will be flipped to `True`. This limits the functions that could be executed during unpickling. Arbitrary objects will no longer be allowed to be loaded via this mode unless they are explicitly allowlisted by the user via `torch.serialization.add_safe_globals`. We recommend you start setting `weights_only=True` for any use case where you don't have full control of the loaded file. Please open an issue on GitHub for any issues related to this experimental feature.\n",
      "  checkpoint = torch.load('experiments/AutoEncoder/best_model.pth')\n"
     ]
    },
    {
     "data": {
      "text/plain": [
       "<All keys matched successfully>"
      ]
     },
     "execution_count": 19,
     "metadata": {},
     "output_type": "execute_result"
    }
   ],
   "source": [
    "checkpoint = torch.load('experiments/AutoEncoder/best_model.pth')\n",
    "model.load_state_dict(checkpoint)"
   ]
  },
  {
   "cell_type": "code",
   "execution_count": 11,
   "id": "7bee02bb3a6650a3",
   "metadata": {
    "ExecuteTime": {
     "end_time": "2024-11-30T16:33:21.401670Z",
     "start_time": "2024-11-30T16:33:21.397116Z"
    }
   },
   "outputs": [
    {
     "data": {
      "text/plain": [
       "AutoEncoder(\n",
       "  (cat_embeddings): ModuleList(\n",
       "    (0-8): 9 x Embedding(100, 5)\n",
       "  )\n",
       "  (fc_cat): Linear(in_features=54, out_features=64, bias=True)\n",
       "  (encoder): Sequential(\n",
       "    (0): Linear(in_features=64, out_features=64, bias=True)\n",
       "    (1): ReLU()\n",
       "    (2): Linear(in_features=64, out_features=32, bias=True)\n",
       "    (3): ReLU()\n",
       "  )\n",
       "  (decoder): Sequential(\n",
       "    (0): Linear(in_features=32, out_features=48, bias=True)\n",
       "    (1): BatchNorm1d(48, eps=1e-05, momentum=0.1, affine=True, track_running_stats=True)\n",
       "    (2): LeakyReLU(negative_slope=0.01)\n",
       "    (3): Linear(in_features=48, out_features=54, bias=True)\n",
       "  )\n",
       "  (classifier): Sequential(\n",
       "    (0): Linear(in_features=32, out_features=32, bias=True)\n",
       "    (1): ReLU()\n",
       "    (2): Linear(in_features=32, out_features=16, bias=True)\n",
       "    (3): ReLU()\n",
       "    (4): Linear(in_features=16, out_features=1, bias=True)\n",
       "  )\n",
       ")"
      ]
     },
     "execution_count": 11,
     "metadata": {},
     "output_type": "execute_result"
    }
   ],
   "source": [
    "model.eval()"
   ]
  },
  {
   "cell_type": "code",
   "execution_count": 20,
   "id": "a3dbc52ba7134ac3",
   "metadata": {
    "ExecuteTime": {
     "end_time": "2024-11-30T16:33:21.438703Z",
     "start_time": "2024-11-30T16:33:21.434756Z"
    }
   },
   "outputs": [],
   "source": [
    "random_state=42 \n",
    "max_depth=10\n",
    "min_samples_leaf=5\n",
    "class_weight={0: 1, 1: 10}"
   ]
  },
  {
   "cell_type": "code",
   "execution_count": 21,
   "id": "f6c008d24f39576e",
   "metadata": {
    "ExecuteTime": {
     "end_time": "2024-11-30T16:33:22.012135Z",
     "start_time": "2024-11-30T16:33:21.878688Z"
    }
   },
   "outputs": [],
   "source": [
    "train_embeddings = model.get_embedding(\n",
    "    torch.tensor(train_cat_X.values, dtype=torch.long).to(device),\n",
    "    torch.tensor(train_num_X.values, dtype=torch.float).to(device),\n",
    ")"
   ]
  },
  {
   "cell_type": "code",
   "execution_count": 22,
   "id": "7e619497a1beb5d",
   "metadata": {
    "ExecuteTime": {
     "end_time": "2024-11-30T16:33:22.476906Z",
     "start_time": "2024-11-30T16:33:22.451095Z"
    }
   },
   "outputs": [],
   "source": [
    "valid_embeddings = model.get_embedding(\n",
    "    torch.tensor(valid_cat_X.values, dtype=torch.long).to(device),\n",
    "    torch.tensor(valid_num_X.values, dtype=torch.float).to(device),\n",
    ")"
   ]
  },
  {
   "cell_type": "code",
   "execution_count": 23,
   "id": "3b144bfed44245d5",
   "metadata": {
    "ExecuteTime": {
     "end_time": "2024-11-30T16:39:25.698222Z",
     "start_time": "2024-11-30T16:33:22.900780Z"
    }
   },
   "outputs": [
    {
     "name": "stderr",
     "output_type": "stream",
     "text": [
      "/home/hyun/anaconda3/envs/ai/lib/python3.9/site-packages/sklearn/base.py:1473: DataConversionWarning: A column-vector y was passed when a 1d array was expected. Please change the shape of y to (n_samples,), for example using ravel().\n",
      "  return fit_method(estimator, *args, **kwargs)\n"
     ]
    },
    {
     "data": {
      "image/png": "[encoded data removed]",
      "text/plain": [
       "<Figure size 640x480 with 2 Axes>"
      ]
     },
     "metadata": {},
     "output_type": "display_data"
    },
    {
     "name": "stdout",
     "output_type": "stream",
     "text": [
      "report: \n",
      "              precision    recall  f1-score   support\n",
      "\n",
      "         0.0       1.00      1.00      1.00    306155\n",
      "         1.0       0.00      0.00      0.00       484\n",
      "\n",
      "    accuracy                           1.00    306639\n",
      "   macro avg       0.50      0.50      0.50    306639\n",
      "weighted avg       1.00      1.00      1.00    306639\n",
      "\n"
     ]
    },
    {
     "name": "stderr",
     "output_type": "stream",
     "text": [
      "/home/hyun/anaconda3/envs/ai/lib/python3.9/site-packages/sklearn/metrics/_classification.py:1531: UndefinedMetricWarning: Precision is ill-defined and being set to 0.0 in labels with no predicted samples. Use `zero_division` parameter to control this behavior.\n",
      "  _warn_prf(average, modifier, f\"{metric.capitalize()} is\", len(result))\n",
      "/home/hyun/anaconda3/envs/ai/lib/python3.9/site-packages/sklearn/metrics/_classification.py:1531: UndefinedMetricWarning: Precision is ill-defined and being set to 0.0 in labels with no predicted samples. Use `zero_division` parameter to control this behavior.\n",
      "  _warn_prf(average, modifier, f\"{metric.capitalize()} is\", len(result))\n",
      "/home/hyun/anaconda3/envs/ai/lib/python3.9/site-packages/sklearn/metrics/_classification.py:1531: UndefinedMetricWarning: Precision is ill-defined and being set to 0.0 in labels with no predicted samples. Use `zero_division` parameter to control this behavior.\n",
      "  _warn_prf(average, modifier, f\"{metric.capitalize()} is\", len(result))\n"
     ]
    }
   ],
   "source": [
    "randomforest(\n",
    "    encoded_t=train_embeddings.cpu().detach().numpy(),\n",
    "    encoded_v=valid_embeddings.cpu().detach().numpy(),\n",
    "    train_y=train_y,\n",
    "    valid_y=valid_y,\n",
    "    le=label_encoders)"
   ]
  },
  {
   "cell_type": "code",
   "execution_count": null,
   "id": "acf5756b",
   "metadata": {},
   "outputs": [],
   "source": []
  }
 ],
 "metadata": {
  "kernelspec": {
   "display_name": "Python 3",
   "language": "python",
   "name": "python3"
  },
  "language_info": {
   "codemirror_mode": {
    "name": "ipython",
    "version": 3
   },
   "file_extension": ".py",
   "mimetype": "text/x-python",
   "name": "python",
   "nbconvert_exporter": "python",
   "pygments_lexer": "ipython3",
   "version": "3.9.20"
  }
 },
 "nbformat": 4,
 "nbformat_minor": 5
}
