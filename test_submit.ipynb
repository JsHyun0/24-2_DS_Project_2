{
 "cells": [
  {
   "cell_type": "code",
   "id": "initial_id",
   "metadata": {
    "collapsed": true,
    "ExecuteTime": {
     "end_time": "2024-12-08T13:54:07.253748Z",
     "start_time": "2024-12-08T13:54:07.181009Z"
    }
   },
   "source": [
    "from sklearn.metrics import confusion_matrix, classification_report\n",
    "import pandas as pd"
   ],
   "outputs": [],
   "execution_count": 1
  },
  {
   "metadata": {
    "ExecuteTime": {
     "end_time": "2024-12-08T13:54:07.259958Z",
     "start_time": "2024-12-08T13:54:07.256254Z"
    }
   },
   "cell_type": "code",
   "source": [
    "def plot_confusion_heatmap(y_true, y_pred, class_names=None, title=\"Confusion Matrix\", cmap=\"Blues\"):\n",
    "    \"\"\"\n",
    "    예측 결과와 실제 값을 기반으로 혼동 행렬 히트맵을 생성하고 시각화합니다.\n",
    "\n",
    "    Parameters:\n",
    "        y_true (array-like): 실제 클래스 레이블.\n",
    "        y_pred (array-like): 예측 클래스 레이블.\n",
    "        class_names (list, optional): 클래스 이름. None일 경우 숫자 레이블 사용.\n",
    "        title (str, optional): 히트맵의 제목.\n",
    "        cmap (str, optional): 히트맵의 색상 맵.\n",
    "    \"\"\"\n",
    "    # 혼동 행렬 계산\n",
    "    cm = confusion_matrix(y_true, y_pred)\n",
    "\n",
    "    # 클래스 이름이 없으면 숫자 레이블 사용\n",
    "    if class_names is None:\n",
    "        class_names = [str(i) for i in range(len(set(y_true)))]\n",
    "\n",
    "    # 히트맵 생성\n",
    "    plt.figure(figsize=(8, 6))\n",
    "    sns.heatmap(cm, annot=True, fmt='d', cmap=cmap, xticklabels=class_names, yticklabels=class_names, cbar=True)\n",
    "    plt.xlabel(\"Predicted Labels\")\n",
    "    plt.ylabel(\"True Labels\")\n",
    "    plt.title(title)\n",
    "    plt.show()"
   ],
   "id": "f71cfc11a4c43894",
   "outputs": [],
   "execution_count": 2
  },
  {
   "metadata": {
    "ExecuteTime": {
     "end_time": "2024-12-08T13:54:11.006658Z",
     "start_time": "2024-12-08T13:54:07.312677Z"
    }
   },
   "cell_type": "code",
   "source": [
    "submit = \"submission_05.csv\"\n",
    "origin = \"data/[24-2 DS_Project2] test_submission.csv\"\n",
    "data = pd.read_csv(submit)\n",
    "ori = pd.read_csv(origin)\n",
    "\n",
    "# 실제 값과 예측 값 확인\n",
    "if 'Is Fraud?' not in data.columns:\n",
    "    raise ValueError(\"The CSV file does not contain the 'Is Fraud?' column.\")\n",
    "\n",
    "# 실제 값\n",
    "true_labels = data['Is Fraud?']\n",
    "\n",
    "print(len(ori))\n",
    "print(len(data))\n",
    "\n",
    "# 혼동 행렬 계산\n",
    "print(data['Is Fraud?'].value_counts())"
   ],
   "id": "d6f533e55b8a1393",
   "outputs": [
    {
     "name": "stdout",
     "output_type": "stream",
     "text": [
      "1698418\n",
      "1698418\n",
      "Is Fraud?\n",
      "No     1591334\n",
      "Yes     107084\n",
      "Name: count, dtype: int64\n"
     ]
    }
   ],
   "execution_count": 3
  },
  {
   "metadata": {
    "ExecuteTime": {
     "end_time": "2024-12-08T13:27:26.073236Z",
     "start_time": "2024-12-08T13:27:26.071680Z"
    }
   },
   "cell_type": "code",
   "source": "",
   "id": "75e79fd904462570",
   "outputs": [],
   "execution_count": null
  },
  {
   "metadata": {
    "ExecuteTime": {
     "end_time": "2024-12-08T13:27:26.083173Z",
     "start_time": "2024-12-08T13:27:26.081905Z"
    }
   },
   "cell_type": "code",
   "source": "",
   "id": "4b308a33a6b86f42",
   "outputs": [],
   "execution_count": null
  }
 ],
 "metadata": {
  "kernelspec": {
   "display_name": "Python 3",
   "language": "python",
   "name": "python3"
  },
  "language_info": {
   "codemirror_mode": {
    "name": "ipython",
    "version": 2
   },
   "file_extension": ".py",
   "mimetype": "text/x-python",
   "name": "python",
   "nbconvert_exporter": "python",
   "pygments_lexer": "ipython2",
   "version": "2.7.6"
  }
 },
 "nbformat": 4,
 "nbformat_minor": 5
}
