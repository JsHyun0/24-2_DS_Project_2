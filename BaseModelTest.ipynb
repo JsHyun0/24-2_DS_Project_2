{
 "cells": [
  {
   "cell_type": "code",
   "execution_count": 1,
   "id": "initial_id",
   "metadata": {
    "ExecuteTime": {
     "end_time": "2024-12-01T10:37:01.990053Z",
     "start_time": "2024-12-01T10:36:59.576616Z"
    },
    "collapsed": true
   },
   "outputs": [],
   "source": [
    "import pandas as pd\n",
    "import numpy as np\n",
    "import seaborn as sns\n",
    "from torch.utils.data import DataLoader, Dataset\n",
    "from sklearn.metrics import accuracy_score, f1_score, recall_score\n",
    "from imblearn.over_sampling import SMOTE\n",
    "\n",
    "from Models.model import *\n",
    "from utils.utils import *\n",
    "from utils.Visualization import *\n",
    "\n",
    "import torch\n",
    "from tqdm import tqdm"
   ]
  },
  {
   "cell_type": "code",
   "execution_count": 2,
   "id": "38d40eec42877270",
   "metadata": {
    "ExecuteTime": {
     "end_time": "2024-12-01T10:37:02.016400Z",
     "start_time": "2024-12-01T10:37:01.997056Z"
    }
   },
   "outputs": [],
   "source": [
    "device = torch.device('cuda' if torch.cuda.is_available() else 'cpu')"
   ]
  },
  {
   "cell_type": "code",
   "execution_count": 3,
   "id": "820c731f8036e58a",
   "metadata": {
    "ExecuteTime": {
     "end_time": "2024-12-01T10:37:04.082696Z",
     "start_time": "2024-12-01T10:37:02.077189Z"
    }
   },
   "outputs": [],
   "source": [
    "data_path = '../data/[24-2 DS_Project2] Data.csv'\n",
    "df = pd.read_csv(data_path)"
   ]
  },
  {
   "cell_type": "code",
   "execution_count": 4,
   "id": "cace9e0436972b72",
   "metadata": {
    "ExecuteTime": {
     "end_time": "2024-12-01T10:37:04.096908Z",
     "start_time": "2024-12-01T10:37:04.094052Z"
    }
   },
   "outputs": [],
   "source": [
    "num_epochs = 100\n",
    "batch_size = 128\n",
    "lr = 1e-4"
   ]
  },
  {
   "cell_type": "code",
   "execution_count": 5,
   "id": "3781f1700698e1e4",
   "metadata": {
    "ExecuteTime": {
     "end_time": "2024-12-01T10:37:04.111862Z",
     "start_time": "2024-12-01T10:37:04.108258Z"
    }
   },
   "outputs": [],
   "source": [
    "cat_features = ['Gender', 'Card Brand', 'Card Type', 'Expires', 'Has Chip', 'Year PIN last Changed', 'Whether Security Chip is Used', 'Day', 'Error Message']\n",
    "\n",
    "num_features = ['Current Age', 'Retirement Age', 'Per Capita Income - Zipcode', 'Yearly Income', 'Total Debt', 'Credit Score', 'Credit Limit', 'Amount','Since Open Month']\n",
    "\n",
    "discarded = ['User', 'Birth Year', 'Birth Month', 'Card', 'Card Number', 'Zipcode', 'Merchandise Code', 'Acct Open Date', 'Year', 'Month']"
   ]
  },
  {
   "cell_type": "code",
   "execution_count": 6,
   "id": "4ceda9afd01e0f52",
   "metadata": {
    "ExecuteTime": {
     "end_time": "2024-12-01T10:37:11.049777Z",
     "start_time": "2024-12-01T10:37:04.127903Z"
    }
   },
   "outputs": [
    {
     "name": "stdout",
     "output_type": "stream",
     "text": [
      "TRANSITION\n",
      "IQR\n",
      "SPLIT\n",
      "DISCARD\n",
      "SCALE\n",
      "ENCODE\n",
      "TARGET\n",
      "TRAIN CAT/NUM\n",
      "VALID CAT/NUM\n",
      "RETURN\n"
     ]
    }
   ],
   "source": [
    "(train_cat_X, train_num_X, train_y), (valid_cat_X, valid_num_X, valid_y), label_encoders = dt_process_data(\n",
    "    data_path,\n",
    "    cat_features,\n",
    "    num_features,\n",
    "    discarded\n",
    ")\n"
   ]
  },
  {
   "cell_type": "code",
   "execution_count": 7,
   "id": "77330a5a3266e957",
   "metadata": {
    "ExecuteTime": {
     "end_time": "2024-12-01T10:37:11.594953Z",
     "start_time": "2024-12-01T10:37:11.067025Z"
    }
   },
   "outputs": [],
   "source": [
    "smote = SMOTE(random_state=42, sampling_strategy=0.5)\n",
    "train_X_resampled, train_y_resampled = smote.fit_resample(\n",
    "    pd.concat([train_cat_X, train_num_X], axis=1), train_y['Is Fraud?']\n",
    ")\n",
    "# Resampled 데이터를 나누기\n",
    "train_cat_X_resampled = train_X_resampled[cat_features]\n",
    "train_num_X_resampled = train_X_resampled[num_features]\n",
    "train_y_resampled = pd.DataFrame(train_y_resampled, columns=['Is Fraud?'])"
   ]
  },
  {
   "cell_type": "code",
   "execution_count": 8,
   "id": "1b657752d94cb73b",
   "metadata": {
    "ExecuteTime": {
     "end_time": "2024-12-01T10:37:11.633993Z",
     "start_time": "2024-12-01T10:37:11.617809Z"
    }
   },
   "outputs": [
    {
     "name": "stdout",
     "output_type": "stream",
     "text": [
      "Before SMOTE: Is Fraud?\n",
      "0.0    896343\n",
      "1.0      1130\n",
      "Name: count, dtype: int64\n",
      "After SMOTE: Is Fraud?\n",
      "0.0    896343\n",
      "1.0     89634\n",
      "Name: count, dtype: int64\n"
     ]
    }
   ],
   "source": [
    "print(\"Before SMOTE:\", train_y['Is Fraud?'].value_counts())\n",
    "print(\"After SMOTE:\", train_y_resampled['Is Fraud?'].value_counts())\n"
   ]
  },
  {
   "cell_type": "code",
   "execution_count": 9,
   "id": "5c829c6610c12e12",
   "metadata": {
    "ExecuteTime": {
     "end_time": "2024-12-01T10:37:11.661683Z",
     "start_time": "2024-12-01T10:37:11.657758Z"
    }
   },
   "outputs": [],
   "source": [
    "class BaseDataset(Dataset):\n",
    "    def __init__(self, cat_features, num_features, y, device):\n",
    "        self.cat_features = torch.tensor(cat_features.values, dtype=torch.long).to(device)\n",
    "        self.num_features = torch.tensor(num_features.values, dtype=torch.float).to(device)\n",
    "        self.y = torch.tensor(y.values, dtype=torch.float).to(device)\n",
    "\n",
    "    def __len__(self):\n",
    "        return len(self.y)\n",
    "\n",
    "    def __getitem__(self, index):\n",
    "        return self.cat_features[index], self.num_features[index], self.y[index]"
   ]
  },
  {
   "cell_type": "code",
   "execution_count": 10,
   "id": "ff0ec7f3c8347997",
   "metadata": {
    "ExecuteTime": {
     "end_time": "2024-12-01T10:37:11.873357Z",
     "start_time": "2024-12-01T10:37:11.706126Z"
    }
   },
   "outputs": [],
   "source": [
    "train_dataset = BaseDataset(train_cat_X_resampled, train_num_X_resampled, y=train_y_resampled, device=device)\n",
    "valid_dataset = BaseDataset(valid_cat_X, valid_num_X, y=valid_y, device=device)\n",
    "\n",
    "train_loader = DataLoader(train_dataset, batch_size=batch_size, shuffle=True)\n",
    "valid_loader = DataLoader(valid_dataset, batch_size=batch_size, shuffle=False)"
   ]
  },
  {
   "cell_type": "code",
   "execution_count": 11,
   "id": "b865c4665ca1f51c",
   "metadata": {
    "ExecuteTime": {
     "end_time": "2024-12-01T10:37:12.964336Z",
     "start_time": "2024-12-01T10:37:11.878361Z"
    }
   },
   "outputs": [],
   "source": [
    "#Base 모델 정의\n",
    "encoding_dim = 28\n",
    "l1_lambda = 0.001\n",
    "pos_weight = torch.tensor([1 / 0.1]).to(device) #Fraud data에 가중치 10\n",
    "model = BaseModel(encoding_dim, cat_features, num_features, 1).to(device)\n",
    "\n",
    "criterion = nn.BCEWithLogitsLoss(pos_weight=pos_weight)\n",
    "optimizer = torch.optim.Adam(model.parameters(), lr=lr)\n"
   ]
  },
  {
   "cell_type": "code",
   "execution_count": 13,
   "id": "8b015ab90672f1a4",
   "metadata": {
    "ExecuteTime": {
     "end_time": "2024-12-01T11:50:41.990612Z",
     "start_time": "2024-12-01T10:49:56.789175Z"
    }
   },
   "outputs": [
    {
     "name": "stderr",
     "output_type": "stream",
     "text": [
      "Epoch 1/100: 100%|██████████| 7703/7703 [00:36<00:00, 210.93it/s]\n"
     ]
    },
    {
     "name": "stdout",
     "output_type": "stream",
     "text": [
      "Epoch 1/100 - Avg Train Loss: 1.2603 - Train Acc: 0.3761 - Train F1: 0.4727 - Train Recall: 0.3761\n"
     ]
    },
    {
     "name": "stderr",
     "output_type": "stream",
     "text": [
      "Epoch 2/100: 100%|██████████| 7703/7703 [00:36<00:00, 213.08it/s]\n"
     ]
    },
    {
     "name": "stdout",
     "output_type": "stream",
     "text": [
      "Epoch 2/100 - Avg Train Loss: 1.2603 - Train Acc: 0.5832 - Train F1: 0.6718 - Train Recall: 0.5832\n"
     ]
    },
    {
     "name": "stderr",
     "output_type": "stream",
     "text": [
      "Epoch 3/100: 100%|██████████| 7703/7703 [00:35<00:00, 219.12it/s]\n"
     ]
    },
    {
     "name": "stdout",
     "output_type": "stream",
     "text": [
      "Epoch 3/100 - Avg Train Loss: 1.2603 - Train Acc: 0.7055 - Train F1: 0.7599 - Train Recall: 0.7055\n"
     ]
    },
    {
     "name": "stderr",
     "output_type": "stream",
     "text": [
      "Epoch 4/100: 100%|██████████| 7703/7703 [00:35<00:00, 217.06it/s]\n"
     ]
    },
    {
     "name": "stdout",
     "output_type": "stream",
     "text": [
      "Epoch 4/100 - Avg Train Loss: 1.2603 - Train Acc: 0.4016 - Train F1: 0.5015 - Train Recall: 0.4016\n"
     ]
    },
    {
     "name": "stderr",
     "output_type": "stream",
     "text": [
      "Epoch 5/100: 100%|██████████| 7703/7703 [00:34<00:00, 223.60it/s]\n"
     ]
    },
    {
     "name": "stdout",
     "output_type": "stream",
     "text": [
      "Epoch 5/100 - Avg Train Loss: 1.2603 - Train Acc: 0.4265 - Train F1: 0.5282 - Train Recall: 0.4265\n"
     ]
    },
    {
     "name": "stderr",
     "output_type": "stream",
     "text": [
      "Epoch 6/100: 100%|██████████| 7703/7703 [00:38<00:00, 200.72it/s]\n"
     ]
    },
    {
     "name": "stdout",
     "output_type": "stream",
     "text": [
      "Epoch 6/100 - Avg Train Loss: 1.2603 - Train Acc: 0.6607 - Train F1: 0.7297 - Train Recall: 0.6607\n"
     ]
    },
    {
     "name": "stderr",
     "output_type": "stream",
     "text": [
      "Epoch 7/100: 100%|██████████| 7703/7703 [00:33<00:00, 230.42it/s]\n"
     ]
    },
    {
     "name": "stdout",
     "output_type": "stream",
     "text": [
      "Epoch 7/100 - Avg Train Loss: 1.2603 - Train Acc: 0.3891 - Train F1: 0.4874 - Train Recall: 0.3891\n"
     ]
    },
    {
     "name": "stderr",
     "output_type": "stream",
     "text": [
      "Epoch 8/100: 100%|██████████| 7703/7703 [00:32<00:00, 234.88it/s]\n"
     ]
    },
    {
     "name": "stdout",
     "output_type": "stream",
     "text": [
      "Epoch 8/100 - Avg Train Loss: 1.2603 - Train Acc: 0.6876 - Train F1: 0.7481 - Train Recall: 0.6876\n"
     ]
    },
    {
     "name": "stderr",
     "output_type": "stream",
     "text": [
      "Epoch 9/100: 100%|██████████| 7703/7703 [00:33<00:00, 232.43it/s]\n"
     ]
    },
    {
     "name": "stdout",
     "output_type": "stream",
     "text": [
      "Epoch 9/100 - Avg Train Loss: 1.2603 - Train Acc: 0.4564 - Train F1: 0.5588 - Train Recall: 0.4564\n"
     ]
    },
    {
     "name": "stderr",
     "output_type": "stream",
     "text": [
      "Epoch 10/100: 100%|██████████| 7703/7703 [00:32<00:00, 237.99it/s]\n"
     ]
    },
    {
     "name": "stdout",
     "output_type": "stream",
     "text": [
      "Epoch 10/100 - Avg Train Loss: 1.2603 - Train Acc: 0.5832 - Train F1: 0.6718 - Train Recall: 0.5832\n"
     ]
    },
    {
     "name": "stderr",
     "output_type": "stream",
     "text": [
      "Validation: 100%|██████████| 2396/2396 [00:03<00:00, 642.29it/s]\n"
     ]
    },
    {
     "name": "stdout",
     "output_type": "stream",
     "text": [
      "Epoch Validation - Avg Loss: 0.7040 - Acc: 0.0016 - F1: 0.0000 - Recall: 0.0016\n",
      "Confusion Matrix:\n",
      " [[     0 306155]\n",
      " [     0    484]]\n"
     ]
    },
    {
     "name": "stderr",
     "output_type": "stream",
     "text": [
      "Epoch 11/100: 100%|██████████| 7703/7703 [00:33<00:00, 230.65it/s]\n"
     ]
    },
    {
     "name": "stdout",
     "output_type": "stream",
     "text": [
      "Epoch 11/100 - Avg Train Loss: 1.2603 - Train Acc: 0.3064 - Train F1: 0.3863 - Train Recall: 0.3064\n"
     ]
    },
    {
     "name": "stderr",
     "output_type": "stream",
     "text": [
      "Epoch 12/100: 100%|██████████| 7703/7703 [00:33<00:00, 231.60it/s]\n"
     ]
    },
    {
     "name": "stdout",
     "output_type": "stream",
     "text": [
      "Epoch 12/100 - Avg Train Loss: 1.2603 - Train Acc: 0.5471 - Train F1: 0.6421 - Train Recall: 0.5471\n"
     ]
    },
    {
     "name": "stderr",
     "output_type": "stream",
     "text": [
      "Epoch 13/100: 100%|██████████| 7703/7703 [00:32<00:00, 234.01it/s]\n"
     ]
    },
    {
     "name": "stdout",
     "output_type": "stream",
     "text": [
      "Epoch 13/100 - Avg Train Loss: 1.2603 - Train Acc: 0.4280 - Train F1: 0.5299 - Train Recall: 0.4280\n"
     ]
    },
    {
     "name": "stderr",
     "output_type": "stream",
     "text": [
      "Epoch 14/100: 100%|██████████| 7703/7703 [00:32<00:00, 235.34it/s]\n"
     ]
    },
    {
     "name": "stdout",
     "output_type": "stream",
     "text": [
      "Epoch 14/100 - Avg Train Loss: 1.2603 - Train Acc: 0.4168 - Train F1: 0.5179 - Train Recall: 0.4168\n"
     ]
    },
    {
     "name": "stderr",
     "output_type": "stream",
     "text": [
      "Epoch 15/100: 100%|██████████| 7703/7703 [00:33<00:00, 230.60it/s]\n"
     ]
    },
    {
     "name": "stdout",
     "output_type": "stream",
     "text": [
      "Epoch 15/100 - Avg Train Loss: 1.2603 - Train Acc: 0.5268 - Train F1: 0.6246 - Train Recall: 0.5268\n"
     ]
    },
    {
     "name": "stderr",
     "output_type": "stream",
     "text": [
      "Epoch 16/100: 100%|██████████| 7703/7703 [00:33<00:00, 229.79it/s]\n"
     ]
    },
    {
     "name": "stdout",
     "output_type": "stream",
     "text": [
      "Epoch 16/100 - Avg Train Loss: 1.2603 - Train Acc: 0.4954 - Train F1: 0.5963 - Train Recall: 0.4954\n"
     ]
    },
    {
     "name": "stderr",
     "output_type": "stream",
     "text": [
      "Epoch 17/100: 100%|██████████| 7703/7703 [00:33<00:00, 231.37it/s]\n"
     ]
    },
    {
     "name": "stdout",
     "output_type": "stream",
     "text": [
      "Epoch 17/100 - Avg Train Loss: 1.2603 - Train Acc: 0.6541 - Train F1: 0.7250 - Train Recall: 0.6541\n"
     ]
    },
    {
     "name": "stderr",
     "output_type": "stream",
     "text": [
      "Epoch 18/100: 100%|██████████| 7703/7703 [00:33<00:00, 232.13it/s]\n"
     ]
    },
    {
     "name": "stdout",
     "output_type": "stream",
     "text": [
      "Epoch 18/100 - Avg Train Loss: 1.2603 - Train Acc: 0.4372 - Train F1: 0.5394 - Train Recall: 0.4372\n"
     ]
    },
    {
     "name": "stderr",
     "output_type": "stream",
     "text": [
      "Epoch 19/100: 100%|██████████| 7703/7703 [00:34<00:00, 225.65it/s]\n"
     ]
    },
    {
     "name": "stdout",
     "output_type": "stream",
     "text": [
      "Epoch 19/100 - Avg Train Loss: 1.2603 - Train Acc: 0.5804 - Train F1: 0.6695 - Train Recall: 0.5804\n"
     ]
    },
    {
     "name": "stderr",
     "output_type": "stream",
     "text": [
      "Epoch 20/100: 100%|██████████| 7703/7703 [00:32<00:00, 234.34it/s]\n"
     ]
    },
    {
     "name": "stdout",
     "output_type": "stream",
     "text": [
      "Epoch 20/100 - Avg Train Loss: 1.2603 - Train Acc: 0.5568 - Train F1: 0.6502 - Train Recall: 0.5568\n"
     ]
    },
    {
     "name": "stderr",
     "output_type": "stream",
     "text": [
      "Validation: 100%|██████████| 2396/2396 [00:03<00:00, 658.44it/s]\n"
     ]
    },
    {
     "name": "stdout",
     "output_type": "stream",
     "text": [
      "Epoch Validation - Avg Loss: 0.7043 - Acc: 0.0016 - F1: 0.0000 - Recall: 0.0016\n",
      "Confusion Matrix:\n",
      " [[     0 306155]\n",
      " [     0    484]]\n"
     ]
    },
    {
     "name": "stderr",
     "output_type": "stream",
     "text": [
      "Epoch 21/100: 100%|██████████| 7703/7703 [00:33<00:00, 232.72it/s]\n"
     ]
    },
    {
     "name": "stdout",
     "output_type": "stream",
     "text": [
      "Epoch 21/100 - Avg Train Loss: 1.2603 - Train Acc: 0.4256 - Train F1: 0.5273 - Train Recall: 0.4256\n"
     ]
    },
    {
     "name": "stderr",
     "output_type": "stream",
     "text": [
      "Epoch 22/100: 100%|██████████| 7703/7703 [00:32<00:00, 237.40it/s]\n"
     ]
    },
    {
     "name": "stdout",
     "output_type": "stream",
     "text": [
      "Epoch 22/100 - Avg Train Loss: 1.2603 - Train Acc: 0.4181 - Train F1: 0.5194 - Train Recall: 0.4181\n"
     ]
    },
    {
     "name": "stderr",
     "output_type": "stream",
     "text": [
      "Epoch 23/100: 100%|██████████| 7703/7703 [00:33<00:00, 232.54it/s]\n"
     ]
    },
    {
     "name": "stdout",
     "output_type": "stream",
     "text": [
      "Epoch 23/100 - Avg Train Loss: 1.2603 - Train Acc: 0.5388 - Train F1: 0.6350 - Train Recall: 0.5388\n"
     ]
    },
    {
     "name": "stderr",
     "output_type": "stream",
     "text": [
      "Epoch 24/100: 100%|██████████| 7703/7703 [00:32<00:00, 236.13it/s]\n"
     ]
    },
    {
     "name": "stdout",
     "output_type": "stream",
     "text": [
      "Epoch 24/100 - Avg Train Loss: 1.2603 - Train Acc: 0.5127 - Train F1: 0.6121 - Train Recall: 0.5127\n"
     ]
    },
    {
     "name": "stderr",
     "output_type": "stream",
     "text": [
      "Epoch 25/100: 100%|██████████| 7703/7703 [00:33<00:00, 231.56it/s]\n"
     ]
    },
    {
     "name": "stdout",
     "output_type": "stream",
     "text": [
      "Epoch 25/100 - Avg Train Loss: 1.2603 - Train Acc: 0.5769 - Train F1: 0.6667 - Train Recall: 0.5769\n"
     ]
    },
    {
     "name": "stderr",
     "output_type": "stream",
     "text": [
      "Epoch 26/100: 100%|██████████| 7703/7703 [00:33<00:00, 231.38it/s]\n"
     ]
    },
    {
     "name": "stdout",
     "output_type": "stream",
     "text": [
      "Epoch 26/100 - Avg Train Loss: 1.2603 - Train Acc: 0.5676 - Train F1: 0.6591 - Train Recall: 0.5676\n"
     ]
    },
    {
     "name": "stderr",
     "output_type": "stream",
     "text": [
      "Epoch 27/100: 100%|██████████| 7703/7703 [00:32<00:00, 236.32it/s]\n"
     ]
    },
    {
     "name": "stdout",
     "output_type": "stream",
     "text": [
      "Epoch 27/100 - Avg Train Loss: 1.2603 - Train Acc: 0.3306 - Train F1: 0.4174 - Train Recall: 0.3306\n"
     ]
    },
    {
     "name": "stderr",
     "output_type": "stream",
     "text": [
      "Epoch 28/100: 100%|██████████| 7703/7703 [00:32<00:00, 237.83it/s]\n"
     ]
    },
    {
     "name": "stdout",
     "output_type": "stream",
     "text": [
      "Epoch 28/100 - Avg Train Loss: 1.2603 - Train Acc: 0.6230 - Train F1: 0.7024 - Train Recall: 0.6230\n"
     ]
    },
    {
     "name": "stderr",
     "output_type": "stream",
     "text": [
      "Epoch 29/100: 100%|██████████| 7703/7703 [00:32<00:00, 234.39it/s]\n"
     ]
    },
    {
     "name": "stdout",
     "output_type": "stream",
     "text": [
      "Epoch 29/100 - Avg Train Loss: 1.2603 - Train Acc: 0.7517 - Train F1: 0.7888 - Train Recall: 0.7517\n"
     ]
    },
    {
     "name": "stderr",
     "output_type": "stream",
     "text": [
      "Epoch 30/100: 100%|██████████| 7703/7703 [00:32<00:00, 234.96it/s]\n"
     ]
    },
    {
     "name": "stdout",
     "output_type": "stream",
     "text": [
      "Epoch 30/100 - Avg Train Loss: 1.2603 - Train Acc: 0.5181 - Train F1: 0.6169 - Train Recall: 0.5181\n"
     ]
    },
    {
     "name": "stderr",
     "output_type": "stream",
     "text": [
      "Validation: 100%|██████████| 2396/2396 [00:03<00:00, 672.07it/s]\n"
     ]
    },
    {
     "name": "stdout",
     "output_type": "stream",
     "text": [
      "Epoch Validation - Avg Loss: 0.7036 - Acc: 0.0016 - F1: 0.0000 - Recall: 0.0016\n",
      "Confusion Matrix:\n",
      " [[     0 306155]\n",
      " [     0    484]]\n"
     ]
    },
    {
     "name": "stderr",
     "output_type": "stream",
     "text": [
      "Epoch 31/100: 100%|██████████| 7703/7703 [00:32<00:00, 234.65it/s]\n"
     ]
    },
    {
     "name": "stdout",
     "output_type": "stream",
     "text": [
      "Epoch 31/100 - Avg Train Loss: 1.2603 - Train Acc: 0.4164 - Train F1: 0.5175 - Train Recall: 0.4164\n"
     ]
    },
    {
     "name": "stderr",
     "output_type": "stream",
     "text": [
      "Epoch 32/100: 100%|██████████| 7703/7703 [00:32<00:00, 236.97it/s]\n"
     ]
    },
    {
     "name": "stdout",
     "output_type": "stream",
     "text": [
      "Epoch 32/100 - Avg Train Loss: 1.2603 - Train Acc: 0.2572 - Train F1: 0.3170 - Train Recall: 0.2572\n"
     ]
    },
    {
     "name": "stderr",
     "output_type": "stream",
     "text": [
      "Epoch 33/100: 100%|██████████| 7703/7703 [00:32<00:00, 233.43it/s]\n"
     ]
    },
    {
     "name": "stdout",
     "output_type": "stream",
     "text": [
      "Epoch 33/100 - Avg Train Loss: 1.2603 - Train Acc: 0.6352 - Train F1: 0.7114 - Train Recall: 0.6352\n"
     ]
    },
    {
     "name": "stderr",
     "output_type": "stream",
     "text": [
      "Epoch 34/100: 100%|██████████| 7703/7703 [00:32<00:00, 234.23it/s]\n"
     ]
    },
    {
     "name": "stdout",
     "output_type": "stream",
     "text": [
      "Epoch 34/100 - Avg Train Loss: 1.2603 - Train Acc: 0.6844 - Train F1: 0.7459 - Train Recall: 0.6844\n"
     ]
    },
    {
     "name": "stderr",
     "output_type": "stream",
     "text": [
      "Epoch 35/100: 100%|██████████| 7703/7703 [00:33<00:00, 228.06it/s]\n"
     ]
    },
    {
     "name": "stdout",
     "output_type": "stream",
     "text": [
      "Epoch 35/100 - Avg Train Loss: 1.2603 - Train Acc: 0.4602 - Train F1: 0.5627 - Train Recall: 0.4602\n"
     ]
    },
    {
     "name": "stderr",
     "output_type": "stream",
     "text": [
      "Epoch 36/100: 100%|██████████| 7703/7703 [00:33<00:00, 228.60it/s]\n"
     ]
    },
    {
     "name": "stdout",
     "output_type": "stream",
     "text": [
      "Epoch 36/100 - Avg Train Loss: 1.2603 - Train Acc: 0.3058 - Train F1: 0.3852 - Train Recall: 0.3058\n"
     ]
    },
    {
     "name": "stderr",
     "output_type": "stream",
     "text": [
      "Epoch 37/100: 100%|██████████| 7703/7703 [00:33<00:00, 232.57it/s]\n"
     ]
    },
    {
     "name": "stdout",
     "output_type": "stream",
     "text": [
      "Epoch 37/100 - Avg Train Loss: 1.2603 - Train Acc: 0.6216 - Train F1: 0.7013 - Train Recall: 0.6216\n"
     ]
    },
    {
     "name": "stderr",
     "output_type": "stream",
     "text": [
      "Epoch 38/100: 100%|██████████| 7703/7703 [00:33<00:00, 227.54it/s]\n"
     ]
    },
    {
     "name": "stdout",
     "output_type": "stream",
     "text": [
      "Epoch 38/100 - Avg Train Loss: 1.2603 - Train Acc: 0.6496 - Train F1: 0.7218 - Train Recall: 0.6496\n"
     ]
    },
    {
     "name": "stderr",
     "output_type": "stream",
     "text": [
      "Epoch 39/100: 100%|██████████| 7703/7703 [00:33<00:00, 226.75it/s]\n"
     ]
    },
    {
     "name": "stdout",
     "output_type": "stream",
     "text": [
      "Epoch 39/100 - Avg Train Loss: 1.2603 - Train Acc: 0.3402 - Train F1: 0.4296 - Train Recall: 0.3402\n"
     ]
    },
    {
     "name": "stderr",
     "output_type": "stream",
     "text": [
      "Epoch 40/100: 100%|██████████| 7703/7703 [00:32<00:00, 234.89it/s]\n"
     ]
    },
    {
     "name": "stdout",
     "output_type": "stream",
     "text": [
      "Epoch 40/100 - Avg Train Loss: 1.2603 - Train Acc: 0.6407 - Train F1: 0.7154 - Train Recall: 0.6407\n"
     ]
    },
    {
     "name": "stderr",
     "output_type": "stream",
     "text": [
      "Validation: 100%|██████████| 2396/2396 [00:03<00:00, 629.98it/s]\n"
     ]
    },
    {
     "name": "stdout",
     "output_type": "stream",
     "text": [
      "Epoch Validation - Avg Loss: 0.7029 - Acc: 0.9984 - F1: 0.9976 - Recall: 0.9984\n",
      "Confusion Matrix:\n",
      " [[306155      0]\n",
      " [   484      0]]\n"
     ]
    },
    {
     "name": "stderr",
     "output_type": "stream",
     "text": [
      "Epoch 41/100: 100%|██████████| 7703/7703 [00:34<00:00, 224.82it/s]\n"
     ]
    },
    {
     "name": "stdout",
     "output_type": "stream",
     "text": [
      "Epoch 41/100 - Avg Train Loss: 1.2603 - Train Acc: 0.5899 - Train F1: 0.6771 - Train Recall: 0.5899\n"
     ]
    },
    {
     "name": "stderr",
     "output_type": "stream",
     "text": [
      "Epoch 42/100: 100%|██████████| 7703/7703 [00:29<00:00, 260.97it/s]\n"
     ]
    },
    {
     "name": "stdout",
     "output_type": "stream",
     "text": [
      "Epoch 42/100 - Avg Train Loss: 1.2603 - Train Acc: 0.6040 - Train F1: 0.6880 - Train Recall: 0.6040\n"
     ]
    },
    {
     "name": "stderr",
     "output_type": "stream",
     "text": [
      "Epoch 43/100: 100%|██████████| 7703/7703 [00:30<00:00, 256.19it/s]\n"
     ]
    },
    {
     "name": "stdout",
     "output_type": "stream",
     "text": [
      "Epoch 43/100 - Avg Train Loss: 1.2603 - Train Acc: 0.6323 - Train F1: 0.7093 - Train Recall: 0.6323\n"
     ]
    },
    {
     "name": "stderr",
     "output_type": "stream",
     "text": [
      "Epoch 44/100: 100%|██████████| 7703/7703 [00:34<00:00, 220.94it/s]\n"
     ]
    },
    {
     "name": "stdout",
     "output_type": "stream",
     "text": [
      "Epoch 44/100 - Avg Train Loss: 1.2603 - Train Acc: 0.2635 - Train F1: 0.3265 - Train Recall: 0.2635\n"
     ]
    },
    {
     "name": "stderr",
     "output_type": "stream",
     "text": [
      "Epoch 45/100: 100%|██████████| 7703/7703 [00:33<00:00, 230.57it/s]\n"
     ]
    },
    {
     "name": "stdout",
     "output_type": "stream",
     "text": [
      "Epoch 45/100 - Avg Train Loss: 1.2603 - Train Acc: 0.3687 - Train F1: 0.4640 - Train Recall: 0.3687\n"
     ]
    },
    {
     "name": "stderr",
     "output_type": "stream",
     "text": [
      "Epoch 46/100: 100%|██████████| 7703/7703 [00:39<00:00, 197.00it/s]\n"
     ]
    },
    {
     "name": "stdout",
     "output_type": "stream",
     "text": [
      "Epoch 46/100 - Avg Train Loss: 1.2603 - Train Acc: 0.4678 - Train F1: 0.5701 - Train Recall: 0.4678\n"
     ]
    },
    {
     "name": "stderr",
     "output_type": "stream",
     "text": [
      "Epoch 47/100: 100%|██████████| 7703/7703 [00:36<00:00, 212.33it/s]\n"
     ]
    },
    {
     "name": "stdout",
     "output_type": "stream",
     "text": [
      "Epoch 47/100 - Avg Train Loss: 1.2603 - Train Acc: 0.6349 - Train F1: 0.7112 - Train Recall: 0.6349\n"
     ]
    },
    {
     "name": "stderr",
     "output_type": "stream",
     "text": [
      "Epoch 48/100: 100%|██████████| 7703/7703 [00:36<00:00, 209.28it/s]\n"
     ]
    },
    {
     "name": "stdout",
     "output_type": "stream",
     "text": [
      "Epoch 48/100 - Avg Train Loss: 1.2603 - Train Acc: 0.5259 - Train F1: 0.6238 - Train Recall: 0.5259\n"
     ]
    },
    {
     "name": "stderr",
     "output_type": "stream",
     "text": [
      "Epoch 49/100: 100%|██████████| 7703/7703 [00:36<00:00, 208.50it/s]\n"
     ]
    },
    {
     "name": "stdout",
     "output_type": "stream",
     "text": [
      "Epoch 49/100 - Avg Train Loss: 1.2603 - Train Acc: 0.4411 - Train F1: 0.5434 - Train Recall: 0.4411\n"
     ]
    },
    {
     "name": "stderr",
     "output_type": "stream",
     "text": [
      "Epoch 50/100: 100%|██████████| 7703/7703 [00:36<00:00, 208.42it/s]\n"
     ]
    },
    {
     "name": "stdout",
     "output_type": "stream",
     "text": [
      "Epoch 50/100 - Avg Train Loss: 1.2603 - Train Acc: 0.2139 - Train F1: 0.2492 - Train Recall: 0.2139\n"
     ]
    },
    {
     "name": "stderr",
     "output_type": "stream",
     "text": [
      "Validation: 100%|██████████| 2396/2396 [00:03<00:00, 600.79it/s]\n"
     ]
    },
    {
     "name": "stdout",
     "output_type": "stream",
     "text": [
      "Epoch Validation - Avg Loss: 0.7005 - Acc: 0.9984 - F1: 0.9976 - Recall: 0.9984\n",
      "Confusion Matrix:\n",
      " [[306155      0]\n",
      " [   484      0]]\n"
     ]
    },
    {
     "name": "stderr",
     "output_type": "stream",
     "text": [
      "Epoch 51/100: 100%|██████████| 7703/7703 [00:37<00:00, 206.01it/s]\n"
     ]
    },
    {
     "name": "stdout",
     "output_type": "stream",
     "text": [
      "Epoch 51/100 - Avg Train Loss: 1.2603 - Train Acc: 0.6967 - Train F1: 0.7542 - Train Recall: 0.6967\n"
     ]
    },
    {
     "name": "stderr",
     "output_type": "stream",
     "text": [
      "Epoch 52/100: 100%|██████████| 7703/7703 [00:37<00:00, 207.46it/s]\n"
     ]
    },
    {
     "name": "stdout",
     "output_type": "stream",
     "text": [
      "Epoch 52/100 - Avg Train Loss: 1.2603 - Train Acc: 0.4606 - Train F1: 0.5630 - Train Recall: 0.4606\n"
     ]
    },
    {
     "name": "stderr",
     "output_type": "stream",
     "text": [
      "Epoch 53/100: 100%|██████████| 7703/7703 [00:37<00:00, 206.64it/s]\n"
     ]
    },
    {
     "name": "stdout",
     "output_type": "stream",
     "text": [
      "Epoch 53/100 - Avg Train Loss: 1.2603 - Train Acc: 0.6025 - Train F1: 0.6868 - Train Recall: 0.6025\n"
     ]
    },
    {
     "name": "stderr",
     "output_type": "stream",
     "text": [
      "Epoch 54/100: 100%|██████████| 7703/7703 [00:37<00:00, 205.76it/s]\n"
     ]
    },
    {
     "name": "stdout",
     "output_type": "stream",
     "text": [
      "Epoch 54/100 - Avg Train Loss: 1.2603 - Train Acc: 0.4040 - Train F1: 0.5041 - Train Recall: 0.4040\n"
     ]
    },
    {
     "name": "stderr",
     "output_type": "stream",
     "text": [
      "Epoch 55/100: 100%|██████████| 7703/7703 [00:36<00:00, 210.23it/s]\n"
     ]
    },
    {
     "name": "stdout",
     "output_type": "stream",
     "text": [
      "Epoch 55/100 - Avg Train Loss: 1.2603 - Train Acc: 0.4062 - Train F1: 0.5067 - Train Recall: 0.4062\n"
     ]
    },
    {
     "name": "stderr",
     "output_type": "stream",
     "text": [
      "Epoch 56/100: 100%|██████████| 7703/7703 [00:37<00:00, 203.05it/s]\n"
     ]
    },
    {
     "name": "stdout",
     "output_type": "stream",
     "text": [
      "Epoch 56/100 - Avg Train Loss: 1.2603 - Train Acc: 0.6432 - Train F1: 0.7172 - Train Recall: 0.6432\n"
     ]
    },
    {
     "name": "stderr",
     "output_type": "stream",
     "text": [
      "Epoch 57/100: 100%|██████████| 7703/7703 [00:36<00:00, 209.67it/s]\n"
     ]
    },
    {
     "name": "stdout",
     "output_type": "stream",
     "text": [
      "Epoch 57/100 - Avg Train Loss: 1.2603 - Train Acc: 0.4210 - Train F1: 0.5224 - Train Recall: 0.4210\n"
     ]
    },
    {
     "name": "stderr",
     "output_type": "stream",
     "text": [
      "Epoch 58/100: 100%|██████████| 7703/7703 [00:36<00:00, 208.28it/s]\n"
     ]
    },
    {
     "name": "stdout",
     "output_type": "stream",
     "text": [
      "Epoch 58/100 - Avg Train Loss: 1.2603 - Train Acc: 0.7991 - Train F1: 0.8160 - Train Recall: 0.7991\n"
     ]
    },
    {
     "name": "stderr",
     "output_type": "stream",
     "text": [
      "Epoch 59/100: 100%|██████████| 7703/7703 [00:36<00:00, 208.22it/s]\n"
     ]
    },
    {
     "name": "stdout",
     "output_type": "stream",
     "text": [
      "Epoch 59/100 - Avg Train Loss: 1.2603 - Train Acc: 0.3550 - Train F1: 0.4477 - Train Recall: 0.3550\n"
     ]
    },
    {
     "name": "stderr",
     "output_type": "stream",
     "text": [
      "Epoch 60/100: 100%|██████████| 7703/7703 [00:37<00:00, 206.70it/s]\n"
     ]
    },
    {
     "name": "stdout",
     "output_type": "stream",
     "text": [
      "Epoch 60/100 - Avg Train Loss: 1.2603 - Train Acc: 0.4939 - Train F1: 0.5949 - Train Recall: 0.4939\n"
     ]
    },
    {
     "name": "stderr",
     "output_type": "stream",
     "text": [
      "Validation: 100%|██████████| 2396/2396 [00:03<00:00, 607.15it/s]\n"
     ]
    },
    {
     "name": "stdout",
     "output_type": "stream",
     "text": [
      "Epoch Validation - Avg Loss: 0.7032 - Acc: 0.0016 - F1: 0.0000 - Recall: 0.0016\n",
      "Confusion Matrix:\n",
      " [[     0 306155]\n",
      " [     0    484]]\n"
     ]
    },
    {
     "name": "stderr",
     "output_type": "stream",
     "text": [
      "Epoch 61/100: 100%|██████████| 7703/7703 [00:36<00:00, 210.62it/s]\n"
     ]
    },
    {
     "name": "stdout",
     "output_type": "stream",
     "text": [
      "Epoch 61/100 - Avg Train Loss: 1.2603 - Train Acc: 0.5603 - Train F1: 0.6531 - Train Recall: 0.5603\n"
     ]
    },
    {
     "name": "stderr",
     "output_type": "stream",
     "text": [
      "Epoch 62/100: 100%|██████████| 7703/7703 [00:36<00:00, 211.28it/s]\n"
     ]
    },
    {
     "name": "stdout",
     "output_type": "stream",
     "text": [
      "Epoch 62/100 - Avg Train Loss: 1.2603 - Train Acc: 0.5880 - Train F1: 0.6756 - Train Recall: 0.5880\n"
     ]
    },
    {
     "name": "stderr",
     "output_type": "stream",
     "text": [
      "Epoch 63/100: 100%|██████████| 7703/7703 [00:36<00:00, 211.10it/s]\n"
     ]
    },
    {
     "name": "stdout",
     "output_type": "stream",
     "text": [
      "Epoch 63/100 - Avg Train Loss: 1.2603 - Train Acc: 0.3562 - Train F1: 0.4492 - Train Recall: 0.3562\n"
     ]
    },
    {
     "name": "stderr",
     "output_type": "stream",
     "text": [
      "Epoch 64/100: 100%|██████████| 7703/7703 [00:35<00:00, 214.98it/s]\n"
     ]
    },
    {
     "name": "stdout",
     "output_type": "stream",
     "text": [
      "Epoch 64/100 - Avg Train Loss: 1.2603 - Train Acc: 0.8375 - Train F1: 0.8361 - Train Recall: 0.8375\n"
     ]
    },
    {
     "name": "stderr",
     "output_type": "stream",
     "text": [
      "Epoch 65/100: 100%|██████████| 7703/7703 [00:35<00:00, 217.39it/s]\n"
     ]
    },
    {
     "name": "stdout",
     "output_type": "stream",
     "text": [
      "Epoch 65/100 - Avg Train Loss: 1.2603 - Train Acc: 0.3555 - Train F1: 0.4485 - Train Recall: 0.3555\n"
     ]
    },
    {
     "name": "stderr",
     "output_type": "stream",
     "text": [
      "Epoch 66/100: 100%|██████████| 7703/7703 [00:36<00:00, 213.08it/s]\n"
     ]
    },
    {
     "name": "stdout",
     "output_type": "stream",
     "text": [
      "Epoch 66/100 - Avg Train Loss: 1.2603 - Train Acc: 0.4633 - Train F1: 0.5657 - Train Recall: 0.4633\n"
     ]
    },
    {
     "name": "stderr",
     "output_type": "stream",
     "text": [
      "Epoch 67/100: 100%|██████████| 7703/7703 [00:36<00:00, 213.40it/s]\n"
     ]
    },
    {
     "name": "stdout",
     "output_type": "stream",
     "text": [
      "Epoch 67/100 - Avg Train Loss: 1.2603 - Train Acc: 0.2536 - Train F1: 0.3114 - Train Recall: 0.2536\n"
     ]
    },
    {
     "name": "stderr",
     "output_type": "stream",
     "text": [
      "Epoch 68/100: 100%|██████████| 7703/7703 [00:35<00:00, 217.66it/s]\n"
     ]
    },
    {
     "name": "stdout",
     "output_type": "stream",
     "text": [
      "Epoch 68/100 - Avg Train Loss: 1.2603 - Train Acc: 0.7855 - Train F1: 0.8085 - Train Recall: 0.7855\n"
     ]
    },
    {
     "name": "stderr",
     "output_type": "stream",
     "text": [
      "Epoch 69/100: 100%|██████████| 7703/7703 [00:35<00:00, 219.68it/s]\n"
     ]
    },
    {
     "name": "stdout",
     "output_type": "stream",
     "text": [
      "Epoch 69/100 - Avg Train Loss: 1.2603 - Train Acc: 0.2099 - Train F1: 0.2426 - Train Recall: 0.2099\n"
     ]
    },
    {
     "name": "stderr",
     "output_type": "stream",
     "text": [
      "Epoch 70/100: 100%|██████████| 7703/7703 [00:35<00:00, 218.66it/s]\n"
     ]
    },
    {
     "name": "stdout",
     "output_type": "stream",
     "text": [
      "Epoch 70/100 - Avg Train Loss: 1.2603 - Train Acc: 0.6673 - Train F1: 0.7343 - Train Recall: 0.6673\n"
     ]
    },
    {
     "name": "stderr",
     "output_type": "stream",
     "text": [
      "Validation: 100%|██████████| 2396/2396 [00:03<00:00, 651.11it/s]\n"
     ]
    },
    {
     "name": "stdout",
     "output_type": "stream",
     "text": [
      "Epoch Validation - Avg Loss: 0.7021 - Acc: 0.9984 - F1: 0.9976 - Recall: 0.9984\n",
      "Confusion Matrix:\n",
      " [[306155      0]\n",
      " [   484      0]]\n"
     ]
    },
    {
     "name": "stderr",
     "output_type": "stream",
     "text": [
      "Epoch 71/100: 100%|██████████| 7703/7703 [00:35<00:00, 216.31it/s]\n"
     ]
    },
    {
     "name": "stdout",
     "output_type": "stream",
     "text": [
      "Epoch 71/100 - Avg Train Loss: 1.2603 - Train Acc: 0.7188 - Train F1: 0.7685 - Train Recall: 0.7188\n"
     ]
    },
    {
     "name": "stderr",
     "output_type": "stream",
     "text": [
      "Epoch 72/100: 100%|██████████| 7703/7703 [00:34<00:00, 220.51it/s]\n"
     ]
    },
    {
     "name": "stdout",
     "output_type": "stream",
     "text": [
      "Epoch 72/100 - Avg Train Loss: 1.2603 - Train Acc: 0.4137 - Train F1: 0.5148 - Train Recall: 0.4137\n"
     ]
    },
    {
     "name": "stderr",
     "output_type": "stream",
     "text": [
      "Epoch 73/100: 100%|██████████| 7703/7703 [00:34<00:00, 223.61it/s]\n"
     ]
    },
    {
     "name": "stdout",
     "output_type": "stream",
     "text": [
      "Epoch 73/100 - Avg Train Loss: 1.2603 - Train Acc: 0.4654 - Train F1: 0.5677 - Train Recall: 0.4654\n"
     ]
    },
    {
     "name": "stderr",
     "output_type": "stream",
     "text": [
      "Epoch 74/100: 100%|██████████| 7703/7703 [00:36<00:00, 210.21it/s]\n"
     ]
    },
    {
     "name": "stdout",
     "output_type": "stream",
     "text": [
      "Epoch 74/100 - Avg Train Loss: 1.2603 - Train Acc: 0.4358 - Train F1: 0.5380 - Train Recall: 0.4358\n"
     ]
    },
    {
     "name": "stderr",
     "output_type": "stream",
     "text": [
      "Epoch 75/100: 100%|██████████| 7703/7703 [00:36<00:00, 212.25it/s]\n"
     ]
    },
    {
     "name": "stdout",
     "output_type": "stream",
     "text": [
      "Epoch 75/100 - Avg Train Loss: 1.2603 - Train Acc: 0.5119 - Train F1: 0.6114 - Train Recall: 0.5119\n"
     ]
    },
    {
     "name": "stderr",
     "output_type": "stream",
     "text": [
      "Epoch 76/100: 100%|██████████| 7703/7703 [00:35<00:00, 214.13it/s]\n"
     ]
    },
    {
     "name": "stdout",
     "output_type": "stream",
     "text": [
      "Epoch 76/100 - Avg Train Loss: 1.2603 - Train Acc: 0.4385 - Train F1: 0.5408 - Train Recall: 0.4385\n"
     ]
    },
    {
     "name": "stderr",
     "output_type": "stream",
     "text": [
      "Epoch 77/100: 100%|██████████| 7703/7703 [00:36<00:00, 211.11it/s]\n"
     ]
    },
    {
     "name": "stdout",
     "output_type": "stream",
     "text": [
      "Epoch 77/100 - Avg Train Loss: 1.2603 - Train Acc: 0.4056 - Train F1: 0.5058 - Train Recall: 0.4056\n"
     ]
    },
    {
     "name": "stderr",
     "output_type": "stream",
     "text": [
      "Epoch 78/100: 100%|██████████| 7703/7703 [00:35<00:00, 215.23it/s]\n"
     ]
    },
    {
     "name": "stdout",
     "output_type": "stream",
     "text": [
      "Epoch 78/100 - Avg Train Loss: 1.2603 - Train Acc: 0.6935 - Train F1: 0.7521 - Train Recall: 0.6935\n"
     ]
    },
    {
     "name": "stderr",
     "output_type": "stream",
     "text": [
      "Epoch 79/100: 100%|██████████| 7703/7703 [00:35<00:00, 214.16it/s]\n"
     ]
    },
    {
     "name": "stdout",
     "output_type": "stream",
     "text": [
      "Epoch 79/100 - Avg Train Loss: 1.2603 - Train Acc: 0.5202 - Train F1: 0.6188 - Train Recall: 0.5202\n"
     ]
    },
    {
     "name": "stderr",
     "output_type": "stream",
     "text": [
      "Epoch 80/100: 100%|██████████| 7703/7703 [00:36<00:00, 212.19it/s]\n"
     ]
    },
    {
     "name": "stdout",
     "output_type": "stream",
     "text": [
      "Epoch 80/100 - Avg Train Loss: 1.2603 - Train Acc: 0.4962 - Train F1: 0.5970 - Train Recall: 0.4962\n"
     ]
    },
    {
     "name": "stderr",
     "output_type": "stream",
     "text": [
      "Validation: 100%|██████████| 2396/2396 [00:03<00:00, 642.85it/s]\n"
     ]
    },
    {
     "name": "stdout",
     "output_type": "stream",
     "text": [
      "Epoch Validation - Avg Loss: 0.7043 - Acc: 0.0016 - F1: 0.0000 - Recall: 0.0016\n",
      "Confusion Matrix:\n",
      " [[     0 306155]\n",
      " [     0    484]]\n"
     ]
    },
    {
     "name": "stderr",
     "output_type": "stream",
     "text": [
      "Epoch 81/100: 100%|██████████| 7703/7703 [00:36<00:00, 210.06it/s]\n"
     ]
    },
    {
     "name": "stdout",
     "output_type": "stream",
     "text": [
      "Epoch 81/100 - Avg Train Loss: 1.2603 - Train Acc: 0.3273 - Train F1: 0.4133 - Train Recall: 0.3273\n"
     ]
    },
    {
     "name": "stderr",
     "output_type": "stream",
     "text": [
      "Epoch 82/100: 100%|██████████| 7703/7703 [00:33<00:00, 231.70it/s]\n"
     ]
    },
    {
     "name": "stdout",
     "output_type": "stream",
     "text": [
      "Epoch 82/100 - Avg Train Loss: 1.2603 - Train Acc: 0.6398 - Train F1: 0.7148 - Train Recall: 0.6398\n"
     ]
    },
    {
     "name": "stderr",
     "output_type": "stream",
     "text": [
      "Epoch 83/100: 100%|██████████| 7703/7703 [00:30<00:00, 250.61it/s]\n"
     ]
    },
    {
     "name": "stdout",
     "output_type": "stream",
     "text": [
      "Epoch 83/100 - Avg Train Loss: 1.2603 - Train Acc: 0.7508 - Train F1: 0.7883 - Train Recall: 0.7508\n"
     ]
    },
    {
     "name": "stderr",
     "output_type": "stream",
     "text": [
      "Epoch 84/100: 100%|██████████| 7703/7703 [00:35<00:00, 219.38it/s]\n"
     ]
    },
    {
     "name": "stdout",
     "output_type": "stream",
     "text": [
      "Epoch 84/100 - Avg Train Loss: 1.2603 - Train Acc: 0.3781 - Train F1: 0.4750 - Train Recall: 0.3781\n"
     ]
    },
    {
     "name": "stderr",
     "output_type": "stream",
     "text": [
      "Epoch 85/100: 100%|██████████| 7703/7703 [00:33<00:00, 227.60it/s]\n"
     ]
    },
    {
     "name": "stdout",
     "output_type": "stream",
     "text": [
      "Epoch 85/100 - Avg Train Loss: 1.2603 - Train Acc: 0.3612 - Train F1: 0.4552 - Train Recall: 0.3612\n"
     ]
    },
    {
     "name": "stderr",
     "output_type": "stream",
     "text": [
      "Epoch 86/100: 100%|██████████| 7703/7703 [00:33<00:00, 227.75it/s]\n"
     ]
    },
    {
     "name": "stdout",
     "output_type": "stream",
     "text": [
      "Epoch 86/100 - Avg Train Loss: 1.2603 - Train Acc: 0.5905 - Train F1: 0.6775 - Train Recall: 0.5905\n"
     ]
    },
    {
     "name": "stderr",
     "output_type": "stream",
     "text": [
      "Epoch 87/100: 100%|██████████| 7703/7703 [00:36<00:00, 208.21it/s]\n"
     ]
    },
    {
     "name": "stdout",
     "output_type": "stream",
     "text": [
      "Epoch 87/100 - Avg Train Loss: 1.2603 - Train Acc: 0.3629 - Train F1: 0.4571 - Train Recall: 0.3629\n"
     ]
    },
    {
     "name": "stderr",
     "output_type": "stream",
     "text": [
      "Epoch 88/100: 100%|██████████| 7703/7703 [00:34<00:00, 221.21it/s]\n"
     ]
    },
    {
     "name": "stdout",
     "output_type": "stream",
     "text": [
      "Epoch 88/100 - Avg Train Loss: 1.2603 - Train Acc: 0.7455 - Train F1: 0.7850 - Train Recall: 0.7455\n"
     ]
    },
    {
     "name": "stderr",
     "output_type": "stream",
     "text": [
      "Epoch 89/100: 100%|██████████| 7703/7703 [00:33<00:00, 231.82it/s]\n"
     ]
    },
    {
     "name": "stdout",
     "output_type": "stream",
     "text": [
      "Epoch 89/100 - Avg Train Loss: 1.2603 - Train Acc: 0.4922 - Train F1: 0.5933 - Train Recall: 0.4922\n"
     ]
    },
    {
     "name": "stderr",
     "output_type": "stream",
     "text": [
      "Epoch 90/100: 100%|██████████| 7703/7703 [00:32<00:00, 235.43it/s]\n"
     ]
    },
    {
     "name": "stdout",
     "output_type": "stream",
     "text": [
      "Epoch 90/100 - Avg Train Loss: 1.2603 - Train Acc: 0.5637 - Train F1: 0.6559 - Train Recall: 0.5637\n"
     ]
    },
    {
     "name": "stderr",
     "output_type": "stream",
     "text": [
      "Validation: 100%|██████████| 2396/2396 [00:03<00:00, 669.27it/s]\n"
     ]
    },
    {
     "name": "stdout",
     "output_type": "stream",
     "text": [
      "Epoch Validation - Avg Loss: 0.7046 - Acc: 0.0016 - F1: 0.0000 - Recall: 0.0016\n",
      "Confusion Matrix:\n",
      " [[     0 306155]\n",
      " [     0    484]]\n"
     ]
    },
    {
     "name": "stderr",
     "output_type": "stream",
     "text": [
      "Epoch 91/100: 100%|██████████| 7703/7703 [00:33<00:00, 230.25it/s]\n"
     ]
    },
    {
     "name": "stdout",
     "output_type": "stream",
     "text": [
      "Epoch 91/100 - Avg Train Loss: 1.2603 - Train Acc: 0.4932 - Train F1: 0.5941 - Train Recall: 0.4932\n"
     ]
    },
    {
     "name": "stderr",
     "output_type": "stream",
     "text": [
      "Epoch 92/100: 100%|██████████| 7703/7703 [00:32<00:00, 240.26it/s]\n"
     ]
    },
    {
     "name": "stdout",
     "output_type": "stream",
     "text": [
      "Epoch 92/100 - Avg Train Loss: 1.2603 - Train Acc: 0.4068 - Train F1: 0.5071 - Train Recall: 0.4068\n"
     ]
    },
    {
     "name": "stderr",
     "output_type": "stream",
     "text": [
      "Epoch 93/100: 100%|██████████| 7703/7703 [00:33<00:00, 232.67it/s]\n"
     ]
    },
    {
     "name": "stdout",
     "output_type": "stream",
     "text": [
      "Epoch 93/100 - Avg Train Loss: 1.2603 - Train Acc: 0.4964 - Train F1: 0.5972 - Train Recall: 0.4964\n"
     ]
    },
    {
     "name": "stderr",
     "output_type": "stream",
     "text": [
      "Epoch 94/100: 100%|██████████| 7703/7703 [00:37<00:00, 205.12it/s]\n"
     ]
    },
    {
     "name": "stdout",
     "output_type": "stream",
     "text": [
      "Epoch 94/100 - Avg Train Loss: 1.2603 - Train Acc: 0.4099 - Train F1: 0.5105 - Train Recall: 0.4099\n"
     ]
    },
    {
     "name": "stderr",
     "output_type": "stream",
     "text": [
      "Epoch 95/100: 100%|██████████| 7703/7703 [00:35<00:00, 214.34it/s]\n"
     ]
    },
    {
     "name": "stdout",
     "output_type": "stream",
     "text": [
      "Epoch 95/100 - Avg Train Loss: 1.2603 - Train Acc: 0.5059 - Train F1: 0.6059 - Train Recall: 0.5059\n"
     ]
    },
    {
     "name": "stderr",
     "output_type": "stream",
     "text": [
      "Epoch 96/100: 100%|██████████| 7703/7703 [00:35<00:00, 215.78it/s]\n"
     ]
    },
    {
     "name": "stdout",
     "output_type": "stream",
     "text": [
      "Epoch 96/100 - Avg Train Loss: 1.2603 - Train Acc: 0.6576 - Train F1: 0.7275 - Train Recall: 0.6576\n"
     ]
    },
    {
     "name": "stderr",
     "output_type": "stream",
     "text": [
      "Epoch 97/100: 100%|██████████| 7703/7703 [00:34<00:00, 220.74it/s]\n"
     ]
    },
    {
     "name": "stdout",
     "output_type": "stream",
     "text": [
      "Epoch 97/100 - Avg Train Loss: 1.2603 - Train Acc: 0.7372 - Train F1: 0.7800 - Train Recall: 0.7372\n"
     ]
    },
    {
     "name": "stderr",
     "output_type": "stream",
     "text": [
      "Epoch 98/100: 100%|██████████| 7703/7703 [00:34<00:00, 221.18it/s]\n"
     ]
    },
    {
     "name": "stdout",
     "output_type": "stream",
     "text": [
      "Epoch 98/100 - Avg Train Loss: 1.2603 - Train Acc: 0.4736 - Train F1: 0.5757 - Train Recall: 0.4736\n"
     ]
    },
    {
     "name": "stderr",
     "output_type": "stream",
     "text": [
      "Epoch 99/100: 100%|██████████| 7703/7703 [00:35<00:00, 214.15it/s]\n"
     ]
    },
    {
     "name": "stdout",
     "output_type": "stream",
     "text": [
      "Epoch 99/100 - Avg Train Loss: 1.2603 - Train Acc: 0.3495 - Train F1: 0.4412 - Train Recall: 0.3495\n"
     ]
    },
    {
     "name": "stderr",
     "output_type": "stream",
     "text": [
      "Epoch 100/100: 100%|██████████| 7703/7703 [00:34<00:00, 223.11it/s]\n"
     ]
    },
    {
     "name": "stdout",
     "output_type": "stream",
     "text": [
      "Epoch 100/100 - Avg Train Loss: 1.2603 - Train Acc: 0.5210 - Train F1: 0.6195 - Train Recall: 0.5210\n"
     ]
    },
    {
     "name": "stderr",
     "output_type": "stream",
     "text": [
      "Validation: 100%|██████████| 2396/2396 [00:03<00:00, 614.72it/s]\n"
     ]
    },
    {
     "name": "stdout",
     "output_type": "stream",
     "text": [
      "Epoch Validation - Avg Loss: 0.7016 - Acc: 0.9984 - F1: 0.9976 - Recall: 0.9984\n",
      "Confusion Matrix:\n",
      " [[306155      0]\n",
      " [   484      0]]\n"
     ]
    }
   ],
   "source": [
    "for epoch in range(num_epochs):\n",
    "    model.train()\n",
    "    epoch_loss = 0\n",
    "    total_batches = 0\n",
    "\n",
    "    train_preds = []\n",
    "    train_labels = []\n",
    "\n",
    "    # 학습\n",
    "    for batch in tqdm(train_loader, desc=f\"Epoch {epoch + 1}/{num_epochs}\"):\n",
    "        cat_x, num_x, y = batch\n",
    "\n",
    "        optimizer.zero_grad()\n",
    "        output = model(cat_x.to(device), num_x.to(device)).squeeze(1)\n",
    "        y = y.view(-1)\n",
    "\n",
    "        loss = criterion(output, y.to(device))\n",
    "        l1_loss = 0\n",
    "        for param in model.parameters():\n",
    "            l1_loss += torch.abs(param).sum()\n",
    "\n",
    "        #loss += l1_loss * l1_lambda\n",
    "\n",
    "        loss.backward()\n",
    "        optimizer.step()\n",
    "\n",
    "        epoch_loss += loss.item()\n",
    "        total_batches += 1\n",
    "\n",
    "        preds = torch.sigmoid(output.detach()).cpu().numpy()\n",
    "        preds = (preds > 0.5).astype(int)\n",
    "        train_preds.extend(preds)\n",
    "        train_labels.extend(y.cpu().numpy())\n",
    "\n",
    "    # 평균 Loss 계산\n",
    "    avg_epoch_loss = epoch_loss / total_batches\n",
    "\n",
    "    # Training Metrics 계산\n",
    "    train_accuracy = accuracy_score(train_labels, train_preds)\n",
    "    train_f1 = f1_score(train_labels, train_preds, average='weighted')\n",
    "    train_recall = recall_score(train_labels, train_preds, average='weighted')\n",
    "\n",
    "    print(f\"Epoch {epoch + 1}/{num_epochs} - Avg Train Loss: {avg_epoch_loss:.4f} - Train Acc: {train_accuracy:.4f} - Train F1: {train_f1:.4f} - Train Recall: {train_recall:.4f}\")\n",
    "\n",
    "    if (epoch+1) % 10 == 0:\n",
    "        model.eval()\n",
    "        valid_loss = 0\n",
    "        total_batches = 0\n",
    "        valid_preds = []\n",
    "        valid_labels = []\n",
    "\n",
    "        with torch.no_grad():\n",
    "            for batch in tqdm(valid_loader, desc=\"Validation\"):\n",
    "                cat_x, num_x, y = batch\n",
    "\n",
    "                output = model(cat_x.to(device), num_x.to(device)).squeeze(1)\n",
    "                y = y.view(-1)\n",
    "\n",
    "                loss = criterion(output, y.to(device))\n",
    "\n",
    "                valid_loss += loss.item()\n",
    "                total_batches += 1\n",
    "\n",
    "                preds = torch.sigmoid(output.detach()).cpu().numpy()\n",
    "                preds = (preds > 0.5).astype(int)\n",
    "                valid_preds.extend(preds)\n",
    "                valid_labels.extend(y.cpu().numpy())\n",
    "\n",
    "        avg_valid_loss = valid_loss / total_batches\n",
    "\n",
    "        # Validation Metrics 계산\n",
    "        valid_accuracy = accuracy_score(valid_labels, valid_preds)\n",
    "        valid_f1 = f1_score(valid_labels, valid_preds, average='weighted')\n",
    "        valid_recall = recall_score(valid_labels, valid_preds, average='weighted')\n",
    "\n",
    "        print(f\"Epoch Validation - Avg Loss: {avg_valid_loss:.4f} - Acc: {valid_accuracy:.4f} - F1: {valid_f1:.4f} - Recall: {valid_recall:.4f}\")\n",
    "        print(\"Confusion Matrix:\\n\", confusion_matrix(valid_labels, valid_preds))"
   ]
  },
  {
   "cell_type": "code",
   "execution_count": 14,
   "id": "b631f222fa83c5f1",
   "metadata": {
    "ExecuteTime": {
     "end_time": "2024-12-01T13:23:21.382567Z",
     "start_time": "2024-12-01T13:23:17.419651Z"
    }
   },
   "outputs": [
    {
     "name": "stderr",
     "output_type": "stream",
     "text": [
      "Validation: 100%|██████████| 2396/2396 [00:03<00:00, 681.78it/s]\n"
     ]
    },
    {
     "name": "stdout",
     "output_type": "stream",
     "text": [
      "Final Validation - Avg Loss: 0.7016 - Acc: 0.9984 - F1: 0.9976 - Recall: 0.9984\n"
     ]
    }
   ],
   "source": [
    "# Validation (모든 epoch 종료 후 실행)\n",
    "model.eval()\n",
    "valid_loss = 0\n",
    "total_batches = 0\n",
    "valid_preds = []\n",
    "valid_labels = []\n",
    "\n",
    "with torch.no_grad():\n",
    "    for batch in tqdm(valid_loader, desc=\"Validation\"):\n",
    "        cat_x, num_x, y = batch\n",
    "\n",
    "        output = model(cat_x.to(device), num_x.to(device)).squeeze(1)\n",
    "        y = y.view(-1)\n",
    "\n",
    "        loss = criterion(output, y.to(device))\n",
    "\n",
    "        valid_loss += loss.item()\n",
    "        total_batches += 1\n",
    "\n",
    "        preds = torch.sigmoid(output.detach()).cpu().numpy()\n",
    "        preds = (preds > 0.5).astype(int)\n",
    "        valid_preds.extend(preds)\n",
    "        valid_labels.extend(y.cpu().numpy())\n",
    "\n",
    "avg_valid_loss = valid_loss / total_batches\n",
    "\n",
    "# Validation Metrics 계산\n",
    "valid_accuracy = accuracy_score(valid_labels, valid_preds)\n",
    "valid_f1 = f1_score(valid_labels, valid_preds, average='weighted')\n",
    "valid_recall = recall_score(valid_labels, valid_preds, average='weighted')\n",
    "\n",
    "print(f\"Final Validation - Avg Loss: {avg_valid_loss:.4f} - Acc: {valid_accuracy:.4f} - F1: {valid_f1:.4f} - Recall: {valid_recall:.4f}\")\n"
   ]
  },
  {
   "cell_type": "code",
   "execution_count": 15,
   "id": "873353dc47bcf9f8",
   "metadata": {
    "ExecuteTime": {
     "end_time": "2024-12-01T13:23:23.018641Z",
     "start_time": "2024-12-01T13:23:21.937384Z"
    }
   },
   "outputs": [
    {
     "name": "stdout",
     "output_type": "stream",
     "text": [
      "Confusion Matrix:\n",
      " [[306155      0]\n",
      " [   484      0]]\n"
     ]
    },
    {
     "data": {
      "image/png": "[encoded data removed]",
      "text/plain": [
       "<Figure size 800x600 with 2 Axes>"
      ]
     },
     "metadata": {},
     "output_type": "display_data"
    }
   ],
   "source": [
    "print(\"Confusion Matrix:\\n\", confusion_matrix(valid_labels, valid_preds))\n",
    "plot_confusion_heatmap(\n",
    "    y_true=valid_labels,\n",
    "    y_pred=valid_preds,\n",
    "    class_names=[\"Not Fraud\", \"Fraud\"],\n",
    "    title=\"Base Model Validation Confusion Matrix\",\n",
    "    cmap=\"Blues\"\n",
    ")"
   ]
  },
  {
   "cell_type": "code",
   "execution_count": 40,
   "id": "186d332207aa13e9",
   "metadata": {
    "ExecuteTime": {
     "end_time": "2024-12-01T06:52:16.784306Z",
     "start_time": "2024-12-01T06:52:16.612453Z"
    }
   },
   "outputs": [
    {
     "name": "stdout",
     "output_type": "stream",
     "text": [
      "Confusion Matrix:\n",
      " [[     0 114890]\n",
      " [     0    182]]\n"
     ]
    }
   ],
   "source": []
  },
  {
   "cell_type": "code",
   "execution_count": null,
   "id": "de85414ea1209bfb",
   "metadata": {},
   "outputs": [],
   "source": []
  }
 ],
 "metadata": {
  "kernelspec": {
   "display_name": "Python 3",
   "language": "python",
   "name": "python3"
  },
  "language_info": {
   "codemirror_mode": {
    "name": "ipython",
    "version": 2
   },
   "file_extension": ".py",
   "mimetype": "text/x-python",
   "name": "python",
   "nbconvert_exporter": "python",
   "pygments_lexer": "ipython2",
   "version": "2.7.6"
  }
 },
 "nbformat": 4,
 "nbformat_minor": 5
}
