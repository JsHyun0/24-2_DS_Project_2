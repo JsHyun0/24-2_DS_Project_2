{
 "cells": [
  {
   "cell_type": "code",
   "id": "initial_id",
   "metadata": {
    "collapsed": true,
    "ExecuteTime": {
     "end_time": "2024-11-30T20:10:37.349029Z",
     "start_time": "2024-11-30T20:10:37.343104Z"
    }
   },
   "source": [
    "import pandas as pd\n",
    "import numpy as np\n",
    "import seaborn as sns\n",
    "from torch.utils.data import DataLoader, Dataset\n",
    "from sklearn.metrics import accuracy_score, f1_score, recall_score\n",
    "\n",
    "from Models.model import *\n",
    "from utils.utils import *\n",
    "from utils.Visualization import *\n",
    "\n",
    "import torch\n",
    "from tqdm import tqdm"
   ],
   "outputs": [],
   "execution_count": 60
  },
  {
   "metadata": {
    "ExecuteTime": {
     "end_time": "2024-11-30T18:50:37.107321Z",
     "start_time": "2024-11-30T18:50:37.104093Z"
    }
   },
   "cell_type": "code",
   "source": "device = torch.device('cuda' if torch.cuda.is_available() else 'cpu')",
   "id": "38d40eec42877270",
   "outputs": [],
   "execution_count": 17
  },
  {
   "metadata": {
    "ExecuteTime": {
     "end_time": "2024-11-30T18:50:39.263299Z",
     "start_time": "2024-11-30T18:50:37.346993Z"
    }
   },
   "cell_type": "code",
   "source": [
    "data_path = '../data/[24-2 DS_Project2] Data.csv'\n",
    "df = pd.read_csv(data_path)"
   ],
   "id": "820c731f8036e58a",
   "outputs": [],
   "execution_count": 18
  },
  {
   "metadata": {
    "ExecuteTime": {
     "end_time": "2024-11-30T20:06:03.032899Z",
     "start_time": "2024-11-30T20:06:03.030300Z"
    }
   },
   "cell_type": "code",
   "source": [
    "num_epochs = 100\n",
    "batch_size = 128\n",
    "lr = 1e-4"
   ],
   "id": "cace9e0436972b72",
   "outputs": [],
   "execution_count": 56
  },
  {
   "metadata": {
    "ExecuteTime": {
     "end_time": "2024-11-30T18:50:39.279129Z",
     "start_time": "2024-11-30T18:50:39.275914Z"
    }
   },
   "cell_type": "code",
   "source": [
    "cat_features = ['Gender', 'Card Brand', 'Card Type', 'Expires', 'Has Chip', 'Year PIN last Changed', 'Whether Security Chip is Used', 'Day', 'Error Message']\n",
    "\n",
    "num_features = ['Current Age', 'Retirement Age', 'Per Capita Income - Zipcode', 'Yearly Income', 'Total Debt', 'Credit Score', 'Credit Limit', 'Amount','Since Open Month']\n",
    "\n",
    "discarded = ['User', 'Birth Year', 'Birth Month', 'Card', 'Card Number', 'Zipcode', 'Merchandise Code', 'Acct Open Date', 'Year', 'Month']"
   ],
   "id": "3781f1700698e1e4",
   "outputs": [],
   "execution_count": 20
  },
  {
   "metadata": {
    "ExecuteTime": {
     "end_time": "2024-11-30T18:50:45.615299Z",
     "start_time": "2024-11-30T18:50:39.287298Z"
    }
   },
   "cell_type": "code",
   "source": [
    "(train_cat_X, train_num_X, train_y), (valid_cat_X, valid_num_X, valid_y), label_encoders = dt_process_data(\n",
    "    data_path,\n",
    "    cat_features,\n",
    "    num_features,\n",
    "    discarded\n",
    ")\n"
   ],
   "id": "4ceda9afd01e0f52",
   "outputs": [
    {
     "name": "stdout",
     "output_type": "stream",
     "text": [
      "TRANSITION\n",
      "IQR\n",
      "SPLIT\n",
      "DISCARD\n",
      "SCALE\n",
      "ENCODE\n",
      "TARGET\n",
      "TRAIN CAT/NUM\n",
      "VALID CAT/NUM\n",
      "RETURN\n"
     ]
    }
   ],
   "execution_count": 21
  },
  {
   "metadata": {
    "ExecuteTime": {
     "end_time": "2024-11-30T20:52:44.493669Z",
     "start_time": "2024-11-30T20:52:44.411898Z"
    }
   },
   "cell_type": "code",
   "source": [
    "print(train_y.value_counts())\n",
    "print(valid_y.value_counts())\n",
    "print(train_y.shape())"
   ],
   "id": "1b657752d94cb73b",
   "outputs": [
    {
     "name": "stdout",
     "output_type": "stream",
     "text": [
      "Is Fraud?\n",
      "0.0          896343\n",
      "1.0            1130\n",
      "Name: count, dtype: int64\n",
      "Is Fraud?\n",
      "0.0          306155\n",
      "1.0             484\n",
      "Name: count, dtype: int64\n"
     ]
    },
    {
     "ename": "TypeError",
     "evalue": "'tuple' object is not callable",
     "output_type": "error",
     "traceback": [
      "\u001B[1;31m---------------------------------------------------------------------------\u001B[0m",
      "\u001B[1;31mTypeError\u001B[0m                                 Traceback (most recent call last)",
      "Cell \u001B[1;32mIn[68], line 3\u001B[0m\n\u001B[0;32m      1\u001B[0m \u001B[38;5;28mprint\u001B[39m(train_y\u001B[38;5;241m.\u001B[39mvalue_counts())\n\u001B[0;32m      2\u001B[0m \u001B[38;5;28mprint\u001B[39m(valid_y\u001B[38;5;241m.\u001B[39mvalue_counts())\n\u001B[1;32m----> 3\u001B[0m \u001B[38;5;28mprint\u001B[39m(train_y\u001B[38;5;241m.\u001B[39mshape())\n",
      "\u001B[1;31mTypeError\u001B[0m: 'tuple' object is not callable"
     ]
    }
   ],
   "execution_count": 68
  },
  {
   "metadata": {
    "ExecuteTime": {
     "end_time": "2024-11-30T19:45:02.390097Z",
     "start_time": "2024-11-30T19:45:02.386097Z"
    }
   },
   "cell_type": "code",
   "source": [
    "class BaseDataset(Dataset):\n",
    "    def __init__(self, cat_features, num_features, y, device):\n",
    "        self.cat_features = torch.tensor(cat_features.values, dtype=torch.long).to(device)\n",
    "        self.num_features = torch.tensor(num_features.values, dtype=torch.float).to(device)\n",
    "        self.y = torch.tensor(y.values, dtype=torch.float).to(device)\n",
    "\n",
    "    def __len__(self):\n",
    "        return len(self.y)\n",
    "\n",
    "    def __getitem__(self, index):\n",
    "        return self.cat_features[index], self.num_features[index], self.y[index]"
   ],
   "id": "5c829c6610c12e12",
   "outputs": [],
   "execution_count": 46
  },
  {
   "metadata": {
    "ExecuteTime": {
     "end_time": "2024-11-30T19:45:02.758235Z",
     "start_time": "2024-11-30T19:45:02.661861Z"
    }
   },
   "cell_type": "code",
   "source": [
    "train_dataset = BaseDataset(train_cat_X, train_num_X, y=train_y, device=device)\n",
    "valid_dataset = BaseDataset(valid_cat_X, valid_num_X, y=valid_y, device=device)\n",
    "\n",
    "train_loader = DataLoader(train_dataset, batch_size=batch_size, shuffle=True)\n",
    "valid_loader = DataLoader(valid_dataset, batch_size=batch_size, shuffle=False)"
   ],
   "id": "ff0ec7f3c8347997",
   "outputs": [],
   "execution_count": 47
  },
  {
   "metadata": {
    "ExecuteTime": {
     "end_time": "2024-11-30T19:55:17.502265Z",
     "start_time": "2024-11-30T19:55:17.486305Z"
    }
   },
   "cell_type": "code",
   "source": [
    "#Base 모델 정의\n",
    "encoding_dim = 32\n",
    "model = BaseModel(encoding_dim, cat_features, num_features, 1).to(device)\n",
    "\n",
    "criterion = nn.BCEWithLogitsLoss()\n",
    "optimizer = torch.optim.Adam(model.parameters(), lr=lr)"
   ],
   "id": "b865c4665ca1f51c",
   "outputs": [],
   "execution_count": 52
  },
  {
   "metadata": {
    "ExecuteTime": {
     "end_time": "2024-11-30T20:52:44.201217Z",
     "start_time": "2024-11-30T20:16:15.858266Z"
    }
   },
   "cell_type": "code",
   "source": [
    "for epoch in range(num_epochs):\n",
    "    model.train()\n",
    "    epoch_loss = 0\n",
    "\n",
    "    train_preds = []\n",
    "    train_labels = []\n",
    "\n",
    "    # 학습\n",
    "    for batch in tqdm(train_loader, desc=f\"Epoch {epoch + 1}/{num_epochs}\"):\n",
    "        cat_x, num_x, y = batch\n",
    "\n",
    "        optimizer.zero_grad()\n",
    "        output = model(cat_x.to(device), num_x.to(device)).squeeze(1)\n",
    "        y = y.view(-1)\n",
    "        loss = criterion(output, y.to(device))\n",
    "\n",
    "        loss.backward()\n",
    "        optimizer.step()\n",
    "\n",
    "        epoch_loss += loss.item()\n",
    "        preds = torch.sigmoid(output.detach()).cpu().numpy() # 확률값\n",
    "        preds = (preds > 0.5).astype(int)  # 0.5 기준으로 클래스 결정\n",
    "        train_preds.extend(preds)\n",
    "        train_labels.extend(y.cpu().numpy())\n",
    "\n",
    "    #결과 출력\n",
    "    train_accuracy = accuracy_score(train_labels, train_preds)\n",
    "    train_f1 = f1_score(train_labels, train_preds, average='weighted')\n",
    "    train_recall = recall_score(train_labels, train_preds, average='weighted')\n",
    "    print(f\"Epoch {epoch + 1}/{num_epochs} - Train Loss: {epoch_loss:.4f} - Train Acc: {train_accuracy:.4f} - Train F1: {train_f1:.4f} - Train Recall: {train_recall:.4f}\")\n",
    "\n"
   ],
   "id": "8b015ab90672f1a4",
   "outputs": [
    {
     "name": "stderr",
     "output_type": "stream",
     "text": [
      "Epoch 1/100: 100%|██████████| 7012/7012 [00:19<00:00, 357.39it/s]\n"
     ]
    },
    {
     "name": "stdout",
     "output_type": "stream",
     "text": [
      "Epoch 1/100 - Train Loss: 50.4810 - Train Acc: 0.9987 - Train F1: 0.9981 - Train Recall: 0.9987\n"
     ]
    },
    {
     "name": "stderr",
     "output_type": "stream",
     "text": [
      "Epoch 2/100: 100%|██████████| 7012/7012 [00:19<00:00, 361.94it/s]\n"
     ]
    },
    {
     "name": "stdout",
     "output_type": "stream",
     "text": [
      "Epoch 2/100 - Train Loss: 49.5870 - Train Acc: 0.9987 - Train F1: 0.9981 - Train Recall: 0.9987\n"
     ]
    },
    {
     "name": "stderr",
     "output_type": "stream",
     "text": [
      "Epoch 3/100: 100%|██████████| 7012/7012 [00:19<00:00, 358.89it/s]\n"
     ]
    },
    {
     "name": "stdout",
     "output_type": "stream",
     "text": [
      "Epoch 3/100 - Train Loss: 48.5583 - Train Acc: 0.9987 - Train F1: 0.9981 - Train Recall: 0.9987\n"
     ]
    },
    {
     "name": "stderr",
     "output_type": "stream",
     "text": [
      "Epoch 4/100: 100%|██████████| 7012/7012 [00:20<00:00, 335.20it/s]\n"
     ]
    },
    {
     "name": "stdout",
     "output_type": "stream",
     "text": [
      "Epoch 4/100 - Train Loss: 47.7735 - Train Acc: 0.9987 - Train F1: 0.9981 - Train Recall: 0.9987\n"
     ]
    },
    {
     "name": "stderr",
     "output_type": "stream",
     "text": [
      "Epoch 5/100: 100%|██████████| 7012/7012 [00:20<00:00, 341.79it/s]\n"
     ]
    },
    {
     "name": "stdout",
     "output_type": "stream",
     "text": [
      "Epoch 5/100 - Train Loss: 47.0573 - Train Acc: 0.9987 - Train F1: 0.9981 - Train Recall: 0.9987\n"
     ]
    },
    {
     "name": "stderr",
     "output_type": "stream",
     "text": [
      "Epoch 6/100: 100%|██████████| 7012/7012 [00:19<00:00, 353.16it/s]\n"
     ]
    },
    {
     "name": "stdout",
     "output_type": "stream",
     "text": [
      "Epoch 6/100 - Train Loss: 46.0277 - Train Acc: 0.9987 - Train F1: 0.9981 - Train Recall: 0.9987\n"
     ]
    },
    {
     "name": "stderr",
     "output_type": "stream",
     "text": [
      "Epoch 7/100: 100%|██████████| 7012/7012 [00:19<00:00, 353.81it/s]\n"
     ]
    },
    {
     "name": "stdout",
     "output_type": "stream",
     "text": [
      "Epoch 7/100 - Train Loss: 45.2869 - Train Acc: 0.9987 - Train F1: 0.9981 - Train Recall: 0.9987\n"
     ]
    },
    {
     "name": "stderr",
     "output_type": "stream",
     "text": [
      "Epoch 8/100: 100%|██████████| 7012/7012 [00:19<00:00, 352.02it/s]\n"
     ]
    },
    {
     "name": "stdout",
     "output_type": "stream",
     "text": [
      "Epoch 8/100 - Train Loss: 44.4340 - Train Acc: 0.9987 - Train F1: 0.9981 - Train Recall: 0.9987\n"
     ]
    },
    {
     "name": "stderr",
     "output_type": "stream",
     "text": [
      "Epoch 9/100: 100%|██████████| 7012/7012 [00:19<00:00, 362.86it/s]\n"
     ]
    },
    {
     "name": "stdout",
     "output_type": "stream",
     "text": [
      "Epoch 9/100 - Train Loss: 43.6054 - Train Acc: 0.9987 - Train F1: 0.9981 - Train Recall: 0.9987\n"
     ]
    },
    {
     "name": "stderr",
     "output_type": "stream",
     "text": [
      "Epoch 10/100: 100%|██████████| 7012/7012 [00:19<00:00, 355.26it/s]\n"
     ]
    },
    {
     "name": "stdout",
     "output_type": "stream",
     "text": [
      "Epoch 10/100 - Train Loss: 43.1036 - Train Acc: 0.9987 - Train F1: 0.9981 - Train Recall: 0.9987\n"
     ]
    },
    {
     "name": "stderr",
     "output_type": "stream",
     "text": [
      "Epoch 11/100: 100%|██████████| 7012/7012 [00:20<00:00, 340.92it/s]\n"
     ]
    },
    {
     "name": "stdout",
     "output_type": "stream",
     "text": [
      "Epoch 11/100 - Train Loss: 42.1774 - Train Acc: 0.9987 - Train F1: 0.9981 - Train Recall: 0.9987\n"
     ]
    },
    {
     "name": "stderr",
     "output_type": "stream",
     "text": [
      "Epoch 12/100: 100%|██████████| 7012/7012 [00:20<00:00, 345.50it/s]\n"
     ]
    },
    {
     "name": "stdout",
     "output_type": "stream",
     "text": [
      "Epoch 12/100 - Train Loss: 41.3104 - Train Acc: 0.9987 - Train F1: 0.9981 - Train Recall: 0.9987\n"
     ]
    },
    {
     "name": "stderr",
     "output_type": "stream",
     "text": [
      "Epoch 13/100: 100%|██████████| 7012/7012 [00:20<00:00, 345.01it/s]\n"
     ]
    },
    {
     "name": "stdout",
     "output_type": "stream",
     "text": [
      "Epoch 13/100 - Train Loss: 40.8255 - Train Acc: 0.9987 - Train F1: 0.9981 - Train Recall: 0.9987\n"
     ]
    },
    {
     "name": "stderr",
     "output_type": "stream",
     "text": [
      "Epoch 14/100: 100%|██████████| 7012/7012 [00:20<00:00, 346.48it/s]\n"
     ]
    },
    {
     "name": "stdout",
     "output_type": "stream",
     "text": [
      "Epoch 14/100 - Train Loss: 40.2216 - Train Acc: 0.9987 - Train F1: 0.9981 - Train Recall: 0.9987\n"
     ]
    },
    {
     "name": "stderr",
     "output_type": "stream",
     "text": [
      "Epoch 15/100: 100%|██████████| 7012/7012 [00:21<00:00, 320.06it/s]\n"
     ]
    },
    {
     "name": "stdout",
     "output_type": "stream",
     "text": [
      "Epoch 15/100 - Train Loss: 39.7432 - Train Acc: 0.9987 - Train F1: 0.9981 - Train Recall: 0.9987\n"
     ]
    },
    {
     "name": "stderr",
     "output_type": "stream",
     "text": [
      "Epoch 16/100: 100%|██████████| 7012/7012 [00:20<00:00, 345.75it/s]\n"
     ]
    },
    {
     "name": "stdout",
     "output_type": "stream",
     "text": [
      "Epoch 16/100 - Train Loss: 39.2198 - Train Acc: 0.9987 - Train F1: 0.9981 - Train Recall: 0.9987\n"
     ]
    },
    {
     "name": "stderr",
     "output_type": "stream",
     "text": [
      "Epoch 17/100: 100%|██████████| 7012/7012 [00:19<00:00, 352.89it/s]\n"
     ]
    },
    {
     "name": "stdout",
     "output_type": "stream",
     "text": [
      "Epoch 17/100 - Train Loss: 38.6925 - Train Acc: 0.9987 - Train F1: 0.9981 - Train Recall: 0.9987\n"
     ]
    },
    {
     "name": "stderr",
     "output_type": "stream",
     "text": [
      "Epoch 18/100: 100%|██████████| 7012/7012 [00:20<00:00, 343.97it/s]\n"
     ]
    },
    {
     "name": "stdout",
     "output_type": "stream",
     "text": [
      "Epoch 18/100 - Train Loss: 38.3159 - Train Acc: 0.9987 - Train F1: 0.9981 - Train Recall: 0.9987\n"
     ]
    },
    {
     "name": "stderr",
     "output_type": "stream",
     "text": [
      "Epoch 19/100: 100%|██████████| 7012/7012 [00:21<00:00, 327.38it/s]\n"
     ]
    },
    {
     "name": "stdout",
     "output_type": "stream",
     "text": [
      "Epoch 19/100 - Train Loss: 37.8517 - Train Acc: 0.9987 - Train F1: 0.9981 - Train Recall: 0.9987\n"
     ]
    },
    {
     "name": "stderr",
     "output_type": "stream",
     "text": [
      "Epoch 20/100: 100%|██████████| 7012/7012 [00:20<00:00, 338.35it/s]\n"
     ]
    },
    {
     "name": "stdout",
     "output_type": "stream",
     "text": [
      "Epoch 20/100 - Train Loss: 37.4826 - Train Acc: 0.9987 - Train F1: 0.9981 - Train Recall: 0.9987\n"
     ]
    },
    {
     "name": "stderr",
     "output_type": "stream",
     "text": [
      "Epoch 21/100: 100%|██████████| 7012/7012 [00:20<00:00, 342.54it/s]\n"
     ]
    },
    {
     "name": "stdout",
     "output_type": "stream",
     "text": [
      "Epoch 21/100 - Train Loss: 37.2137 - Train Acc: 0.9987 - Train F1: 0.9981 - Train Recall: 0.9987\n"
     ]
    },
    {
     "name": "stderr",
     "output_type": "stream",
     "text": [
      "Epoch 22/100: 100%|██████████| 7012/7012 [00:20<00:00, 345.83it/s]\n"
     ]
    },
    {
     "name": "stdout",
     "output_type": "stream",
     "text": [
      "Epoch 22/100 - Train Loss: 36.6747 - Train Acc: 0.9987 - Train F1: 0.9981 - Train Recall: 0.9987\n"
     ]
    },
    {
     "name": "stderr",
     "output_type": "stream",
     "text": [
      "Epoch 23/100: 100%|██████████| 7012/7012 [00:20<00:00, 335.51it/s]\n"
     ]
    },
    {
     "name": "stdout",
     "output_type": "stream",
     "text": [
      "Epoch 23/100 - Train Loss: 36.4074 - Train Acc: 0.9987 - Train F1: 0.9981 - Train Recall: 0.9987\n"
     ]
    },
    {
     "name": "stderr",
     "output_type": "stream",
     "text": [
      "Epoch 24/100: 100%|██████████| 7012/7012 [00:20<00:00, 336.24it/s]\n"
     ]
    },
    {
     "name": "stdout",
     "output_type": "stream",
     "text": [
      "Epoch 24/100 - Train Loss: 36.1878 - Train Acc: 0.9987 - Train F1: 0.9981 - Train Recall: 0.9987\n"
     ]
    },
    {
     "name": "stderr",
     "output_type": "stream",
     "text": [
      "Epoch 25/100: 100%|██████████| 7012/7012 [00:20<00:00, 337.15it/s]\n"
     ]
    },
    {
     "name": "stdout",
     "output_type": "stream",
     "text": [
      "Epoch 25/100 - Train Loss: 35.8350 - Train Acc: 0.9987 - Train F1: 0.9981 - Train Recall: 0.9987\n"
     ]
    },
    {
     "name": "stderr",
     "output_type": "stream",
     "text": [
      "Epoch 26/100: 100%|██████████| 7012/7012 [00:19<00:00, 359.62it/s]\n"
     ]
    },
    {
     "name": "stdout",
     "output_type": "stream",
     "text": [
      "Epoch 26/100 - Train Loss: 35.8181 - Train Acc: 0.9987 - Train F1: 0.9981 - Train Recall: 0.9987\n"
     ]
    },
    {
     "name": "stderr",
     "output_type": "stream",
     "text": [
      "Epoch 27/100: 100%|██████████| 7012/7012 [00:19<00:00, 360.95it/s]\n"
     ]
    },
    {
     "name": "stdout",
     "output_type": "stream",
     "text": [
      "Epoch 27/100 - Train Loss: 35.5128 - Train Acc: 0.9987 - Train F1: 0.9981 - Train Recall: 0.9987\n"
     ]
    },
    {
     "name": "stderr",
     "output_type": "stream",
     "text": [
      "Epoch 28/100: 100%|██████████| 7012/7012 [00:19<00:00, 363.96it/s]\n"
     ]
    },
    {
     "name": "stdout",
     "output_type": "stream",
     "text": [
      "Epoch 28/100 - Train Loss: 35.2200 - Train Acc: 0.9987 - Train F1: 0.9981 - Train Recall: 0.9987\n"
     ]
    },
    {
     "name": "stderr",
     "output_type": "stream",
     "text": [
      "Epoch 29/100: 100%|██████████| 7012/7012 [00:19<00:00, 362.12it/s]\n"
     ]
    },
    {
     "name": "stdout",
     "output_type": "stream",
     "text": [
      "Epoch 29/100 - Train Loss: 34.9715 - Train Acc: 0.9987 - Train F1: 0.9981 - Train Recall: 0.9987\n"
     ]
    },
    {
     "name": "stderr",
     "output_type": "stream",
     "text": [
      "Epoch 30/100: 100%|██████████| 7012/7012 [00:19<00:00, 361.54it/s]\n"
     ]
    },
    {
     "name": "stdout",
     "output_type": "stream",
     "text": [
      "Epoch 30/100 - Train Loss: 34.7614 - Train Acc: 0.9987 - Train F1: 0.9981 - Train Recall: 0.9987\n"
     ]
    },
    {
     "name": "stderr",
     "output_type": "stream",
     "text": [
      "Epoch 31/100: 100%|██████████| 7012/7012 [00:19<00:00, 365.07it/s]\n"
     ]
    },
    {
     "name": "stdout",
     "output_type": "stream",
     "text": [
      "Epoch 31/100 - Train Loss: 34.6117 - Train Acc: 0.9987 - Train F1: 0.9981 - Train Recall: 0.9987\n"
     ]
    },
    {
     "name": "stderr",
     "output_type": "stream",
     "text": [
      "Epoch 32/100: 100%|██████████| 7012/7012 [00:19<00:00, 361.43it/s]\n"
     ]
    },
    {
     "name": "stdout",
     "output_type": "stream",
     "text": [
      "Epoch 32/100 - Train Loss: 34.2087 - Train Acc: 0.9987 - Train F1: 0.9981 - Train Recall: 0.9987\n"
     ]
    },
    {
     "name": "stderr",
     "output_type": "stream",
     "text": [
      "Epoch 33/100: 100%|██████████| 7012/7012 [00:19<00:00, 358.18it/s]\n"
     ]
    },
    {
     "name": "stdout",
     "output_type": "stream",
     "text": [
      "Epoch 33/100 - Train Loss: 34.1629 - Train Acc: 0.9987 - Train F1: 0.9981 - Train Recall: 0.9987\n"
     ]
    },
    {
     "name": "stderr",
     "output_type": "stream",
     "text": [
      "Epoch 34/100: 100%|██████████| 7012/7012 [00:21<00:00, 328.38it/s]\n"
     ]
    },
    {
     "name": "stdout",
     "output_type": "stream",
     "text": [
      "Epoch 34/100 - Train Loss: 34.2452 - Train Acc: 0.9987 - Train F1: 0.9981 - Train Recall: 0.9987\n"
     ]
    },
    {
     "name": "stderr",
     "output_type": "stream",
     "text": [
      "Epoch 35/100: 100%|██████████| 7012/7012 [00:20<00:00, 348.21it/s]\n"
     ]
    },
    {
     "name": "stdout",
     "output_type": "stream",
     "text": [
      "Epoch 35/100 - Train Loss: 33.8409 - Train Acc: 0.9987 - Train F1: 0.9981 - Train Recall: 0.9987\n"
     ]
    },
    {
     "name": "stderr",
     "output_type": "stream",
     "text": [
      "Epoch 36/100: 100%|██████████| 7012/7012 [00:20<00:00, 344.44it/s]\n"
     ]
    },
    {
     "name": "stdout",
     "output_type": "stream",
     "text": [
      "Epoch 36/100 - Train Loss: 33.7214 - Train Acc: 0.9987 - Train F1: 0.9981 - Train Recall: 0.9987\n"
     ]
    },
    {
     "name": "stderr",
     "output_type": "stream",
     "text": [
      "Epoch 37/100: 100%|██████████| 7012/7012 [00:19<00:00, 360.01it/s]\n"
     ]
    },
    {
     "name": "stdout",
     "output_type": "stream",
     "text": [
      "Epoch 37/100 - Train Loss: 33.7563 - Train Acc: 0.9987 - Train F1: 0.9981 - Train Recall: 0.9987\n"
     ]
    },
    {
     "name": "stderr",
     "output_type": "stream",
     "text": [
      "Epoch 38/100: 100%|██████████| 7012/7012 [00:19<00:00, 364.29it/s]\n"
     ]
    },
    {
     "name": "stdout",
     "output_type": "stream",
     "text": [
      "Epoch 38/100 - Train Loss: 33.4123 - Train Acc: 0.9987 - Train F1: 0.9981 - Train Recall: 0.9987\n"
     ]
    },
    {
     "name": "stderr",
     "output_type": "stream",
     "text": [
      "Epoch 39/100: 100%|██████████| 7012/7012 [00:21<00:00, 321.78it/s]\n"
     ]
    },
    {
     "name": "stdout",
     "output_type": "stream",
     "text": [
      "Epoch 39/100 - Train Loss: 33.1413 - Train Acc: 0.9987 - Train F1: 0.9981 - Train Recall: 0.9987\n"
     ]
    },
    {
     "name": "stderr",
     "output_type": "stream",
     "text": [
      "Epoch 40/100: 100%|██████████| 7012/7012 [00:20<00:00, 350.53it/s]\n"
     ]
    },
    {
     "name": "stdout",
     "output_type": "stream",
     "text": [
      "Epoch 40/100 - Train Loss: 33.1574 - Train Acc: 0.9987 - Train F1: 0.9981 - Train Recall: 0.9987\n"
     ]
    },
    {
     "name": "stderr",
     "output_type": "stream",
     "text": [
      "Epoch 41/100: 100%|██████████| 7012/7012 [00:19<00:00, 351.63it/s]\n"
     ]
    },
    {
     "name": "stdout",
     "output_type": "stream",
     "text": [
      "Epoch 41/100 - Train Loss: 32.9592 - Train Acc: 0.9987 - Train F1: 0.9981 - Train Recall: 0.9987\n"
     ]
    },
    {
     "name": "stderr",
     "output_type": "stream",
     "text": [
      "Epoch 42/100: 100%|██████████| 7012/7012 [00:21<00:00, 328.66it/s]\n"
     ]
    },
    {
     "name": "stdout",
     "output_type": "stream",
     "text": [
      "Epoch 42/100 - Train Loss: 32.7482 - Train Acc: 0.9987 - Train F1: 0.9981 - Train Recall: 0.9987\n"
     ]
    },
    {
     "name": "stderr",
     "output_type": "stream",
     "text": [
      "Epoch 43/100: 100%|██████████| 7012/7012 [00:20<00:00, 345.50it/s]\n"
     ]
    },
    {
     "name": "stdout",
     "output_type": "stream",
     "text": [
      "Epoch 43/100 - Train Loss: 32.5592 - Train Acc: 0.9987 - Train F1: 0.9981 - Train Recall: 0.9987\n"
     ]
    },
    {
     "name": "stderr",
     "output_type": "stream",
     "text": [
      "Epoch 44/100: 100%|██████████| 7012/7012 [00:20<00:00, 344.91it/s]\n"
     ]
    },
    {
     "name": "stdout",
     "output_type": "stream",
     "text": [
      "Epoch 44/100 - Train Loss: 32.7178 - Train Acc: 0.9987 - Train F1: 0.9981 - Train Recall: 0.9987\n"
     ]
    },
    {
     "name": "stderr",
     "output_type": "stream",
     "text": [
      "Epoch 45/100: 100%|██████████| 7012/7012 [00:19<00:00, 355.56it/s]\n"
     ]
    },
    {
     "name": "stdout",
     "output_type": "stream",
     "text": [
      "Epoch 45/100 - Train Loss: 32.3369 - Train Acc: 0.9988 - Train F1: 0.9981 - Train Recall: 0.9988\n"
     ]
    },
    {
     "name": "stderr",
     "output_type": "stream",
     "text": [
      "Epoch 46/100: 100%|██████████| 7012/7012 [00:20<00:00, 349.50it/s]\n"
     ]
    },
    {
     "name": "stdout",
     "output_type": "stream",
     "text": [
      "Epoch 46/100 - Train Loss: 32.5369 - Train Acc: 0.9987 - Train F1: 0.9981 - Train Recall: 0.9987\n"
     ]
    },
    {
     "name": "stderr",
     "output_type": "stream",
     "text": [
      "Epoch 47/100: 100%|██████████| 7012/7012 [00:19<00:00, 354.30it/s]\n"
     ]
    },
    {
     "name": "stdout",
     "output_type": "stream",
     "text": [
      "Epoch 47/100 - Train Loss: 32.0218 - Train Acc: 0.9987 - Train F1: 0.9981 - Train Recall: 0.9987\n"
     ]
    },
    {
     "name": "stderr",
     "output_type": "stream",
     "text": [
      "Epoch 48/100: 100%|██████████| 7012/7012 [00:20<00:00, 346.65it/s]\n"
     ]
    },
    {
     "name": "stdout",
     "output_type": "stream",
     "text": [
      "Epoch 48/100 - Train Loss: 32.0187 - Train Acc: 0.9987 - Train F1: 0.9981 - Train Recall: 0.9987\n"
     ]
    },
    {
     "name": "stderr",
     "output_type": "stream",
     "text": [
      "Epoch 49/100: 100%|██████████| 7012/7012 [00:19<00:00, 358.89it/s]\n"
     ]
    },
    {
     "name": "stdout",
     "output_type": "stream",
     "text": [
      "Epoch 49/100 - Train Loss: 31.7510 - Train Acc: 0.9987 - Train F1: 0.9981 - Train Recall: 0.9987\n"
     ]
    },
    {
     "name": "stderr",
     "output_type": "stream",
     "text": [
      "Epoch 50/100: 100%|██████████| 7012/7012 [00:19<00:00, 352.67it/s]\n"
     ]
    },
    {
     "name": "stdout",
     "output_type": "stream",
     "text": [
      "Epoch 50/100 - Train Loss: 31.6542 - Train Acc: 0.9987 - Train F1: 0.9981 - Train Recall: 0.9987\n"
     ]
    },
    {
     "name": "stderr",
     "output_type": "stream",
     "text": [
      "Epoch 51/100: 100%|██████████| 7012/7012 [00:20<00:00, 344.24it/s]\n"
     ]
    },
    {
     "name": "stdout",
     "output_type": "stream",
     "text": [
      "Epoch 51/100 - Train Loss: 31.7409 - Train Acc: 0.9987 - Train F1: 0.9981 - Train Recall: 0.9987\n"
     ]
    },
    {
     "name": "stderr",
     "output_type": "stream",
     "text": [
      "Epoch 52/100: 100%|██████████| 7012/7012 [00:20<00:00, 343.54it/s]\n"
     ]
    },
    {
     "name": "stdout",
     "output_type": "stream",
     "text": [
      "Epoch 52/100 - Train Loss: 31.4900 - Train Acc: 0.9987 - Train F1: 0.9981 - Train Recall: 0.9987\n"
     ]
    },
    {
     "name": "stderr",
     "output_type": "stream",
     "text": [
      "Epoch 53/100: 100%|██████████| 7012/7012 [00:20<00:00, 347.11it/s]\n"
     ]
    },
    {
     "name": "stdout",
     "output_type": "stream",
     "text": [
      "Epoch 53/100 - Train Loss: 31.3086 - Train Acc: 0.9987 - Train F1: 0.9981 - Train Recall: 0.9987\n"
     ]
    },
    {
     "name": "stderr",
     "output_type": "stream",
     "text": [
      "Epoch 54/100: 100%|██████████| 7012/7012 [00:20<00:00, 344.02it/s]\n"
     ]
    },
    {
     "name": "stdout",
     "output_type": "stream",
     "text": [
      "Epoch 54/100 - Train Loss: 31.3748 - Train Acc: 0.9987 - Train F1: 0.9981 - Train Recall: 0.9987\n"
     ]
    },
    {
     "name": "stderr",
     "output_type": "stream",
     "text": [
      "Epoch 55/100: 100%|██████████| 7012/7012 [00:21<00:00, 333.64it/s]\n"
     ]
    },
    {
     "name": "stdout",
     "output_type": "stream",
     "text": [
      "Epoch 55/100 - Train Loss: 31.1809 - Train Acc: 0.9987 - Train F1: 0.9981 - Train Recall: 0.9987\n"
     ]
    },
    {
     "name": "stderr",
     "output_type": "stream",
     "text": [
      "Epoch 56/100: 100%|██████████| 7012/7012 [00:20<00:00, 339.15it/s]\n"
     ]
    },
    {
     "name": "stdout",
     "output_type": "stream",
     "text": [
      "Epoch 56/100 - Train Loss: 31.1508 - Train Acc: 0.9988 - Train F1: 0.9981 - Train Recall: 0.9988\n"
     ]
    },
    {
     "name": "stderr",
     "output_type": "stream",
     "text": [
      "Epoch 57/100: 100%|██████████| 7012/7012 [00:21<00:00, 329.91it/s]\n"
     ]
    },
    {
     "name": "stdout",
     "output_type": "stream",
     "text": [
      "Epoch 57/100 - Train Loss: 31.1085 - Train Acc: 0.9987 - Train F1: 0.9981 - Train Recall: 0.9987\n"
     ]
    },
    {
     "name": "stderr",
     "output_type": "stream",
     "text": [
      "Epoch 58/100: 100%|██████████| 7012/7012 [00:20<00:00, 341.20it/s]\n"
     ]
    },
    {
     "name": "stdout",
     "output_type": "stream",
     "text": [
      "Epoch 58/100 - Train Loss: 30.8684 - Train Acc: 0.9987 - Train F1: 0.9981 - Train Recall: 0.9987\n"
     ]
    },
    {
     "name": "stderr",
     "output_type": "stream",
     "text": [
      "Epoch 59/100: 100%|██████████| 7012/7012 [00:21<00:00, 324.99it/s]\n"
     ]
    },
    {
     "name": "stdout",
     "output_type": "stream",
     "text": [
      "Epoch 59/100 - Train Loss: 30.6723 - Train Acc: 0.9987 - Train F1: 0.9981 - Train Recall: 0.9987\n"
     ]
    },
    {
     "name": "stderr",
     "output_type": "stream",
     "text": [
      "Epoch 60/100: 100%|██████████| 7012/7012 [00:23<00:00, 293.51it/s]\n"
     ]
    },
    {
     "name": "stdout",
     "output_type": "stream",
     "text": [
      "Epoch 60/100 - Train Loss: 30.9329 - Train Acc: 0.9987 - Train F1: 0.9982 - Train Recall: 0.9987\n"
     ]
    },
    {
     "name": "stderr",
     "output_type": "stream",
     "text": [
      "Epoch 61/100: 100%|██████████| 7012/7012 [00:24<00:00, 291.61it/s]\n"
     ]
    },
    {
     "name": "stdout",
     "output_type": "stream",
     "text": [
      "Epoch 61/100 - Train Loss: 30.5594 - Train Acc: 0.9987 - Train F1: 0.9981 - Train Recall: 0.9987\n"
     ]
    },
    {
     "name": "stderr",
     "output_type": "stream",
     "text": [
      "Epoch 62/100: 100%|██████████| 7012/7012 [00:24<00:00, 292.06it/s]\n"
     ]
    },
    {
     "name": "stdout",
     "output_type": "stream",
     "text": [
      "Epoch 62/100 - Train Loss: 30.4018 - Train Acc: 0.9987 - Train F1: 0.9981 - Train Recall: 0.9987\n"
     ]
    },
    {
     "name": "stderr",
     "output_type": "stream",
     "text": [
      "Epoch 63/100: 100%|██████████| 7012/7012 [00:21<00:00, 327.11it/s]\n"
     ]
    },
    {
     "name": "stdout",
     "output_type": "stream",
     "text": [
      "Epoch 63/100 - Train Loss: 30.5240 - Train Acc: 0.9987 - Train F1: 0.9981 - Train Recall: 0.9987\n"
     ]
    },
    {
     "name": "stderr",
     "output_type": "stream",
     "text": [
      "Epoch 64/100: 100%|██████████| 7012/7012 [00:22<00:00, 313.61it/s]\n"
     ]
    },
    {
     "name": "stdout",
     "output_type": "stream",
     "text": [
      "Epoch 64/100 - Train Loss: 30.3523 - Train Acc: 0.9987 - Train F1: 0.9982 - Train Recall: 0.9987\n"
     ]
    },
    {
     "name": "stderr",
     "output_type": "stream",
     "text": [
      "Epoch 65/100: 100%|██████████| 7012/7012 [00:21<00:00, 321.75it/s]\n"
     ]
    },
    {
     "name": "stdout",
     "output_type": "stream",
     "text": [
      "Epoch 65/100 - Train Loss: 30.0391 - Train Acc: 0.9988 - Train F1: 0.9982 - Train Recall: 0.9988\n"
     ]
    },
    {
     "name": "stderr",
     "output_type": "stream",
     "text": [
      "Epoch 66/100: 100%|██████████| 7012/7012 [00:22<00:00, 312.64it/s]\n"
     ]
    },
    {
     "name": "stdout",
     "output_type": "stream",
     "text": [
      "Epoch 66/100 - Train Loss: 30.1145 - Train Acc: 0.9988 - Train F1: 0.9982 - Train Recall: 0.9988\n"
     ]
    },
    {
     "name": "stderr",
     "output_type": "stream",
     "text": [
      "Epoch 67/100: 100%|██████████| 7012/7012 [00:22<00:00, 313.11it/s]\n"
     ]
    },
    {
     "name": "stdout",
     "output_type": "stream",
     "text": [
      "Epoch 67/100 - Train Loss: 29.7917 - Train Acc: 0.9987 - Train F1: 0.9982 - Train Recall: 0.9987\n"
     ]
    },
    {
     "name": "stderr",
     "output_type": "stream",
     "text": [
      "Epoch 68/100: 100%|██████████| 7012/7012 [00:22<00:00, 305.90it/s]\n"
     ]
    },
    {
     "name": "stdout",
     "output_type": "stream",
     "text": [
      "Epoch 68/100 - Train Loss: 29.8720 - Train Acc: 0.9988 - Train F1: 0.9982 - Train Recall: 0.9988\n"
     ]
    },
    {
     "name": "stderr",
     "output_type": "stream",
     "text": [
      "Epoch 69/100: 100%|██████████| 7012/7012 [00:22<00:00, 318.14it/s]\n"
     ]
    },
    {
     "name": "stdout",
     "output_type": "stream",
     "text": [
      "Epoch 69/100 - Train Loss: 29.8629 - Train Acc: 0.9988 - Train F1: 0.9982 - Train Recall: 0.9988\n"
     ]
    },
    {
     "name": "stderr",
     "output_type": "stream",
     "text": [
      "Epoch 70/100: 100%|██████████| 7012/7012 [00:23<00:00, 303.71it/s]\n"
     ]
    },
    {
     "name": "stdout",
     "output_type": "stream",
     "text": [
      "Epoch 70/100 - Train Loss: 29.8036 - Train Acc: 0.9988 - Train F1: 0.9982 - Train Recall: 0.9988\n"
     ]
    },
    {
     "name": "stderr",
     "output_type": "stream",
     "text": [
      "Epoch 71/100: 100%|██████████| 7012/7012 [00:22<00:00, 310.52it/s]\n"
     ]
    },
    {
     "name": "stdout",
     "output_type": "stream",
     "text": [
      "Epoch 71/100 - Train Loss: 29.6511 - Train Acc: 0.9987 - Train F1: 0.9982 - Train Recall: 0.9987\n"
     ]
    },
    {
     "name": "stderr",
     "output_type": "stream",
     "text": [
      "Epoch 72/100: 100%|██████████| 7012/7012 [00:20<00:00, 341.43it/s]\n"
     ]
    },
    {
     "name": "stdout",
     "output_type": "stream",
     "text": [
      "Epoch 72/100 - Train Loss: 29.8273 - Train Acc: 0.9988 - Train F1: 0.9982 - Train Recall: 0.9988\n"
     ]
    },
    {
     "name": "stderr",
     "output_type": "stream",
     "text": [
      "Epoch 73/100: 100%|██████████| 7012/7012 [00:21<00:00, 331.17it/s]\n"
     ]
    },
    {
     "name": "stdout",
     "output_type": "stream",
     "text": [
      "Epoch 73/100 - Train Loss: 29.3932 - Train Acc: 0.9988 - Train F1: 0.9982 - Train Recall: 0.9988\n"
     ]
    },
    {
     "name": "stderr",
     "output_type": "stream",
     "text": [
      "Epoch 74/100: 100%|██████████| 7012/7012 [00:21<00:00, 319.74it/s]\n"
     ]
    },
    {
     "name": "stdout",
     "output_type": "stream",
     "text": [
      "Epoch 74/100 - Train Loss: 29.4263 - Train Acc: 0.9988 - Train F1: 0.9982 - Train Recall: 0.9988\n"
     ]
    },
    {
     "name": "stderr",
     "output_type": "stream",
     "text": [
      "Epoch 75/100: 100%|██████████| 7012/7012 [00:21<00:00, 332.37it/s]\n"
     ]
    },
    {
     "name": "stdout",
     "output_type": "stream",
     "text": [
      "Epoch 75/100 - Train Loss: 29.2092 - Train Acc: 0.9987 - Train F1: 0.9982 - Train Recall: 0.9987\n"
     ]
    },
    {
     "name": "stderr",
     "output_type": "stream",
     "text": [
      "Epoch 76/100: 100%|██████████| 7012/7012 [00:21<00:00, 326.22it/s]\n"
     ]
    },
    {
     "name": "stdout",
     "output_type": "stream",
     "text": [
      "Epoch 76/100 - Train Loss: 29.3193 - Train Acc: 0.9988 - Train F1: 0.9982 - Train Recall: 0.9988\n"
     ]
    },
    {
     "name": "stderr",
     "output_type": "stream",
     "text": [
      "Epoch 77/100: 100%|██████████| 7012/7012 [00:21<00:00, 320.07it/s]\n"
     ]
    },
    {
     "name": "stdout",
     "output_type": "stream",
     "text": [
      "Epoch 77/100 - Train Loss: 29.1746 - Train Acc: 0.9988 - Train F1: 0.9982 - Train Recall: 0.9988\n"
     ]
    },
    {
     "name": "stderr",
     "output_type": "stream",
     "text": [
      "Epoch 78/100: 100%|██████████| 7012/7012 [00:22<00:00, 311.81it/s]\n"
     ]
    },
    {
     "name": "stdout",
     "output_type": "stream",
     "text": [
      "Epoch 78/100 - Train Loss: 29.0652 - Train Acc: 0.9988 - Train F1: 0.9982 - Train Recall: 0.9988\n"
     ]
    },
    {
     "name": "stderr",
     "output_type": "stream",
     "text": [
      "Epoch 79/100: 100%|██████████| 7012/7012 [00:21<00:00, 321.16it/s]\n"
     ]
    },
    {
     "name": "stdout",
     "output_type": "stream",
     "text": [
      "Epoch 79/100 - Train Loss: 28.8447 - Train Acc: 0.9988 - Train F1: 0.9982 - Train Recall: 0.9988\n"
     ]
    },
    {
     "name": "stderr",
     "output_type": "stream",
     "text": [
      "Epoch 80/100: 100%|██████████| 7012/7012 [00:22<00:00, 315.60it/s]\n"
     ]
    },
    {
     "name": "stdout",
     "output_type": "stream",
     "text": [
      "Epoch 80/100 - Train Loss: 28.8520 - Train Acc: 0.9988 - Train F1: 0.9982 - Train Recall: 0.9988\n"
     ]
    },
    {
     "name": "stderr",
     "output_type": "stream",
     "text": [
      "Epoch 81/100: 100%|██████████| 7012/7012 [00:21<00:00, 320.71it/s]\n"
     ]
    },
    {
     "name": "stdout",
     "output_type": "stream",
     "text": [
      "Epoch 81/100 - Train Loss: 28.6804 - Train Acc: 0.9988 - Train F1: 0.9982 - Train Recall: 0.9988\n"
     ]
    },
    {
     "name": "stderr",
     "output_type": "stream",
     "text": [
      "Epoch 82/100: 100%|██████████| 7012/7012 [00:22<00:00, 317.16it/s]\n"
     ]
    },
    {
     "name": "stdout",
     "output_type": "stream",
     "text": [
      "Epoch 82/100 - Train Loss: 28.8141 - Train Acc: 0.9988 - Train F1: 0.9982 - Train Recall: 0.9988\n"
     ]
    },
    {
     "name": "stderr",
     "output_type": "stream",
     "text": [
      "Epoch 83/100: 100%|██████████| 7012/7012 [00:22<00:00, 315.76it/s]\n"
     ]
    },
    {
     "name": "stdout",
     "output_type": "stream",
     "text": [
      "Epoch 83/100 - Train Loss: 28.8082 - Train Acc: 0.9988 - Train F1: 0.9982 - Train Recall: 0.9988\n"
     ]
    },
    {
     "name": "stderr",
     "output_type": "stream",
     "text": [
      "Epoch 84/100: 100%|██████████| 7012/7012 [00:24<00:00, 281.62it/s]\n"
     ]
    },
    {
     "name": "stdout",
     "output_type": "stream",
     "text": [
      "Epoch 84/100 - Train Loss: 28.5849 - Train Acc: 0.9988 - Train F1: 0.9982 - Train Recall: 0.9988\n"
     ]
    },
    {
     "name": "stderr",
     "output_type": "stream",
     "text": [
      "Epoch 85/100: 100%|██████████| 7012/7012 [00:19<00:00, 358.68it/s]\n"
     ]
    },
    {
     "name": "stdout",
     "output_type": "stream",
     "text": [
      "Epoch 85/100 - Train Loss: 28.4327 - Train Acc: 0.9987 - Train F1: 0.9982 - Train Recall: 0.9987\n"
     ]
    },
    {
     "name": "stderr",
     "output_type": "stream",
     "text": [
      "Epoch 86/100: 100%|██████████| 7012/7012 [00:19<00:00, 360.79it/s]\n"
     ]
    },
    {
     "name": "stdout",
     "output_type": "stream",
     "text": [
      "Epoch 86/100 - Train Loss: 28.4911 - Train Acc: 0.9988 - Train F1: 0.9982 - Train Recall: 0.9988\n"
     ]
    },
    {
     "name": "stderr",
     "output_type": "stream",
     "text": [
      "Epoch 87/100: 100%|██████████| 7012/7012 [00:19<00:00, 362.14it/s]\n"
     ]
    },
    {
     "name": "stdout",
     "output_type": "stream",
     "text": [
      "Epoch 87/100 - Train Loss: 28.2457 - Train Acc: 0.9988 - Train F1: 0.9982 - Train Recall: 0.9988\n"
     ]
    },
    {
     "name": "stderr",
     "output_type": "stream",
     "text": [
      "Epoch 88/100: 100%|██████████| 7012/7012 [00:19<00:00, 361.11it/s]\n"
     ]
    },
    {
     "name": "stdout",
     "output_type": "stream",
     "text": [
      "Epoch 88/100 - Train Loss: 28.4435 - Train Acc: 0.9988 - Train F1: 0.9982 - Train Recall: 0.9988\n"
     ]
    },
    {
     "name": "stderr",
     "output_type": "stream",
     "text": [
      "Epoch 89/100: 100%|██████████| 7012/7012 [00:19<00:00, 365.10it/s]\n"
     ]
    },
    {
     "name": "stdout",
     "output_type": "stream",
     "text": [
      "Epoch 89/100 - Train Loss: 28.1349 - Train Acc: 0.9988 - Train F1: 0.9982 - Train Recall: 0.9988\n"
     ]
    },
    {
     "name": "stderr",
     "output_type": "stream",
     "text": [
      "Epoch 90/100: 100%|██████████| 7012/7012 [00:19<00:00, 363.70it/s]\n"
     ]
    },
    {
     "name": "stdout",
     "output_type": "stream",
     "text": [
      "Epoch 90/100 - Train Loss: 28.2094 - Train Acc: 0.9988 - Train F1: 0.9982 - Train Recall: 0.9988\n"
     ]
    },
    {
     "name": "stderr",
     "output_type": "stream",
     "text": [
      "Epoch 91/100: 100%|██████████| 7012/7012 [00:19<00:00, 365.33it/s]\n"
     ]
    },
    {
     "name": "stdout",
     "output_type": "stream",
     "text": [
      "Epoch 91/100 - Train Loss: 27.9788 - Train Acc: 0.9988 - Train F1: 0.9982 - Train Recall: 0.9988\n"
     ]
    },
    {
     "name": "stderr",
     "output_type": "stream",
     "text": [
      "Epoch 92/100: 100%|██████████| 7012/7012 [00:19<00:00, 364.79it/s]\n"
     ]
    },
    {
     "name": "stdout",
     "output_type": "stream",
     "text": [
      "Epoch 92/100 - Train Loss: 28.1528 - Train Acc: 0.9988 - Train F1: 0.9982 - Train Recall: 0.9988\n"
     ]
    },
    {
     "name": "stderr",
     "output_type": "stream",
     "text": [
      "Epoch 93/100: 100%|██████████| 7012/7012 [00:19<00:00, 362.14it/s]\n"
     ]
    },
    {
     "name": "stdout",
     "output_type": "stream",
     "text": [
      "Epoch 93/100 - Train Loss: 27.9382 - Train Acc: 0.9988 - Train F1: 0.9982 - Train Recall: 0.9988\n"
     ]
    },
    {
     "name": "stderr",
     "output_type": "stream",
     "text": [
      "Epoch 94/100: 100%|██████████| 7012/7012 [00:19<00:00, 364.82it/s]\n"
     ]
    },
    {
     "name": "stdout",
     "output_type": "stream",
     "text": [
      "Epoch 94/100 - Train Loss: 28.0091 - Train Acc: 0.9988 - Train F1: 0.9982 - Train Recall: 0.9988\n"
     ]
    },
    {
     "name": "stderr",
     "output_type": "stream",
     "text": [
      "Epoch 95/100: 100%|██████████| 7012/7012 [00:19<00:00, 365.99it/s]\n"
     ]
    },
    {
     "name": "stdout",
     "output_type": "stream",
     "text": [
      "Epoch 95/100 - Train Loss: 27.6955 - Train Acc: 0.9988 - Train F1: 0.9982 - Train Recall: 0.9988\n"
     ]
    },
    {
     "name": "stderr",
     "output_type": "stream",
     "text": [
      "Epoch 96/100: 100%|██████████| 7012/7012 [00:19<00:00, 357.56it/s]\n"
     ]
    },
    {
     "name": "stdout",
     "output_type": "stream",
     "text": [
      "Epoch 96/100 - Train Loss: 27.9659 - Train Acc: 0.9988 - Train F1: 0.9982 - Train Recall: 0.9988\n"
     ]
    },
    {
     "name": "stderr",
     "output_type": "stream",
     "text": [
      "Epoch 97/100: 100%|██████████| 7012/7012 [00:25<00:00, 279.69it/s]\n"
     ]
    },
    {
     "name": "stdout",
     "output_type": "stream",
     "text": [
      "Epoch 97/100 - Train Loss: 27.8944 - Train Acc: 0.9988 - Train F1: 0.9982 - Train Recall: 0.9988\n"
     ]
    },
    {
     "name": "stderr",
     "output_type": "stream",
     "text": [
      "Epoch 98/100: 100%|██████████| 7012/7012 [00:24<00:00, 289.75it/s]\n"
     ]
    },
    {
     "name": "stdout",
     "output_type": "stream",
     "text": [
      "Epoch 98/100 - Train Loss: 27.5723 - Train Acc: 0.9988 - Train F1: 0.9982 - Train Recall: 0.9988\n"
     ]
    },
    {
     "name": "stderr",
     "output_type": "stream",
     "text": [
      "Epoch 99/100: 100%|██████████| 7012/7012 [00:19<00:00, 360.90it/s]\n"
     ]
    },
    {
     "name": "stdout",
     "output_type": "stream",
     "text": [
      "Epoch 99/100 - Train Loss: 27.5078 - Train Acc: 0.9988 - Train F1: 0.9982 - Train Recall: 0.9988\n"
     ]
    },
    {
     "name": "stderr",
     "output_type": "stream",
     "text": [
      "Epoch 100/100: 100%|██████████| 7012/7012 [00:19<00:00, 360.40it/s]\n"
     ]
    },
    {
     "name": "stdout",
     "output_type": "stream",
     "text": [
      "Epoch 100/100 - Train Loss: 27.5730 - Train Acc: 0.9988 - Train F1: 0.9982 - Train Recall: 0.9988\n"
     ]
    }
   ],
   "execution_count": 67
  },
  {
   "metadata": {
    "ExecuteTime": {
     "end_time": "2024-11-30T21:01:55.562438Z",
     "start_time": "2024-11-30T21:01:50.505157Z"
    }
   },
   "cell_type": "code",
   "source": [
    "# Validation (모든 epoch 종료 후 실행)\n",
    "model.eval()\n",
    "valid_loss = 0\n",
    "valid_preds = []\n",
    "valid_labels = []\n",
    "\n",
    "with torch.no_grad():\n",
    "    for batch in tqdm(valid_loader, desc=\"Validation\"):\n",
    "        cat_x, num_x, y = batch\n",
    "        output = model(cat_x.to(device), num_x.to(device))\n",
    "        loss = criterion(output, y.to(device))\n",
    "        valid_loss += loss.item()\n",
    "\n",
    "        preds = (output > 0).float()\n",
    "        valid_preds.extend(preds.cpu().numpy())\n",
    "        valid_labels.extend(y.cpu().numpy())\n",
    "\n",
    "# Validation Metrics 계산\n",
    "valid_accuracy = accuracy_score(valid_labels, valid_preds)\n",
    "valid_f1 = f1_score(valid_labels, valid_preds, average='weighted')\n",
    "valid_recall = recall_score(valid_labels, valid_preds, average='weighted')\n",
    "\n",
    "print(f\"Final Validation - Loss: {valid_loss:.4f} - Acc: {valid_accuracy:.4f} - F1: {valid_f1:.4f} - Recall: {valid_recall:.4f}\")\n"
   ],
   "id": "b631f222fa83c5f1",
   "outputs": [
    {
     "name": "stderr",
     "output_type": "stream",
     "text": [
      "Validation: 100%|██████████| 2396/2396 [00:03<00:00, 680.79it/s]\n"
     ]
    },
    {
     "name": "stdout",
     "output_type": "stream",
     "text": [
      "Final Validation - Loss: 206.4490 - Acc: 0.9984 - F1: 0.9976 - Recall: 0.9984\n"
     ]
    }
   ],
   "execution_count": 69
  },
  {
   "metadata": {
    "ExecuteTime": {
     "end_time": "2024-11-30T21:01:56.165513Z",
     "start_time": "2024-11-30T21:01:55.641921Z"
    }
   },
   "cell_type": "code",
   "source": [
    "plot_confusion_heatmap(\n",
    "    y_true=valid_labels,\n",
    "    y_pred=valid_preds,\n",
    "    class_names=[\"Not Fraud\", \"Fraud\"],\n",
    "    title=\"Base Model Validation Confusion Matrix\",\n",
    "    cmap=\"Blues\"\n",
    ")"
   ],
   "id": "873353dc47bcf9f8",
   "outputs": [
    {
     "data": {
      "text/plain": [
       "<Figure size 800x600 with 2 Axes>"
      ],
      "image/png": "[encoded data removed]"
     },
     "metadata": {},
     "output_type": "display_data"
    }
   ],
   "execution_count": 70
  },
  {
   "metadata": {},
   "cell_type": "code",
   "outputs": [],
   "execution_count": null,
   "source": "곱창났다!",
   "id": "186d332207aa13e9"
  }
 ],
 "metadata": {
  "kernelspec": {
   "display_name": "Python 3",
   "language": "python",
   "name": "python3"
  },
  "language_info": {
   "codemirror_mode": {
    "name": "ipython",
    "version": 2
   },
   "file_extension": ".py",
   "mimetype": "text/x-python",
   "name": "python",
   "nbconvert_exporter": "python",
   "pygments_lexer": "ipython2",
   "version": "2.7.6"
  }
 },
 "nbformat": 4,
 "nbformat_minor": 5
}
