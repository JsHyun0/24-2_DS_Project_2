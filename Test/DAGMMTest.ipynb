{
 "cells": [
  {
   "cell_type": "code",
   "id": "initial_id",
   "metadata": {
    "collapsed": true,
    "ExecuteTime": {
     "end_time": "2024-12-04T10:42:20.540534Z",
     "start_time": "2024-12-04T10:42:20.537731Z"
    }
   },
   "source": [
    "import torch\n",
    "import torch.nn as nn\n",
    "import torch.optim as optim\n",
    "from torch.utils.data import DataLoader\n",
    "from sklearn.metrics import f1_score\n",
    "import numpy as np\n",
    "from tqdm import tqdm\n",
    "from Models.AutoEncoder import AutoEncoder, AE_validDataset, AE_trainDataset\n",
    "from Models.DAGMM import *\n",
    "from utils.utils import process_data"
   ],
   "outputs": [],
   "execution_count": 13
  },
  {
   "metadata": {
    "ExecuteTime": {
     "end_time": "2024-12-04T10:42:23.156814Z",
     "start_time": "2024-12-04T10:42:23.153619Z"
    }
   },
   "cell_type": "code",
   "source": [
    "device = torch.device(\"cuda\" if torch.cuda.is_available() else \"cpu\")\n",
    "print(device)"
   ],
   "id": "424cc9c636225a53",
   "outputs": [
    {
     "name": "stdout",
     "output_type": "stream",
     "text": [
      "cuda\n"
     ]
    }
   ],
   "execution_count": 14
  },
  {
   "metadata": {
    "ExecuteTime": {
     "end_time": "2024-12-04T10:45:59.484054Z",
     "start_time": "2024-12-04T10:45:59.481112Z"
    }
   },
   "cell_type": "code",
   "source": [
    "num_epochs = 100\n",
    "batch_size = 128\n",
    "lr = 1e-4\n",
    "encoding_dim = 28\n",
    "n_gmm = 2\n",
    "lambda_energy = 0.1\n",
    "lambda_cov_diag = 0.005\n",
    "l1_lambda = 1e-5"
   ],
   "id": "b43f3d4eed655aab",
   "outputs": [],
   "execution_count": 27
  },
  {
   "metadata": {
    "ExecuteTime": {
     "end_time": "2024-12-04T10:43:08.637494Z",
     "start_time": "2024-12-04T10:43:08.633683Z"
    }
   },
   "cell_type": "code",
   "source": [
    "# Feature Selection\n",
    "cat_features = ['Card', 'Gender', 'Card Brand', 'Card Type', 'Expires', 'Has Chip',\n",
    "                'Year PIN last Changed', 'Whether Security Chip is Used', 'Day']\n",
    "num_features = ['Current Age', 'Retirement Age', 'Per Capita Income - Zipcode', 'Zipcode',\n",
    "                'Yearly Income', 'Total Debt', 'Credit Score', 'Credit Limit', 'Amount']\n",
    "discarded = ['User', 'Birth Year', 'Birth Month']\n",
    "\n",
    "print(len(cat_features)*5 + len(num_features))\n"
   ],
   "id": "b4efdb44a7dc095f",
   "outputs": [
    {
     "name": "stdout",
     "output_type": "stream",
     "text": [
      "54\n"
     ]
    }
   ],
   "execution_count": 20
  },
  {
   "metadata": {
    "ExecuteTime": {
     "end_time": "2024-12-04T10:43:51.433891Z",
     "start_time": "2024-12-04T10:43:44.613518Z"
    }
   },
   "cell_type": "code",
   "source": [
    "\n",
    "# 데이터 전처리\n",
    "data_path = '../data/[24-2 DS_Project2] Data.csv'\n",
    "(train_cat_X, train_num_X, train_y), (valid_cat_X, valid_num_X, valid_y), label_encoders = process_data(\n",
    "    data_path,\n",
    "    cat_features,\n",
    "    num_features,\n",
    "    discarded\n",
    ")"
   ],
   "id": "810a8a84e77288f0",
   "outputs": [
    {
     "name": "stdout",
     "output_type": "stream",
     "text": [
      "TRANSITION\n",
      "IQR\n"
     ]
    },
    {
     "ename": "TypeError",
     "evalue": "unsupported operand type(s) for -: 'str' and 'str'",
     "output_type": "error",
     "traceback": [
      "\u001B[1;31m---------------------------------------------------------------------------\u001B[0m",
      "\u001B[1;31mTypeError\u001B[0m                                 Traceback (most recent call last)",
      "Cell \u001B[1;32mIn[24], line 3\u001B[0m\n\u001B[0;32m      1\u001B[0m \u001B[38;5;66;03m# 데이터 전처리\u001B[39;00m\n\u001B[0;32m      2\u001B[0m data_path \u001B[38;5;241m=\u001B[39m \u001B[38;5;124m'\u001B[39m\u001B[38;5;124m../data/[24-2 DS_Project2] Data.csv\u001B[39m\u001B[38;5;124m'\u001B[39m\n\u001B[1;32m----> 3\u001B[0m (train_cat_X, train_num_X, train_y), (valid_cat_X, valid_num_X, valid_y), label_encoders \u001B[38;5;241m=\u001B[39m process_data(\n\u001B[0;32m      4\u001B[0m     data_path,\n\u001B[0;32m      5\u001B[0m     cat_features,\n\u001B[0;32m      6\u001B[0m     num_features,\n\u001B[0;32m      7\u001B[0m     discarded\n\u001B[0;32m      8\u001B[0m )\n",
      "File \u001B[1;32m~\\Documents\\project\\ds\\24-2_DS_Project_2\\utils\\utils.py:268\u001B[0m, in \u001B[0;36mprocess_data\u001B[1;34m(data_path, cat_features, num_features, discarded)\u001B[0m\n\u001B[0;32m    265\u001B[0m trans \u001B[38;5;241m=\u001B[39m df\u001B[38;5;241m.\u001B[39mcopy()\n\u001B[0;32m    267\u001B[0m \u001B[38;5;28mprint\u001B[39m(\u001B[38;5;124m\"\u001B[39m\u001B[38;5;124mIQR\u001B[39m\u001B[38;5;124m\"\u001B[39m)\n\u001B[1;32m--> 268\u001B[0m df \u001B[38;5;241m=\u001B[39m iqr(df, num_features)\n\u001B[0;32m    270\u001B[0m \u001B[38;5;28mprint\u001B[39m(\u001B[38;5;124m\"\u001B[39m\u001B[38;5;124mSPLIT\u001B[39m\u001B[38;5;124m\"\u001B[39m)\n\u001B[0;32m    271\u001B[0m train_df, valid_df \u001B[38;5;241m=\u001B[39m split_by_date(df)\n",
      "File \u001B[1;32m~\\Documents\\project\\ds\\24-2_DS_Project_2\\utils\\utils.py:182\u001B[0m, in \u001B[0;36miqr\u001B[1;34m(df, num_features)\u001B[0m\n\u001B[0;32m    179\u001B[0m mask \u001B[38;5;241m=\u001B[39m pd\u001B[38;5;241m.\u001B[39mSeries(\u001B[38;5;28;01mTrue\u001B[39;00m, index\u001B[38;5;241m=\u001B[39mdf\u001B[38;5;241m.\u001B[39mindex)\n\u001B[0;32m    181\u001B[0m \u001B[38;5;28;01mfor\u001B[39;00m col \u001B[38;5;129;01min\u001B[39;00m num_features :\n\u001B[1;32m--> 182\u001B[0m     Q1 \u001B[38;5;241m=\u001B[39m df[col]\u001B[38;5;241m.\u001B[39mquantile(\u001B[38;5;241m0.25\u001B[39m)\n\u001B[0;32m    183\u001B[0m     Q3 \u001B[38;5;241m=\u001B[39m df[col]\u001B[38;5;241m.\u001B[39mquantile(\u001B[38;5;241m0.75\u001B[39m)\n\u001B[0;32m    184\u001B[0m     IQR \u001B[38;5;241m=\u001B[39m Q3 \u001B[38;5;241m-\u001B[39m Q1\n",
      "File \u001B[1;32m~\\anaconda3\\envs\\ds24\\Lib\\site-packages\\pandas\\core\\series.py:2887\u001B[0m, in \u001B[0;36mSeries.quantile\u001B[1;34m(self, q, interpolation)\u001B[0m\n\u001B[0;32m   2883\u001B[0m \u001B[38;5;66;03m# We dispatch to DataFrame so that core.internals only has to worry\u001B[39;00m\n\u001B[0;32m   2884\u001B[0m \u001B[38;5;66;03m#  about 2D cases.\u001B[39;00m\n\u001B[0;32m   2885\u001B[0m df \u001B[38;5;241m=\u001B[39m \u001B[38;5;28mself\u001B[39m\u001B[38;5;241m.\u001B[39mto_frame()\n\u001B[1;32m-> 2887\u001B[0m result \u001B[38;5;241m=\u001B[39m df\u001B[38;5;241m.\u001B[39mquantile(q\u001B[38;5;241m=\u001B[39mq, interpolation\u001B[38;5;241m=\u001B[39minterpolation, numeric_only\u001B[38;5;241m=\u001B[39m\u001B[38;5;28;01mFalse\u001B[39;00m)\n\u001B[0;32m   2888\u001B[0m \u001B[38;5;28;01mif\u001B[39;00m result\u001B[38;5;241m.\u001B[39mndim \u001B[38;5;241m==\u001B[39m \u001B[38;5;241m2\u001B[39m:\n\u001B[0;32m   2889\u001B[0m     result \u001B[38;5;241m=\u001B[39m result\u001B[38;5;241m.\u001B[39miloc[:, \u001B[38;5;241m0\u001B[39m]\n",
      "File \u001B[1;32m~\\anaconda3\\envs\\ds24\\Lib\\site-packages\\pandas\\core\\frame.py:12146\u001B[0m, in \u001B[0;36mDataFrame.quantile\u001B[1;34m(self, q, axis, numeric_only, interpolation, method)\u001B[0m\n\u001B[0;32m  12140\u001B[0m axis \u001B[38;5;241m=\u001B[39m \u001B[38;5;28mself\u001B[39m\u001B[38;5;241m.\u001B[39m_get_axis_number(axis)\n\u001B[0;32m  12142\u001B[0m \u001B[38;5;28;01mif\u001B[39;00m \u001B[38;5;129;01mnot\u001B[39;00m is_list_like(q):\n\u001B[0;32m  12143\u001B[0m     \u001B[38;5;66;03m# BlockManager.quantile expects listlike, so we wrap and unwrap here\u001B[39;00m\n\u001B[0;32m  12144\u001B[0m     \u001B[38;5;66;03m# error: List item 0 has incompatible type \"float | ExtensionArray |\u001B[39;00m\n\u001B[0;32m  12145\u001B[0m     \u001B[38;5;66;03m# ndarray[Any, Any] | Index | Series | Sequence[float]\"; expected \"float\"\u001B[39;00m\n\u001B[1;32m> 12146\u001B[0m     res_df \u001B[38;5;241m=\u001B[39m \u001B[38;5;28mself\u001B[39m\u001B[38;5;241m.\u001B[39mquantile(\n\u001B[0;32m  12147\u001B[0m         [q],  \u001B[38;5;66;03m# type: ignore[list-item]\u001B[39;00m\n\u001B[0;32m  12148\u001B[0m         axis\u001B[38;5;241m=\u001B[39maxis,\n\u001B[0;32m  12149\u001B[0m         numeric_only\u001B[38;5;241m=\u001B[39mnumeric_only,\n\u001B[0;32m  12150\u001B[0m         interpolation\u001B[38;5;241m=\u001B[39minterpolation,\n\u001B[0;32m  12151\u001B[0m         method\u001B[38;5;241m=\u001B[39mmethod,\n\u001B[0;32m  12152\u001B[0m     )\n\u001B[0;32m  12153\u001B[0m     \u001B[38;5;28;01mif\u001B[39;00m method \u001B[38;5;241m==\u001B[39m \u001B[38;5;124m\"\u001B[39m\u001B[38;5;124msingle\u001B[39m\u001B[38;5;124m\"\u001B[39m:\n\u001B[0;32m  12154\u001B[0m         res \u001B[38;5;241m=\u001B[39m res_df\u001B[38;5;241m.\u001B[39miloc[\u001B[38;5;241m0\u001B[39m]\n",
      "File \u001B[1;32m~\\anaconda3\\envs\\ds24\\Lib\\site-packages\\pandas\\core\\frame.py:12191\u001B[0m, in \u001B[0;36mDataFrame.quantile\u001B[1;34m(self, q, axis, numeric_only, interpolation, method)\u001B[0m\n\u001B[0;32m  12187\u001B[0m     \u001B[38;5;28;01mraise\u001B[39;00m \u001B[38;5;167;01mValueError\u001B[39;00m(\n\u001B[0;32m  12188\u001B[0m         \u001B[38;5;124mf\u001B[39m\u001B[38;5;124m\"\u001B[39m\u001B[38;5;124mInvalid method: \u001B[39m\u001B[38;5;132;01m{\u001B[39;00mmethod\u001B[38;5;132;01m}\u001B[39;00m\u001B[38;5;124m. Method must be in \u001B[39m\u001B[38;5;132;01m{\u001B[39;00mvalid_method\u001B[38;5;132;01m}\u001B[39;00m\u001B[38;5;124m.\u001B[39m\u001B[38;5;124m\"\u001B[39m\n\u001B[0;32m  12189\u001B[0m     )\n\u001B[0;32m  12190\u001B[0m \u001B[38;5;28;01mif\u001B[39;00m method \u001B[38;5;241m==\u001B[39m \u001B[38;5;124m\"\u001B[39m\u001B[38;5;124msingle\u001B[39m\u001B[38;5;124m\"\u001B[39m:\n\u001B[1;32m> 12191\u001B[0m     res \u001B[38;5;241m=\u001B[39m data\u001B[38;5;241m.\u001B[39m_mgr\u001B[38;5;241m.\u001B[39mquantile(qs\u001B[38;5;241m=\u001B[39mq, interpolation\u001B[38;5;241m=\u001B[39minterpolation)\n\u001B[0;32m  12192\u001B[0m \u001B[38;5;28;01melif\u001B[39;00m method \u001B[38;5;241m==\u001B[39m \u001B[38;5;124m\"\u001B[39m\u001B[38;5;124mtable\u001B[39m\u001B[38;5;124m\"\u001B[39m:\n\u001B[0;32m  12193\u001B[0m     valid_interpolation \u001B[38;5;241m=\u001B[39m {\u001B[38;5;124m\"\u001B[39m\u001B[38;5;124mnearest\u001B[39m\u001B[38;5;124m\"\u001B[39m, \u001B[38;5;124m\"\u001B[39m\u001B[38;5;124mlower\u001B[39m\u001B[38;5;124m\"\u001B[39m, \u001B[38;5;124m\"\u001B[39m\u001B[38;5;124mhigher\u001B[39m\u001B[38;5;124m\"\u001B[39m}\n",
      "File \u001B[1;32m~\\anaconda3\\envs\\ds24\\Lib\\site-packages\\pandas\\core\\internals\\managers.py:1549\u001B[0m, in \u001B[0;36mBlockManager.quantile\u001B[1;34m(self, qs, interpolation)\u001B[0m\n\u001B[0;32m   1545\u001B[0m new_axes \u001B[38;5;241m=\u001B[39m \u001B[38;5;28mlist\u001B[39m(\u001B[38;5;28mself\u001B[39m\u001B[38;5;241m.\u001B[39maxes)\n\u001B[0;32m   1546\u001B[0m new_axes[\u001B[38;5;241m1\u001B[39m] \u001B[38;5;241m=\u001B[39m Index(qs, dtype\u001B[38;5;241m=\u001B[39mnp\u001B[38;5;241m.\u001B[39mfloat64)\n\u001B[0;32m   1548\u001B[0m blocks \u001B[38;5;241m=\u001B[39m [\n\u001B[1;32m-> 1549\u001B[0m     blk\u001B[38;5;241m.\u001B[39mquantile(qs\u001B[38;5;241m=\u001B[39mqs, interpolation\u001B[38;5;241m=\u001B[39minterpolation) \u001B[38;5;28;01mfor\u001B[39;00m blk \u001B[38;5;129;01min\u001B[39;00m \u001B[38;5;28mself\u001B[39m\u001B[38;5;241m.\u001B[39mblocks\n\u001B[0;32m   1550\u001B[0m ]\n\u001B[0;32m   1552\u001B[0m \u001B[38;5;28;01mreturn\u001B[39;00m \u001B[38;5;28mtype\u001B[39m(\u001B[38;5;28mself\u001B[39m)(blocks, new_axes)\n",
      "File \u001B[1;32m~\\anaconda3\\envs\\ds24\\Lib\\site-packages\\pandas\\core\\internals\\blocks.py:1891\u001B[0m, in \u001B[0;36mBlock.quantile\u001B[1;34m(self, qs, interpolation)\u001B[0m\n\u001B[0;32m   1888\u001B[0m \u001B[38;5;28;01massert\u001B[39;00m \u001B[38;5;28mself\u001B[39m\u001B[38;5;241m.\u001B[39mndim \u001B[38;5;241m==\u001B[39m \u001B[38;5;241m2\u001B[39m\n\u001B[0;32m   1889\u001B[0m \u001B[38;5;28;01massert\u001B[39;00m is_list_like(qs)  \u001B[38;5;66;03m# caller is responsible for this\u001B[39;00m\n\u001B[1;32m-> 1891\u001B[0m result \u001B[38;5;241m=\u001B[39m quantile_compat(\u001B[38;5;28mself\u001B[39m\u001B[38;5;241m.\u001B[39mvalues, np\u001B[38;5;241m.\u001B[39masarray(qs\u001B[38;5;241m.\u001B[39m_values), interpolation)\n\u001B[0;32m   1892\u001B[0m \u001B[38;5;66;03m# ensure_block_shape needed for cases where we start with EA and result\u001B[39;00m\n\u001B[0;32m   1893\u001B[0m \u001B[38;5;66;03m#  is ndarray, e.g. IntegerArray, SparseArray\u001B[39;00m\n\u001B[0;32m   1894\u001B[0m result \u001B[38;5;241m=\u001B[39m ensure_block_shape(result, ndim\u001B[38;5;241m=\u001B[39m\u001B[38;5;241m2\u001B[39m)\n",
      "File \u001B[1;32m~\\anaconda3\\envs\\ds24\\Lib\\site-packages\\pandas\\core\\array_algos\\quantile.py:39\u001B[0m, in \u001B[0;36mquantile_compat\u001B[1;34m(values, qs, interpolation)\u001B[0m\n\u001B[0;32m     37\u001B[0m     fill_value \u001B[38;5;241m=\u001B[39m na_value_for_dtype(values\u001B[38;5;241m.\u001B[39mdtype, compat\u001B[38;5;241m=\u001B[39m\u001B[38;5;28;01mFalse\u001B[39;00m)\n\u001B[0;32m     38\u001B[0m     mask \u001B[38;5;241m=\u001B[39m isna(values)\n\u001B[1;32m---> 39\u001B[0m     \u001B[38;5;28;01mreturn\u001B[39;00m quantile_with_mask(values, mask, fill_value, qs, interpolation)\n\u001B[0;32m     40\u001B[0m \u001B[38;5;28;01melse\u001B[39;00m:\n\u001B[0;32m     41\u001B[0m     \u001B[38;5;28;01mreturn\u001B[39;00m values\u001B[38;5;241m.\u001B[39m_quantile(qs, interpolation)\n",
      "File \u001B[1;32m~\\anaconda3\\envs\\ds24\\Lib\\site-packages\\pandas\\core\\array_algos\\quantile.py:97\u001B[0m, in \u001B[0;36mquantile_with_mask\u001B[1;34m(values, mask, fill_value, qs, interpolation)\u001B[0m\n\u001B[0;32m     95\u001B[0m     result \u001B[38;5;241m=\u001B[39m np\u001B[38;5;241m.\u001B[39mrepeat(flat, \u001B[38;5;28mlen\u001B[39m(values))\u001B[38;5;241m.\u001B[39mreshape(\u001B[38;5;28mlen\u001B[39m(values), \u001B[38;5;28mlen\u001B[39m(qs))\n\u001B[0;32m     96\u001B[0m \u001B[38;5;28;01melse\u001B[39;00m:\n\u001B[1;32m---> 97\u001B[0m     result \u001B[38;5;241m=\u001B[39m _nanpercentile(\n\u001B[0;32m     98\u001B[0m         values,\n\u001B[0;32m     99\u001B[0m         qs \u001B[38;5;241m*\u001B[39m \u001B[38;5;241m100.0\u001B[39m,\n\u001B[0;32m    100\u001B[0m         na_value\u001B[38;5;241m=\u001B[39mfill_value,\n\u001B[0;32m    101\u001B[0m         mask\u001B[38;5;241m=\u001B[39mmask,\n\u001B[0;32m    102\u001B[0m         interpolation\u001B[38;5;241m=\u001B[39minterpolation,\n\u001B[0;32m    103\u001B[0m     )\n\u001B[0;32m    105\u001B[0m     result \u001B[38;5;241m=\u001B[39m np\u001B[38;5;241m.\u001B[39masarray(result)\n\u001B[0;32m    106\u001B[0m     result \u001B[38;5;241m=\u001B[39m result\u001B[38;5;241m.\u001B[39mT\n",
      "File \u001B[1;32m~\\anaconda3\\envs\\ds24\\Lib\\site-packages\\pandas\\core\\array_algos\\quantile.py:218\u001B[0m, in \u001B[0;36m_nanpercentile\u001B[1;34m(values, qs, na_value, mask, interpolation)\u001B[0m\n\u001B[0;32m    216\u001B[0m     \u001B[38;5;28;01mreturn\u001B[39;00m result\n\u001B[0;32m    217\u001B[0m \u001B[38;5;28;01melse\u001B[39;00m:\n\u001B[1;32m--> 218\u001B[0m     \u001B[38;5;28;01mreturn\u001B[39;00m np\u001B[38;5;241m.\u001B[39mpercentile(\n\u001B[0;32m    219\u001B[0m         values,\n\u001B[0;32m    220\u001B[0m         qs,\n\u001B[0;32m    221\u001B[0m         axis\u001B[38;5;241m=\u001B[39m\u001B[38;5;241m1\u001B[39m,\n\u001B[0;32m    222\u001B[0m         \u001B[38;5;66;03m# error: No overload variant of \"percentile\" matches argument types\u001B[39;00m\n\u001B[0;32m    223\u001B[0m         \u001B[38;5;66;03m# \"ndarray[Any, Any]\", \"ndarray[Any, dtype[floating[_64Bit]]]\",\u001B[39;00m\n\u001B[0;32m    224\u001B[0m         \u001B[38;5;66;03m# \"int\", \"Dict[str, str]\"  [call-overload]\u001B[39;00m\n\u001B[0;32m    225\u001B[0m         method\u001B[38;5;241m=\u001B[39minterpolation,  \u001B[38;5;66;03m# type: ignore[call-overload]\u001B[39;00m\n\u001B[0;32m    226\u001B[0m     )\n",
      "File \u001B[1;32m~\\anaconda3\\envs\\ds24\\Lib\\site-packages\\numpy\\lib\\_function_base_impl.py:4287\u001B[0m, in \u001B[0;36mpercentile\u001B[1;34m(a, q, axis, out, overwrite_input, method, keepdims, weights, interpolation)\u001B[0m\n\u001B[0;32m   4284\u001B[0m     \u001B[38;5;28;01mif\u001B[39;00m np\u001B[38;5;241m.\u001B[39many(weights \u001B[38;5;241m<\u001B[39m \u001B[38;5;241m0\u001B[39m):\n\u001B[0;32m   4285\u001B[0m         \u001B[38;5;28;01mraise\u001B[39;00m \u001B[38;5;167;01mValueError\u001B[39;00m(\u001B[38;5;124m\"\u001B[39m\u001B[38;5;124mWeights must be non-negative.\u001B[39m\u001B[38;5;124m\"\u001B[39m)\n\u001B[1;32m-> 4287\u001B[0m \u001B[38;5;28;01mreturn\u001B[39;00m _quantile_unchecked(\n\u001B[0;32m   4288\u001B[0m     a, q, axis, out, overwrite_input, method, keepdims, weights)\n",
      "File \u001B[1;32m~\\anaconda3\\envs\\ds24\\Lib\\site-packages\\numpy\\lib\\_function_base_impl.py:4676\u001B[0m, in \u001B[0;36m_quantile_unchecked\u001B[1;34m(a, q, axis, out, overwrite_input, method, keepdims, weights)\u001B[0m\n\u001B[0;32m   4667\u001B[0m \u001B[38;5;28;01mdef\u001B[39;00m \u001B[38;5;21m_quantile_unchecked\u001B[39m(a,\n\u001B[0;32m   4668\u001B[0m                         q,\n\u001B[0;32m   4669\u001B[0m                         axis\u001B[38;5;241m=\u001B[39m\u001B[38;5;28;01mNone\u001B[39;00m,\n\u001B[1;32m   (...)\u001B[0m\n\u001B[0;32m   4673\u001B[0m                         keepdims\u001B[38;5;241m=\u001B[39m\u001B[38;5;28;01mFalse\u001B[39;00m,\n\u001B[0;32m   4674\u001B[0m                         weights\u001B[38;5;241m=\u001B[39m\u001B[38;5;28;01mNone\u001B[39;00m):\n\u001B[0;32m   4675\u001B[0m \u001B[38;5;250m    \u001B[39m\u001B[38;5;124;03m\"\"\"Assumes that q is in [0, 1], and is an ndarray\"\"\"\u001B[39;00m\n\u001B[1;32m-> 4676\u001B[0m     \u001B[38;5;28;01mreturn\u001B[39;00m _ureduce(a,\n\u001B[0;32m   4677\u001B[0m                     func\u001B[38;5;241m=\u001B[39m_quantile_ureduce_func,\n\u001B[0;32m   4678\u001B[0m                     q\u001B[38;5;241m=\u001B[39mq,\n\u001B[0;32m   4679\u001B[0m                     weights\u001B[38;5;241m=\u001B[39mweights,\n\u001B[0;32m   4680\u001B[0m                     keepdims\u001B[38;5;241m=\u001B[39mkeepdims,\n\u001B[0;32m   4681\u001B[0m                     axis\u001B[38;5;241m=\u001B[39maxis,\n\u001B[0;32m   4682\u001B[0m                     out\u001B[38;5;241m=\u001B[39mout,\n\u001B[0;32m   4683\u001B[0m                     overwrite_input\u001B[38;5;241m=\u001B[39moverwrite_input,\n\u001B[0;32m   4684\u001B[0m                     method\u001B[38;5;241m=\u001B[39mmethod)\n",
      "File \u001B[1;32m~\\anaconda3\\envs\\ds24\\Lib\\site-packages\\numpy\\lib\\_function_base_impl.py:3764\u001B[0m, in \u001B[0;36m_ureduce\u001B[1;34m(a, func, keepdims, **kwargs)\u001B[0m\n\u001B[0;32m   3761\u001B[0m             index_out \u001B[38;5;241m=\u001B[39m (\u001B[38;5;241m0\u001B[39m, ) \u001B[38;5;241m*\u001B[39m nd\n\u001B[0;32m   3762\u001B[0m             kwargs[\u001B[38;5;124m'\u001B[39m\u001B[38;5;124mout\u001B[39m\u001B[38;5;124m'\u001B[39m] \u001B[38;5;241m=\u001B[39m out[(\u001B[38;5;28mEllipsis\u001B[39m, ) \u001B[38;5;241m+\u001B[39m index_out]\n\u001B[1;32m-> 3764\u001B[0m r \u001B[38;5;241m=\u001B[39m func(a, \u001B[38;5;241m*\u001B[39m\u001B[38;5;241m*\u001B[39mkwargs)\n\u001B[0;32m   3766\u001B[0m \u001B[38;5;28;01mif\u001B[39;00m out \u001B[38;5;129;01mis\u001B[39;00m \u001B[38;5;129;01mnot\u001B[39;00m \u001B[38;5;28;01mNone\u001B[39;00m:\n\u001B[0;32m   3767\u001B[0m     \u001B[38;5;28;01mreturn\u001B[39;00m out\n",
      "File \u001B[1;32m~\\anaconda3\\envs\\ds24\\Lib\\site-packages\\numpy\\lib\\_function_base_impl.py:4853\u001B[0m, in \u001B[0;36m_quantile_ureduce_func\u001B[1;34m(a, q, weights, axis, out, overwrite_input, method)\u001B[0m\n\u001B[0;32m   4851\u001B[0m         arr \u001B[38;5;241m=\u001B[39m a\u001B[38;5;241m.\u001B[39mcopy()\n\u001B[0;32m   4852\u001B[0m         wgt \u001B[38;5;241m=\u001B[39m weights\n\u001B[1;32m-> 4853\u001B[0m result \u001B[38;5;241m=\u001B[39m _quantile(arr,\n\u001B[0;32m   4854\u001B[0m                    quantiles\u001B[38;5;241m=\u001B[39mq,\n\u001B[0;32m   4855\u001B[0m                    axis\u001B[38;5;241m=\u001B[39maxis,\n\u001B[0;32m   4856\u001B[0m                    method\u001B[38;5;241m=\u001B[39mmethod,\n\u001B[0;32m   4857\u001B[0m                    out\u001B[38;5;241m=\u001B[39mout,\n\u001B[0;32m   4858\u001B[0m                    weights\u001B[38;5;241m=\u001B[39mwgt)\n\u001B[0;32m   4859\u001B[0m \u001B[38;5;28;01mreturn\u001B[39;00m result\n",
      "File \u001B[1;32m~\\anaconda3\\envs\\ds24\\Lib\\site-packages\\numpy\\lib\\_function_base_impl.py:4985\u001B[0m, in \u001B[0;36m_quantile\u001B[1;34m(arr, quantiles, axis, method, out, weights)\u001B[0m\n\u001B[0;32m   4983\u001B[0m         result_shape \u001B[38;5;241m=\u001B[39m virtual_indexes\u001B[38;5;241m.\u001B[39mshape \u001B[38;5;241m+\u001B[39m (\u001B[38;5;241m1\u001B[39m,) \u001B[38;5;241m*\u001B[39m (arr\u001B[38;5;241m.\u001B[39mndim \u001B[38;5;241m-\u001B[39m \u001B[38;5;241m1\u001B[39m)\n\u001B[0;32m   4984\u001B[0m         gamma \u001B[38;5;241m=\u001B[39m gamma\u001B[38;5;241m.\u001B[39mreshape(result_shape)\n\u001B[1;32m-> 4985\u001B[0m         result \u001B[38;5;241m=\u001B[39m _lerp(previous,\n\u001B[0;32m   4986\u001B[0m                     \u001B[38;5;28mnext\u001B[39m,\n\u001B[0;32m   4987\u001B[0m                     gamma,\n\u001B[0;32m   4988\u001B[0m                     out\u001B[38;5;241m=\u001B[39mout)\n\u001B[0;32m   4989\u001B[0m \u001B[38;5;28;01melse\u001B[39;00m:\n\u001B[0;32m   4990\u001B[0m     \u001B[38;5;66;03m# Weighted case\u001B[39;00m\n\u001B[0;32m   4991\u001B[0m     \u001B[38;5;66;03m# This implements method=\"inverted_cdf\", the only supported weighted\u001B[39;00m\n\u001B[0;32m   4992\u001B[0m     \u001B[38;5;66;03m# method, which needs to sort anyway.\u001B[39;00m\n\u001B[0;32m   4993\u001B[0m     weights \u001B[38;5;241m=\u001B[39m np\u001B[38;5;241m.\u001B[39masanyarray(weights)\n",
      "File \u001B[1;32m~\\anaconda3\\envs\\ds24\\Lib\\site-packages\\numpy\\lib\\_function_base_impl.py:4779\u001B[0m, in \u001B[0;36m_lerp\u001B[1;34m(a, b, t, out)\u001B[0m\n\u001B[0;32m   4765\u001B[0m \u001B[38;5;28;01mdef\u001B[39;00m \u001B[38;5;21m_lerp\u001B[39m(a, b, t, out\u001B[38;5;241m=\u001B[39m\u001B[38;5;28;01mNone\u001B[39;00m):\n\u001B[0;32m   4766\u001B[0m \u001B[38;5;250m    \u001B[39m\u001B[38;5;124;03m\"\"\"\u001B[39;00m\n\u001B[0;32m   4767\u001B[0m \u001B[38;5;124;03m    Compute the linear interpolation weighted by gamma on each point of\u001B[39;00m\n\u001B[0;32m   4768\u001B[0m \u001B[38;5;124;03m    two same shape array.\u001B[39;00m\n\u001B[1;32m   (...)\u001B[0m\n\u001B[0;32m   4777\u001B[0m \u001B[38;5;124;03m        Output array.\u001B[39;00m\n\u001B[0;32m   4778\u001B[0m \u001B[38;5;124;03m    \"\"\"\u001B[39;00m\n\u001B[1;32m-> 4779\u001B[0m     diff_b_a \u001B[38;5;241m=\u001B[39m subtract(b, a)\n\u001B[0;32m   4780\u001B[0m     \u001B[38;5;66;03m# asanyarray is a stop-gap until gh-13105\u001B[39;00m\n\u001B[0;32m   4781\u001B[0m     lerp_interpolation \u001B[38;5;241m=\u001B[39m asanyarray(add(a, diff_b_a \u001B[38;5;241m*\u001B[39m t, out\u001B[38;5;241m=\u001B[39mout))\n",
      "\u001B[1;31mTypeError\u001B[0m: unsupported operand type(s) for -: 'str' and 'str'"
     ]
    }
   ],
   "execution_count": 24
  },
  {
   "metadata": {
    "ExecuteTime": {
     "end_time": "2024-12-04T10:43:39.087487Z",
     "start_time": "2024-12-04T10:43:39.074135Z"
    }
   },
   "cell_type": "code",
   "source": [
    "train_dataset = AE_trainDataset(train_cat_X, train_num_X, device)\n",
    "valid_dataset = AE_validDataset(valid_cat_X, valid_num_X, valid_y, device)\n",
    "train_loader = DataLoader(train_dataset, batch_size=batch_size, shuffle=True)\n",
    "valid_loader = DataLoader(valid_dataset, batch_size=batch_size, shuffle=False)"
   ],
   "id": "e47b74b1ea7612e",
   "outputs": [
    {
     "ename": "NameError",
     "evalue": "name 'train_cat_X' is not defined",
     "output_type": "error",
     "traceback": [
      "\u001B[1;31m---------------------------------------------------------------------------\u001B[0m",
      "\u001B[1;31mNameError\u001B[0m                                 Traceback (most recent call last)",
      "Cell \u001B[1;32mIn[23], line 1\u001B[0m\n\u001B[1;32m----> 1\u001B[0m train_dataset \u001B[38;5;241m=\u001B[39m AE_trainDataset(train_cat_X, train_num_X, device)\n\u001B[0;32m      2\u001B[0m valid_dataset \u001B[38;5;241m=\u001B[39m AE_validDataset(valid_cat_X, valid_num_X, valid_y, device)\n\u001B[0;32m      3\u001B[0m train_loader \u001B[38;5;241m=\u001B[39m DataLoader(train_dataset, batch_size\u001B[38;5;241m=\u001B[39mbatch_size, shuffle\u001B[38;5;241m=\u001B[39m\u001B[38;5;28;01mTrue\u001B[39;00m)\n",
      "\u001B[1;31mNameError\u001B[0m: name 'train_cat_X' is not defined"
     ]
    }
   ],
   "execution_count": 23
  },
  {
   "metadata": {
    "ExecuteTime": {
     "end_time": "2024-12-04T10:45:30.900864Z",
     "start_time": "2024-12-04T10:45:30.418442Z"
    }
   },
   "cell_type": "code",
   "source": [
    "model = DAGMM(\n",
    "    encoding_dim=encoding_dim,\n",
    "    n_gmm=n_gmm,\n",
    "    cat_features=cat_features,\n",
    "    num_features=num_features,\n",
    ")\n",
    "\n",
    "optimizer = optim.AdamW(model.parameters(), lr=lr, weight_decay=1e-4)\n",
    "criterion = nn.MSELoss()"
   ],
   "id": "302e6f0996a157e3",
   "outputs": [],
   "execution_count": 26
  },
  {
   "metadata": {},
   "cell_type": "code",
   "outputs": [],
   "execution_count": null,
   "source": [
    "# Training Loop\n",
    "best_f1 = 0\n",
    "for epoch in tqdm(range(num_epochs)):\n",
    "    # Training Phase\n",
    "    model.train()\n",
    "    train_loss = 0\n",
    "    for cat_features, num_features in train_loader:\n",
    "        optimizer.zero_grad()\n",
    "        if use_dagmm:\n",
    "            enc, dec, z, gamma = model(torch.cat([cat_features, num_features], dim=1))\n",
    "            loss, recon_loss, energy_loss, cov_diag_loss = model.loss_function(\n",
    "                torch.cat([cat_features, num_features], dim=1), dec, z, gamma\n",
    "            )\n",
    "        else:\n",
    "            y_hat, y = model(cat_features, num_features)\n",
    "            mse_loss = criterion(y_hat, y)\n",
    "            l1_reg = sum(torch.norm(param, 1) for param in model.parameters())\n",
    "            loss = mse_loss + l1_lambda * l1_reg\n",
    "\n",
    "        loss.backward()\n",
    "        optimizer.step()\n",
    "        train_loss += loss.item()\n",
    "\n",
    "    train_loss /= len(train_loader)\n",
    "\n",
    "    # Validation Phase (every 10 epochs)\n",
    "    if epoch % 10 == 0:\n",
    "        model.eval()\n",
    "        valid_loss = 0\n",
    "        reconstruction_errors = []\n",
    "        all_labels = []\n",
    "\n",
    "        with torch.no_grad():\n",
    "            for cat_features, num_features, labels in valid_loader:\n",
    "                if use_dagmm:\n",
    "                    enc, dec, z, gamma = model(torch.cat([cat_features, num_features], dim=1))\n",
    "                    sample_errors = model.compute_energy(z, model.phi, model.mu, model.cov)\n",
    "                else:\n",
    "                    y_hat, y = model(cat_features, num_features)\n",
    "                    sample_errors = torch.mean((y_hat - y) ** 2, dim=1)\n",
    "\n",
    "                reconstruction_errors.extend(sample_errors.cpu().numpy())\n",
    "                all_labels.extend(labels.cpu().numpy())\n",
    "\n",
    "        # Performance Evaluation\n",
    "        threshold = np.percentile(reconstruction_errors, 90)\n",
    "        predictions = (np.array(reconstruction_errors) > threshold).astype(int)\n",
    "        f1 = f1_score(all_labels, predictions)\n",
    "\n",
    "        print(f\"Epoch {epoch}: Train Loss = {train_loss:.4f}, Valid F1 = {f1:.4f}\")\n",
    "\n",
    "        # Save Best Model\n",
    "        if f1 > best_f1:\n",
    "            best_f1 = f1\n",
    "            torch.save(model.state_dict(), 'best_model.pth')\n",
    "\n",
    "print(f\"Best F1 Score: {best_f1}\")"
   ],
   "id": "f3c1e916d538754c"
  }
 ],
 "metadata": {
  "kernelspec": {
   "display_name": "Python 3",
   "language": "python",
   "name": "python3"
  },
  "language_info": {
   "codemirror_mode": {
    "name": "ipython",
    "version": 2
   },
   "file_extension": ".py",
   "mimetype": "text/x-python",
   "name": "python",
   "nbconvert_exporter": "python",
   "pygments_lexer": "ipython2",
   "version": "2.7.6"
  }
 },
 "nbformat": 4,
 "nbformat_minor": 5
}
