{
 "cells": [
  {
   "cell_type": "code",
   "id": "initial_id",
   "metadata": {
    "collapsed": true,
    "ExecuteTime": {
     "end_time": "2024-12-08T11:43:09.022852Z",
     "start_time": "2024-12-08T11:43:08.347206Z"
    }
   },
   "source": [
    "import torch\n",
    "import torch.nn as nn\n",
    "import torch.optim as optim\n",
    "from torch.utils.data import DataLoader\n",
    "from sklearn.metrics import f1_score, recall_score, precision_score, accuracy_score, confusion_matrix\n",
    "import numpy as np\n",
    "from tqdm import tqdm\n",
    "from Models.AutoEncoder import AutoEncoder, AE_validDataset, AE_trainDataset\n",
    "from Models.DAGMM import *\n",
    "from utils.utils import process_data\n",
    "from utils.Visualization import plot_confusion_heatmap"
   ],
   "outputs": [],
   "execution_count": 4
  },
  {
   "metadata": {
    "ExecuteTime": {
     "end_time": "2024-12-08T11:43:09.190831Z",
     "start_time": "2024-12-08T11:43:09.026858Z"
    }
   },
   "cell_type": "code",
   "source": [
    "device = torch.device(\"cuda\" if torch.cuda.is_available() else \"cpu\")\n",
    "print(device)"
   ],
   "id": "424cc9c636225a53",
   "outputs": [
    {
     "name": "stdout",
     "output_type": "stream",
     "text": [
      "cuda\n"
     ]
    }
   ],
   "execution_count": 5
  },
  {
   "metadata": {
    "ExecuteTime": {
     "end_time": "2024-12-08T11:43:09.347430Z",
     "start_time": "2024-12-08T11:43:09.200849Z"
    }
   },
   "cell_type": "code",
   "source": [
    "num_epochs = 300\n",
    "batch_size = 512\n",
    "lr = 1e-4\n",
    "encoding_dim = 28\n",
    "n_gmm = 8\n",
    "lambda_energy = 0.1\n",
    "lambda_cov_diag = 0.005\n",
    "l1_lambda = 1e-5"
   ],
   "id": "b43f3d4eed655aab",
   "outputs": [],
   "execution_count": 6
  },
  {
   "metadata": {
    "ExecuteTime": {
     "end_time": "2024-12-08T11:43:09.501121Z",
     "start_time": "2024-12-08T11:43:09.352531Z"
    }
   },
   "cell_type": "code",
   "source": [
    "    cat_features = [\n",
    "    'Gender',\n",
    "    'Zipcode',\n",
    "    'Day',\n",
    "    'Card Brand',\n",
    "    'Card Type',\n",
    "    'Has Chip',\n",
    "    'Whether Security Chip is Used',\n",
    "    'Error Message',\n",
    "    'WeekDay',\n",
    "    'Credit Signal',\n",
    "    'PIN Change',\n",
    "    'Security Level'\n",
    "]\n",
    "num_features = [\n",
    "    'Current Age',\n",
    "    'Retirement Age',\n",
    "    'Per Capita Income - Zipcode',\n",
    "    'Yearly Income',\n",
    "    'Total Debt',\n",
    "    'Credit Score',\n",
    "    'Valid Month',\n",
    "    'Credit Limit',\n",
    "    'Since Open Month',\n",
    "    'Year PIN last Changed',\n",
    "    'Amount',\n",
    "    'Credit Util',\n",
    "    'Years Changed PIN',\n",
    "    'Security Score'\n",
    "]\n",
    "discarded = [\n",
    "    'User',\n",
    "    'Birth Year',\n",
    "    'Birth Month',\n",
    "    'Year',\n",
    "    'Month',\n",
    "    'Merchandise Code',\n",
    "    'Card',\n",
    "    'Card Number',\n",
    "    'Expires',\n",
    "    'Acct Open Date',\n",
    "]\n",
    "\n",
    "print(len(cat_features))\n",
    "print(len(num_features))\n",
    "print(len(discarded))\n",
    "print(len(cat_features)*5 + len(num_features))"
   ],
   "id": "b4efdb44a7dc095f",
   "outputs": [
    {
     "name": "stdout",
     "output_type": "stream",
     "text": [
      "12\n",
      "14\n",
      "10\n",
      "74\n"
     ]
    }
   ],
   "execution_count": 7
  },
  {
   "metadata": {
    "ExecuteTime": {
     "end_time": "2024-12-08T11:43:19.462358Z",
     "start_time": "2024-12-08T11:43:09.513102Z"
    }
   },
   "cell_type": "code",
   "source": [
    "\n",
    "# 데이터 전처리\n",
    "data_path = '../data/[24-2 DS_Project2] Data.csv'\n",
    "(train_cat_X, train_num_X, train_y), (valid_cat_X, valid_num_X, valid_y), label_encoders, _ = process_data(\n",
    "    data_path,\n",
    "    cat_features,\n",
    "    num_features,\n",
    "    discarded\n",
    ")"
   ],
   "id": "810a8a84e77288f0",
   "outputs": [
    {
     "name": "stdout",
     "output_type": "stream",
     "text": [
      "TRANSITION\n",
      "IQR\n",
      "SPLIT\n",
      "DISCARD\n",
      "SCALE\n",
      "ENCODE\n",
      "UNLABEL\n",
      "TARGET\n",
      "TRAIN CAT/NUM\n",
      "VALID CAT/NUM\n",
      "RETURN\n"
     ]
    }
   ],
   "execution_count": 8
  },
  {
   "metadata": {
    "ExecuteTime": {
     "end_time": "2024-12-08T11:43:19.627914Z",
     "start_time": "2024-12-08T11:43:19.476536Z"
    }
   },
   "cell_type": "code",
   "source": [
    "print(train_y.value_counts())\n",
    "print(valid_y.value_counts())"
   ],
   "id": "b0e8b6d4ebad3438",
   "outputs": [
    {
     "name": "stdout",
     "output_type": "stream",
     "text": [
      "Is Fraud?\n",
      "0.0          733455\n",
      "Name: count, dtype: int64\n",
      "Is Fraud?\n",
      "0.0          249722\n",
      "1.0             358\n",
      "Name: count, dtype: int64\n"
     ]
    }
   ],
   "execution_count": 9
  },
  {
   "metadata": {
    "ExecuteTime": {
     "end_time": "2024-12-08T11:43:19.936802Z",
     "start_time": "2024-12-08T11:43:19.640524Z"
    }
   },
   "cell_type": "code",
   "source": [
    "train_dataset = AE_trainDataset(train_cat_X, train_num_X, device)\n",
    "valid_dataset = AE_validDataset(valid_cat_X, valid_num_X, valid_y, device)\n",
    "train_loader = DataLoader(train_dataset, batch_size=batch_size, shuffle=True)\n",
    "valid_loader = DataLoader(valid_dataset, batch_size=batch_size, shuffle=False)"
   ],
   "id": "e47b74b1ea7612e",
   "outputs": [],
   "execution_count": 10
  },
  {
   "metadata": {
    "ExecuteTime": {
     "end_time": "2024-12-08T11:43:20.678033Z",
     "start_time": "2024-12-08T11:43:19.950271Z"
    }
   },
   "cell_type": "code",
   "source": [
    "%load_ext autoreload\n",
    "%autoreload 2\n",
    "from Models.DAGMM import DAGMM\n",
    "\n",
    "model = DAGMM(\n",
    "    encoding_dim=encoding_dim,\n",
    "    n_gmm=n_gmm,\n",
    "    cat_features=cat_features,\n",
    "    num_features=num_features,\n",
    ").to(device)\n",
    "\n",
    "optimizer = optim.AdamW(model.parameters(), lr=lr, weight_decay=1e-4)\n",
    "criterion = nn.MSELoss()\n",
    "\n",
    "checkpoint = torch.load('../Models/best_dagmm.pth')\n",
    "model.load_state_dict(checkpoint)\n",
    "\n"
   ],
   "id": "302e6f0996a157e3",
   "outputs": [
    {
     "name": "stdout",
     "output_type": "stream",
     "text": [
      "The autoreload extension is already loaded. To reload it, use:\n",
      "  %reload_ext autoreload\n"
     ]
    },
    {
     "name": "stderr",
     "output_type": "stream",
     "text": [
      "C:\\Users\\mose1\\AppData\\Local\\Temp\\ipykernel_9256\\2635257466.py:15: FutureWarning: You are using `torch.load` with `weights_only=False` (the current default value), which uses the default pickle module implicitly. It is possible to construct malicious pickle data which will execute arbitrary code during unpickling (See https://github.com/pytorch/pytorch/blob/main/SECURITY.md#untrusted-models for more details). In a future release, the default value for `weights_only` will be flipped to `True`. This limits the functions that could be executed during unpickling. Arbitrary objects will no longer be allowed to be loaded via this mode unless they are explicitly allowlisted by the user via `torch.serialization.add_safe_globals`. We recommend you start setting `weights_only=True` for any use case where you don't have full control of the loaded file. Please open an issue on GitHub for any issues related to this experimental feature.\n",
      "  checkpoint = torch.load('../Models/best_dagmm.pth')\n"
     ]
    },
    {
     "data": {
      "text/plain": [
       "<All keys matched successfully>"
      ]
     },
     "execution_count": 11,
     "metadata": {},
     "output_type": "execute_result"
    }
   ],
   "execution_count": 11
  },
  {
   "metadata": {
    "ExecuteTime": {
     "end_time": "2024-12-08T11:43:20.960663Z",
     "start_time": "2024-12-08T11:43:20.958649Z"
    }
   },
   "cell_type": "code",
   "source": "",
   "id": "7d3ab3b665e423d5",
   "outputs": [],
   "execution_count": null
  },
  {
   "metadata": {
    "ExecuteTime": {
     "end_time": "2024-12-08T11:43:21.180913Z",
     "start_time": "2024-12-08T11:43:21.179261Z"
    }
   },
   "cell_type": "code",
   "source": "",
   "id": "a1ff187f8f59b939",
   "outputs": [],
   "execution_count": null
  },
  {
   "metadata": {
    "ExecuteTime": {
     "end_time": "2024-12-08T11:43:21.398085Z",
     "start_time": "2024-12-08T11:43:21.396339Z"
    }
   },
   "cell_type": "code",
   "source": "",
   "id": "f3c1e916d538754c",
   "outputs": [],
   "execution_count": null
  },
  {
   "metadata": {
    "ExecuteTime": {
     "end_time": "2024-12-08T11:43:30.099859Z",
     "start_time": "2024-12-08T11:43:21.627464Z"
    }
   },
   "cell_type": "code",
   "source": [
    "model.eval()\n",
    "valid_loss = 0\n",
    "reconstruction_errors = []\n",
    "all_labels = []\n",
    "total_recon_loss = 0  # Validation 복원 손실\n",
    "total_energy_loss = 0  # Validation 에너지 손실\n",
    "\n",
    "with torch.no_grad():\n",
    "    for cat_features, num_features, labels in valid_loader:\n",
    "        cat_features = cat_features.to(device)\n",
    "        num_features = num_features.to(device)\n",
    "        labels = labels.to(device)\n",
    "\n",
    "        x, enc, dec, z, gamma = model(cat_features, num_features)\n",
    "\n",
    "        # Validation 손실 계산\n",
    "        loss, recon_loss, energy_loss, cov_diag_loss = model.loss(\n",
    "            x, dec, z, gamma, lambda_energy, lambda_cov_diag\n",
    "        )\n",
    "        valid_loss += loss.mean().item()  # 총 Validation 손실 계산\n",
    "        total_recon_loss += recon_loss.mean().item()\n",
    "        total_energy_loss += energy_loss.mean().item()\n",
    "\n",
    "        sample_errors = model.compute_energy(z, model.phi, model.mu, model.cov)\n",
    "        reconstruction_errors.extend(sample_errors.cpu().numpy())\n",
    "\n",
    "        all_labels.extend(labels.cpu().numpy())\n",
    "\n",
    "# 손실 평균 계산\n",
    "valid_loss /= len(valid_loader)\n",
    "total_recon_loss /= len(valid_loader)\n",
    "total_energy_loss /= len(valid_loader)\n",
    "\n",
    "# Performance Evaluation\n",
    "threshold = np.percentile(reconstruction_errors, 80)\n",
    "print(reconstruction_errors)\n",
    "predictions = (np.array(reconstruction_errors) > threshold).astype(int)\n",
    "f1 = f1_score(all_labels, predictions)\n",
    "recall = recall_score(all_labels, predictions)\n",
    "precision = precision_score(all_labels, predictions, zero_division=1)\n",
    "\n",
    "# 결과 출력\n",
    "print(f\"  Valid Loss     = {valid_loss:.4f}\")\n",
    "print(f\"  Recon Loss     = {total_recon_loss:.4f}\")\n",
    "print(f\"  Energy Loss    = {total_energy_loss:.4f}\")\n",
    "print(f\"  Valid F1 Score = {f1:.4f}\")\n",
    "print(f\"  Valid Recall   = {recall:.4f}\")\n",
    "print(f\"  Valid Precision= {precision:.4f}\")"
   ],
   "id": "ec5d790ce12b6965",
   "outputs": [
    {
     "name": "stderr",
     "output_type": "stream",
     "text": [
      "IOPub data rate exceeded.\n",
      "The Jupyter server will temporarily stop sending output\n",
      "to the client in order to avoid crashing it.\n",
      "To change this limit, set the config variable\n",
      "`--ServerApp.iopub_data_rate_limit`.\n",
      "\n",
      "Current values:\n",
      "ServerApp.iopub_data_rate_limit=1000000.0 (bytes/sec)\n",
      "ServerApp.rate_limit_window=3.0 (secs)\n",
      "\n"
     ]
    },
    {
     "name": "stdout",
     "output_type": "stream",
     "text": [
      "\n",
      "  Valid Loss     = 1.2581\n",
      "  Recon Loss     = 0.0073\n",
      "  Energy Loss    = 11.8569\n",
      "  Valid F1 Score = 0.0018\n",
      "  Valid Recall   = 0.1257\n",
      "  Valid Precision= 0.0009\n"
     ]
    }
   ],
   "execution_count": 12
  },
  {
   "metadata": {
    "ExecuteTime": {
     "end_time": "2024-12-08T11:43:31.741431Z",
     "start_time": "2024-12-08T11:43:30.449474Z"
    }
   },
   "cell_type": "code",
   "source": [
    "print(\"Confusion Matrix:\\n\", confusion_matrix(all_labels, predictions))\n",
    "plot_confusion_heatmap(\n",
    "    y_true=all_labels,\n",
    "    y_pred=predictions,\n",
    "    class_names=[\"Not Fraud\", \"Fraud\"],\n",
    "    title=\"Base Model Validation Confusion Matrix\",\n",
    "    cmap=\"Blues\"\n",
    ")"
   ],
   "id": "9f9ed5c09861bd97",
   "outputs": [
    {
     "name": "stdout",
     "output_type": "stream",
     "text": [
      "Confusion Matrix:\n",
      " [[199753  49969]\n",
      " [   313     45]]\n"
     ]
    },
    {
     "data": {
      "text/plain": [
       "<Figure size 800x600 with 2 Axes>"
      ],
      "image/png": "[encoded data removed]"
     },
     "metadata": {},
     "output_type": "display_data"
    }
   ],
   "execution_count": 13
  },
  {
   "metadata": {
    "ExecuteTime": {
     "end_time": "2024-12-08T11:43:32.142989Z",
     "start_time": "2024-12-08T11:43:32.140791Z"
    }
   },
   "cell_type": "code",
   "source": "",
   "id": "5b34b70be0d86a0f",
   "outputs": [],
   "execution_count": null
  }
 ],
 "metadata": {
  "kernelspec": {
   "display_name": "Python 3",
   "language": "python",
   "name": "python3"
  },
  "language_info": {
   "codemirror_mode": {
    "name": "ipython",
    "version": 2
   },
   "file_extension": ".py",
   "mimetype": "text/x-python",
   "name": "python",
   "nbconvert_exporter": "python",
   "pygments_lexer": "ipython2",
   "version": "2.7.6"
  }
 },
 "nbformat": 4,
 "nbformat_minor": 5
}
