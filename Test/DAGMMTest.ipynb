{
 "cells": [
  {
   "cell_type": "code",
   "id": "initial_id",
   "metadata": {
    "collapsed": true,
    "ExecuteTime": {
     "end_time": "2024-12-06T16:08:15.254470Z",
     "start_time": "2024-12-06T16:08:11.190118Z"
    }
   },
   "source": [
    "import torch\n",
    "import torch.nn as nn\n",
    "import torch.optim as optim\n",
    "from torch.utils.data import DataLoader\n",
    "from sklearn.metrics import f1_score, recall_score, precision_score, accuracy_score, confusion_matrix\n",
    "import numpy as np\n",
    "from tqdm import tqdm\n",
    "from Models.AutoEncoder import AutoEncoder, AE_validDataset, AE_trainDataset\n",
    "from Models.DAGMM import *\n",
    "from utils.utils import process_data\n",
    "from utils.Visualization import plot_confusion_heatmap"
   ],
   "outputs": [],
   "execution_count": 1
  },
  {
   "metadata": {
    "ExecuteTime": {
     "end_time": "2024-12-06T16:08:19.140265Z",
     "start_time": "2024-12-06T16:08:19.116076Z"
    }
   },
   "cell_type": "code",
   "source": [
    "device = torch.device(\"cuda\" if torch.cuda.is_available() else \"cpu\")\n",
    "print(device)"
   ],
   "id": "424cc9c636225a53",
   "outputs": [
    {
     "name": "stdout",
     "output_type": "stream",
     "text": [
      "cuda\n"
     ]
    }
   ],
   "execution_count": 2
  },
  {
   "metadata": {
    "ExecuteTime": {
     "end_time": "2024-12-06T16:08:19.366599Z",
     "start_time": "2024-12-06T16:08:19.363348Z"
    }
   },
   "cell_type": "code",
   "source": [
    "num_epochs = 100\n",
    "batch_size = 128\n",
    "lr = 1e-4\n",
    "encoding_dim = 28\n",
    "n_gmm = 2\n",
    "lambda_energy = 0.1\n",
    "lambda_cov_diag = 0.005\n",
    "l1_lambda = 1e-5"
   ],
   "id": "b43f3d4eed655aab",
   "outputs": [],
   "execution_count": 3
  },
  {
   "metadata": {
    "ExecuteTime": {
     "end_time": "2024-12-06T16:08:19.775719Z",
     "start_time": "2024-12-06T16:08:19.769031Z"
    }
   },
   "cell_type": "code",
   "source": [
    "# Feature Selection\n",
    "cat_features = ['Card', 'Gender', 'Card Brand', 'Card Type', 'Expires', 'Has Chip',\n",
    "                'Year PIN last Changed', 'Whether Security Chip is Used', 'Day']\n",
    "num_features = ['Current Age', 'Retirement Age', 'Per Capita Income - Zipcode',\n",
    "                'Yearly Income', 'Total Debt', 'Credit Score', 'Credit Limit', 'Amount']\n",
    "discarded = ['User', 'Birth Year', 'Birth Month', 'Zipcode']\n",
    "\n",
    "print(len(cat_features))\n",
    "print(len(num_features))\n",
    "print(len(discarded))\n",
    "print(len(cat_features)*5 + len(num_features))"
   ],
   "id": "b4efdb44a7dc095f",
   "outputs": [
    {
     "name": "stdout",
     "output_type": "stream",
     "text": [
      "9\n",
      "8\n",
      "4\n",
      "53\n"
     ]
    }
   ],
   "execution_count": 4
  },
  {
   "metadata": {
    "ExecuteTime": {
     "end_time": "2024-12-06T16:08:31.718415Z",
     "start_time": "2024-12-06T16:08:20.310125Z"
    }
   },
   "cell_type": "code",
   "source": [
    "\n",
    "# 데이터 전처리\n",
    "data_path = '../data/[24-2 DS_Project2] Data.csv'\n",
    "(train_cat_X, train_num_X, train_y), (valid_cat_X, valid_num_X, valid_y), label_encoders, _ = process_data(\n",
    "    data_path,\n",
    "    cat_features,\n",
    "    num_features,\n",
    "    discarded\n",
    ")"
   ],
   "id": "810a8a84e77288f0",
   "outputs": [
    {
     "name": "stdout",
     "output_type": "stream",
     "text": [
      "TRANSITION\n",
      "IQR\n",
      "SPLIT\n",
      "DISCARD\n",
      "SCALE\n",
      "ENCODE\n",
      "UNLABEL\n",
      "TARGET\n",
      "TRAIN CAT/NUM\n",
      "VALID CAT/NUM\n",
      "RETURN\n"
     ]
    }
   ],
   "execution_count": 5
  },
  {
   "metadata": {
    "ExecuteTime": {
     "end_time": "2024-12-06T16:10:24.974917Z",
     "start_time": "2024-12-06T16:10:24.956614Z"
    }
   },
   "cell_type": "code",
   "source": [
    "print(train_y.value_counts())\n",
    "print(valid_y.value_counts())"
   ],
   "id": "b0e8b6d4ebad3438",
   "outputs": [
    {
     "name": "stdout",
     "output_type": "stream",
     "text": [
      "Is Fraud?\n",
      "0.0          902733\n",
      "Name: count, dtype: int64\n",
      "Is Fraud?\n",
      "0.0          308750\n",
      "1.0             494\n",
      "Name: count, dtype: int64\n"
     ]
    }
   ],
   "execution_count": 16
  },
  {
   "metadata": {
    "ExecuteTime": {
     "end_time": "2024-12-05T21:29:52.167620Z",
     "start_time": "2024-12-05T21:29:51.959062Z"
    }
   },
   "cell_type": "code",
   "source": [
    "train_dataset = AE_trainDataset(train_cat_X, train_num_X, device)\n",
    "valid_dataset = AE_validDataset(valid_cat_X, valid_num_X, valid_y, device)\n",
    "train_loader = DataLoader(train_dataset, batch_size=batch_size, shuffle=True)\n",
    "valid_loader = DataLoader(valid_dataset, batch_size=batch_size, shuffle=False)"
   ],
   "id": "e47b74b1ea7612e",
   "outputs": [],
   "execution_count": 14
  },
  {
   "metadata": {
    "ExecuteTime": {
     "end_time": "2024-12-05T21:29:52.443436Z",
     "start_time": "2024-12-05T21:29:52.255403Z"
    }
   },
   "cell_type": "code",
   "source": [
    "%load_ext autoreload\n",
    "%autoreload 2\n",
    "from Models.DAGMM import DAGMM\n",
    "\n",
    "model = DAGMM(\n",
    "    encoding_dim=encoding_dim,\n",
    "    n_gmm=n_gmm,\n",
    "    cat_features=cat_features,\n",
    "    num_features=num_features,\n",
    ").to(device)\n",
    "\n",
    "optimizer = optim.AdamW(model.parameters(), lr=lr, weight_decay=1e-4)\n",
    "criterion = nn.MSELoss()\n",
    "\n"
   ],
   "id": "302e6f0996a157e3",
   "outputs": [
    {
     "name": "stdout",
     "output_type": "stream",
     "text": [
      "The autoreload extension is already loaded. To reload it, use:\n",
      "  %reload_ext autoreload\n"
     ]
    }
   ],
   "execution_count": 15
  },
  {
   "metadata": {},
   "cell_type": "code",
   "outputs": [],
   "execution_count": null,
   "source": "",
   "id": "7d3ab3b665e423d5"
  },
  {
   "metadata": {},
   "cell_type": "code",
   "outputs": [],
   "execution_count": null,
   "source": [
    "for epoch in range(num_epochs):\n",
    "    for cat_features, num_features in tqdm(train_loader):\n",
    "        cat_features = cat_features.to(device)\n",
    "        num_features = num_features.to(device)\n",
    "\n",
    "        # dagmm_step\n",
    "        model.train()\n",
    "        enc, dec, z, gamma = model(cat_features, num_features)\n",
    "\n",
    "        cat_embedding = model.get_embedding_cat(cat_features)\n",
    "        total_loss, recon_loss, energy, cov_diag = model.loss(\n",
    "            torch.cat(cat_embedding +  [num_features], dim=1), dec, z, gamma, lambda_energy, lambda_cov_diag\n",
    "        )\n",
    "\n",
    "        model.zero_grad()\n",
    "        total_loss.backward()\n",
    "\n",
    "        torch.nn.utils.clip_grad_norm_(model.parameters(), 5)\n",
    "        optimizer.step()\n",
    "\n",
    "        #logging\n",
    "        loss = {}\n",
    "        loss['total_loss'] = total_loss.data.item()\n",
    "        loss['sample_energy'] = recon_loss.item()\n",
    "        loss['recon_loss'] = recon_loss.item()\n",
    "        loss['cov_diag'] = cov_diag.item()\n",
    "\n"
   ],
   "id": "a1ff187f8f59b939"
  },
  {
   "metadata": {
    "ExecuteTime": {
     "end_time": "2024-12-05T23:42:34.325093Z",
     "start_time": "2024-12-05T22:02:04.538178Z"
    }
   },
   "cell_type": "code",
   "source": [
    "# Training Loop\n",
    "best_f1 = 0\n",
    "for epoch in range(num_epochs):\n",
    "    # Training Phase\n",
    "    #model.train()\n",
    "    train_loss = 0\n",
    "    for cat_features, num_features in tqdm(train_loader):\n",
    "        cat_features = cat_features.to(device)\n",
    "        num_features = num_features.to(device)\n",
    "        #optimizer.zero_grad()\n",
    "        #print(cat_features.shape)\n",
    "        #enc, dec, z, gamma = model(cat_features, num_features)\n",
    "        #cat_embedding = model.get_embedding_cat(cat_features)\n",
    "        #loss, recon_loss, energy_loss, cov_diag_loss = model.loss(\n",
    "        #    torch.cat(cat_embedding +  [num_features], dim=1), dec, z, gamma, lambda_energy, lambda_cov_diag\n",
    "        #)\n",
    "        #loss = loss.mean()\n",
    "        #loss.backward()\n",
    "        #optimizer.step()\n",
    "\n",
    "        # dagmm_step\n",
    "        model.train()\n",
    "        enc, dec, z, gamma = model(cat_features, num_features)\n",
    "\n",
    "        cat_embedding = model.get_embedding_cat(cat_features)\n",
    "        loss, recon_loss, energy, cov_diag = model.loss(\n",
    "            torch.cat(cat_embedding +  [num_features], dim=1), dec, z, gamma, lambda_energy, lambda_cov_diag\n",
    "        )\n",
    "\n",
    "        model.zero_grad()\n",
    "        loss = loss.mean()\n",
    "        loss.backward()\n",
    "\n",
    "        torch.nn.utils.clip_grad_norm_(model.parameters(), 5)\n",
    "        optimizer.step()\n",
    "\n",
    "        train_loss += loss.item()\n",
    "\n",
    "    train_loss /= len(train_loader)\n",
    "\n",
    "    # Validation Phase (every 10 epochs)\n",
    "    if epoch % 10 == 0:\n",
    "        model.eval()\n",
    "        valid_loss = 0\n",
    "        reconstruction_errors = []\n",
    "        all_labels = []\n",
    "        total_recon_loss = 0  # Validation 복원 손실\n",
    "        total_energy_loss = 0  # Validation 에너지 손실\n",
    "\n",
    "        with torch.no_grad():\n",
    "            for cat_features, num_features, labels in valid_loader:\n",
    "                cat_features = cat_features.to(device)\n",
    "                num_features = num_features.to(device)\n",
    "                labels = labels.to(device)\n",
    "\n",
    "                enc, dec, z, gamma = model(cat_features, num_features)\n",
    "\n",
    "                # Validation 손실 계산\n",
    "                cat_embedding = model.get_embedding_cat(cat_features)\n",
    "                loss, recon_loss, energy_loss, cov_diag_loss = model.loss(\n",
    "                    torch.cat(cat_embedding + [num_features], dim=1), dec, z, gamma, lambda_energy, lambda_cov_diag\n",
    "                )\n",
    "                valid_loss += loss.mean().item()  # 총 Validation 손실 계산\n",
    "                total_recon_loss += recon_loss.mean().item()\n",
    "                total_energy_loss += energy_loss.mean().item()\n",
    "\n",
    "                sample_errors = model.compute_energy(z, model.phi, model.mu, model.cov)\n",
    "                reconstruction_errors.extend(sample_errors.cpu().numpy())\n",
    "\n",
    "                all_labels.extend(labels.cpu().numpy())\n",
    "\n",
    "        # 손실 평균 계산\n",
    "        valid_loss /= len(valid_loader)\n",
    "        total_recon_loss /= len(valid_loader)\n",
    "        total_energy_loss /= len(valid_loader)\n",
    "\n",
    "        # Performance Evaluation\n",
    "        threshold = np.percentile(reconstruction_errors, 50)\n",
    "        print(reconstruction_errors)\n",
    "        predictions = (np.array(reconstruction_errors) > threshold).astype(int)\n",
    "        f1 = f1_score(all_labels, predictions)\n",
    "        recall = recall_score(all_labels, predictions)\n",
    "        precision = precision_score(all_labels, predictions, zero_division=1)\n",
    "\n",
    "        # 결과 출력\n",
    "        print(f\"Epoch {epoch}:\")\n",
    "        print(f\"  Train Loss     = {train_loss:.4f}\")\n",
    "        print(f\"  Valid Loss     = {valid_loss:.4f}\")\n",
    "        print(f\"  Recon Loss     = {total_recon_loss:.4f}\")\n",
    "        print(f\"  Energy Loss    = {total_energy_loss:.4f}\")\n",
    "        print(f\"  Valid F1 Score = {f1:.4f}\")\n",
    "        print(f\"  Valid Recall   = {recall:.4f}\")\n",
    "        print(f\"  Valid Precision= {precision:.4f}\")\n",
    "\n",
    "        # Save Best Model\n",
    "        if f1 > best_f1:\n",
    "            best_f1 = f1\n",
    "            torch.save(model.state_dict(), 'best_model.pth')\n",
    "\n",
    "print(f\"Best F1 Score: {best_f1}\")"
   ],
   "id": "f3c1e916d538754c",
   "outputs": [
    {
     "name": "stderr",
     "output_type": "stream",
     "text": [
      "100%|██████████| 7053/7053 [00:57<00:00, 122.11it/s]\n",
      "IOPub data rate exceeded.\n",
      "The Jupyter server will temporarily stop sending output\n",
      "to the client in order to avoid crashing it.\n",
      "To change this limit, set the config variable\n",
      "`--ServerApp.iopub_data_rate_limit`.\n",
      "\n",
      "Current values:\n",
      "ServerApp.iopub_data_rate_limit=1000000.0 (bytes/sec)\n",
      "ServerApp.rate_limit_window=3.0 (secs)\n",
      "\n"
     ]
    },
    {
     "name": "stdout",
     "output_type": "stream",
     "text": [
      "\n",
      "Epoch 0:\n",
      "  Train Loss     = 1.1930\n",
      "  Valid Loss     = 1.2231\n",
      "  Recon Loss     = 0.0044\n",
      "  Energy Loss    = 12.1868\n",
      "  Valid F1 Score = 0.0032\n",
      "  Valid Recall   = 0.3543\n",
      "  Valid Precision= 0.0016\n"
     ]
    },
    {
     "name": "stderr",
     "output_type": "stream",
     "text": [
      "100%|██████████| 7053/7053 [00:56<00:00, 123.83it/s]\n",
      "100%|██████████| 7053/7053 [00:56<00:00, 124.40it/s]\n",
      "100%|██████████| 7053/7053 [00:57<00:00, 123.17it/s]\n",
      "100%|██████████| 7053/7053 [00:59<00:00, 118.89it/s]\n",
      "100%|██████████| 7053/7053 [00:58<00:00, 121.23it/s]\n",
      "100%|██████████| 7053/7053 [00:57<00:00, 122.31it/s]\n",
      "100%|██████████| 7053/7053 [00:58<00:00, 121.38it/s]\n",
      "100%|██████████| 7053/7053 [00:58<00:00, 121.11it/s]\n",
      "100%|██████████| 7053/7053 [00:58<00:00, 121.40it/s]\n",
      "100%|██████████| 7053/7053 [00:58<00:00, 119.97it/s]\n",
      "IOPub data rate exceeded.\n",
      "The Jupyter server will temporarily stop sending output\n",
      "to the client in order to avoid crashing it.\n",
      "To change this limit, set the config variable\n",
      "`--ServerApp.iopub_data_rate_limit`.\n",
      "\n",
      "Current values:\n",
      "ServerApp.iopub_data_rate_limit=1000000.0 (bytes/sec)\n",
      "ServerApp.rate_limit_window=3.0 (secs)\n",
      "\n"
     ]
    },
    {
     "name": "stdout",
     "output_type": "stream",
     "text": [
      "\n",
      "Epoch 10:\n",
      "  Train Loss     = 1.1909\n",
      "  Valid Loss     = 1.2233\n",
      "  Recon Loss     = 0.0045\n",
      "  Energy Loss    = 12.1884\n",
      "  Valid F1 Score = 0.0034\n",
      "  Valid Recall   = 0.3482\n",
      "  Valid Precision= 0.0017\n"
     ]
    },
    {
     "name": "stderr",
     "output_type": "stream",
     "text": [
      "100%|██████████| 7053/7053 [00:57<00:00, 121.70it/s]\n",
      "100%|██████████| 7053/7053 [00:57<00:00, 121.84it/s]\n",
      "100%|██████████| 7053/7053 [00:58<00:00, 121.23it/s]\n",
      "100%|██████████| 7053/7053 [00:58<00:00, 120.77it/s]\n",
      "100%|██████████| 7053/7053 [00:58<00:00, 121.31it/s]\n",
      "100%|██████████| 7053/7053 [00:58<00:00, 120.79it/s]\n",
      "100%|██████████| 7053/7053 [00:58<00:00, 121.28it/s]\n",
      "100%|██████████| 7053/7053 [00:58<00:00, 121.20it/s]\n",
      "100%|██████████| 7053/7053 [00:57<00:00, 121.63it/s]\n",
      "100%|██████████| 7053/7053 [01:00<00:00, 116.93it/s]\n",
      "IOPub data rate exceeded.\n",
      "The Jupyter server will temporarily stop sending output\n",
      "to the client in order to avoid crashing it.\n",
      "To change this limit, set the config variable\n",
      "`--ServerApp.iopub_data_rate_limit`.\n",
      "\n",
      "Current values:\n",
      "ServerApp.iopub_data_rate_limit=1000000.0 (bytes/sec)\n",
      "ServerApp.rate_limit_window=3.0 (secs)\n",
      "\n"
     ]
    },
    {
     "name": "stdout",
     "output_type": "stream",
     "text": [
      "\n",
      "Epoch 20:\n",
      "  Train Loss     = 1.1893\n",
      "  Valid Loss     = 1.2251\n",
      "  Recon Loss     = 0.0074\n",
      "  Energy Loss    = 12.1774\n",
      "  Valid F1 Score = 0.0029\n",
      "  Valid Recall   = 0.4595\n",
      "  Valid Precision= 0.0015\n"
     ]
    },
    {
     "name": "stderr",
     "output_type": "stream",
     "text": [
      "100%|██████████| 7053/7053 [01:01<00:00, 114.56it/s]\n",
      "100%|██████████| 7053/7053 [01:00<00:00, 116.49it/s]\n",
      "100%|██████████| 7053/7053 [00:58<00:00, 120.55it/s]\n",
      "100%|██████████| 7053/7053 [01:00<00:00, 116.91it/s]\n",
      "100%|██████████| 7053/7053 [01:00<00:00, 115.76it/s]\n",
      "100%|██████████| 7053/7053 [01:02<00:00, 112.82it/s]\n",
      "100%|██████████| 7053/7053 [00:58<00:00, 119.71it/s]\n",
      "100%|██████████| 7053/7053 [00:59<00:00, 117.98it/s]\n",
      "100%|██████████| 7053/7053 [00:59<00:00, 118.67it/s]\n",
      "100%|██████████| 7053/7053 [00:59<00:00, 117.91it/s]\n",
      "IOPub data rate exceeded.\n",
      "The Jupyter server will temporarily stop sending output\n",
      "to the client in order to avoid crashing it.\n",
      "To change this limit, set the config variable\n",
      "`--ServerApp.iopub_data_rate_limit`.\n",
      "\n",
      "Current values:\n",
      "ServerApp.iopub_data_rate_limit=1000000.0 (bytes/sec)\n",
      "ServerApp.rate_limit_window=3.0 (secs)\n",
      "\n"
     ]
    },
    {
     "name": "stdout",
     "output_type": "stream",
     "text": [
      "\n",
      "Epoch 30:\n",
      "  Train Loss     = 1.1865\n",
      "  Valid Loss     = 1.2228\n",
      "  Recon Loss     = 0.0049\n",
      "  Energy Loss    = 12.1798\n",
      "  Valid F1 Score = 0.0030\n",
      "  Valid Recall   = 0.4676\n",
      "  Valid Precision= 0.0015\n"
     ]
    },
    {
     "name": "stderr",
     "output_type": "stream",
     "text": [
      "100%|██████████| 7053/7053 [00:55<00:00, 127.56it/s]\n",
      "100%|██████████| 7053/7053 [00:55<00:00, 127.15it/s]\n",
      "100%|██████████| 7053/7053 [00:55<00:00, 126.89it/s]\n",
      "100%|██████████| 7053/7053 [00:55<00:00, 126.61it/s]\n",
      "100%|██████████| 7053/7053 [00:55<00:00, 126.60it/s]\n",
      "100%|██████████| 7053/7053 [00:54<00:00, 128.39it/s]\n",
      "100%|██████████| 7053/7053 [00:55<00:00, 127.62it/s]\n",
      "100%|██████████| 7053/7053 [00:54<00:00, 129.26it/s]\n",
      "100%|██████████| 7053/7053 [00:55<00:00, 126.74it/s]\n",
      "100%|██████████| 7053/7053 [00:54<00:00, 128.25it/s]\n",
      "IOPub data rate exceeded.\n",
      "The Jupyter server will temporarily stop sending output\n",
      "to the client in order to avoid crashing it.\n",
      "To change this limit, set the config variable\n",
      "`--ServerApp.iopub_data_rate_limit`.\n",
      "\n",
      "Current values:\n",
      "ServerApp.iopub_data_rate_limit=1000000.0 (bytes/sec)\n",
      "ServerApp.rate_limit_window=3.0 (secs)\n",
      "\n"
     ]
    },
    {
     "name": "stdout",
     "output_type": "stream",
     "text": [
      "\n",
      "Epoch 40:\n",
      "  Train Loss     = 1.1863\n",
      "  Valid Loss     = 1.2222\n",
      "  Recon Loss     = 0.0044\n",
      "  Energy Loss    = 12.1771\n",
      "  Valid F1 Score = 0.0031\n",
      "  Valid Recall   = 0.4899\n",
      "  Valid Precision= 0.0016\n"
     ]
    },
    {
     "name": "stderr",
     "output_type": "stream",
     "text": [
      "100%|██████████| 7053/7053 [00:55<00:00, 128.11it/s]\n",
      "100%|██████████| 7053/7053 [00:55<00:00, 128.23it/s]\n",
      "100%|██████████| 7053/7053 [00:55<00:00, 127.92it/s]\n",
      "100%|██████████| 7053/7053 [00:56<00:00, 123.77it/s]\n",
      "100%|██████████| 7053/7053 [00:57<00:00, 122.59it/s]\n",
      "100%|██████████| 7053/7053 [00:56<00:00, 124.76it/s]\n",
      "100%|██████████| 7053/7053 [00:57<00:00, 122.61it/s]\n",
      "100%|██████████| 7053/7053 [00:57<00:00, 122.98it/s]\n",
      "100%|██████████| 7053/7053 [00:57<00:00, 122.45it/s]\n",
      "100%|██████████| 7053/7053 [00:57<00:00, 123.56it/s]\n",
      "IOPub data rate exceeded.\n",
      "The Jupyter server will temporarily stop sending output\n",
      "to the client in order to avoid crashing it.\n",
      "To change this limit, set the config variable\n",
      "`--ServerApp.iopub_data_rate_limit`.\n",
      "\n",
      "Current values:\n",
      "ServerApp.iopub_data_rate_limit=1000000.0 (bytes/sec)\n",
      "ServerApp.rate_limit_window=3.0 (secs)\n",
      "\n"
     ]
    },
    {
     "name": "stdout",
     "output_type": "stream",
     "text": [
      "\n",
      "Epoch 50:\n",
      "  Train Loss     = 1.1862\n",
      "  Valid Loss     = 1.2265\n",
      "  Recon Loss     = 0.0092\n",
      "  Energy Loss    = 12.1733\n",
      "  Valid F1 Score = 0.0029\n",
      "  Valid Recall   = 0.4494\n",
      "  Valid Precision= 0.0014\n"
     ]
    },
    {
     "name": "stderr",
     "output_type": "stream",
     "text": [
      "100%|██████████| 7053/7053 [00:57<00:00, 122.79it/s]\n",
      "100%|██████████| 7053/7053 [00:57<00:00, 122.98it/s]\n",
      "100%|██████████| 7053/7053 [00:57<00:00, 122.96it/s]\n",
      "100%|██████████| 7053/7053 [00:58<00:00, 121.06it/s]\n",
      "100%|██████████| 7053/7053 [00:58<00:00, 121.53it/s]\n",
      "100%|██████████| 7053/7053 [00:57<00:00, 122.17it/s]\n",
      "100%|██████████| 7053/7053 [00:57<00:00, 123.70it/s]\n",
      "100%|██████████| 7053/7053 [01:05<00:00, 108.00it/s]\n",
      "100%|██████████| 7053/7053 [01:01<00:00, 113.97it/s]\n",
      "100%|██████████| 7053/7053 [01:01<00:00, 114.37it/s]\n",
      "IOPub data rate exceeded.\n",
      "The Jupyter server will temporarily stop sending output\n",
      "to the client in order to avoid crashing it.\n",
      "To change this limit, set the config variable\n",
      "`--ServerApp.iopub_data_rate_limit`.\n",
      "\n",
      "Current values:\n",
      "ServerApp.iopub_data_rate_limit=1000000.0 (bytes/sec)\n",
      "ServerApp.rate_limit_window=3.0 (secs)\n",
      "\n"
     ]
    },
    {
     "name": "stdout",
     "output_type": "stream",
     "text": [
      "\n",
      "Epoch 60:\n",
      "  Train Loss     = 1.1861\n",
      "  Valid Loss     = 1.2241\n",
      "  Recon Loss     = 0.0071\n",
      "  Energy Loss    = 12.1693\n",
      "  Valid F1 Score = 0.0034\n",
      "  Valid Recall   = 0.5385\n",
      "  Valid Precision= 0.0017\n"
     ]
    },
    {
     "name": "stderr",
     "output_type": "stream",
     "text": [
      "100%|██████████| 7053/7053 [01:02<00:00, 113.35it/s]\n",
      "100%|██████████| 7053/7053 [01:00<00:00, 116.13it/s]\n",
      "100%|██████████| 7053/7053 [01:01<00:00, 115.59it/s]\n",
      "100%|██████████| 7053/7053 [01:01<00:00, 115.14it/s]\n",
      "100%|██████████| 7053/7053 [01:01<00:00, 114.81it/s]\n",
      "100%|██████████| 7053/7053 [01:02<00:00, 113.50it/s]\n",
      "100%|██████████| 7053/7053 [01:01<00:00, 114.70it/s]\n",
      "100%|██████████| 7053/7053 [01:01<00:00, 114.43it/s]\n",
      "100%|██████████| 7053/7053 [01:00<00:00, 116.19it/s]\n",
      "100%|██████████| 7053/7053 [00:59<00:00, 119.32it/s]\n",
      "IOPub data rate exceeded.\n",
      "The Jupyter server will temporarily stop sending output\n",
      "to the client in order to avoid crashing it.\n",
      "To change this limit, set the config variable\n",
      "`--ServerApp.iopub_data_rate_limit`.\n",
      "\n",
      "Current values:\n",
      "ServerApp.iopub_data_rate_limit=1000000.0 (bytes/sec)\n",
      "ServerApp.rate_limit_window=3.0 (secs)\n",
      "\n"
     ]
    },
    {
     "name": "stdout",
     "output_type": "stream",
     "text": [
      "\n",
      "Epoch 70:\n",
      "  Train Loss     = 1.1860\n",
      "  Valid Loss     = 1.2210\n",
      "  Recon Loss     = 0.0044\n",
      "  Energy Loss    = 12.1666\n",
      "  Valid F1 Score = 0.0031\n",
      "  Valid Recall   = 0.4879\n",
      "  Valid Precision= 0.0016\n"
     ]
    },
    {
     "name": "stderr",
     "output_type": "stream",
     "text": [
      "100%|██████████| 7053/7053 [00:59<00:00, 118.69it/s]\n",
      "100%|██████████| 7053/7053 [01:00<00:00, 116.32it/s]\n",
      "100%|██████████| 7053/7053 [01:00<00:00, 115.71it/s]\n",
      "100%|██████████| 7053/7053 [01:01<00:00, 114.23it/s]\n",
      "100%|██████████| 7053/7053 [01:01<00:00, 115.13it/s]\n",
      "100%|██████████| 7053/7053 [01:01<00:00, 115.32it/s]\n",
      "100%|██████████| 7053/7053 [01:00<00:00, 116.47it/s]\n",
      "100%|██████████| 7053/7053 [01:00<00:00, 115.97it/s]\n",
      "100%|██████████| 7053/7053 [01:00<00:00, 116.42it/s]\n",
      "100%|██████████| 7053/7053 [01:01<00:00, 114.67it/s]\n",
      "IOPub data rate exceeded.\n",
      "The Jupyter server will temporarily stop sending output\n",
      "to the client in order to avoid crashing it.\n",
      "To change this limit, set the config variable\n",
      "`--ServerApp.iopub_data_rate_limit`.\n",
      "\n",
      "Current values:\n",
      "ServerApp.iopub_data_rate_limit=1000000.0 (bytes/sec)\n",
      "ServerApp.rate_limit_window=3.0 (secs)\n",
      "\n"
     ]
    },
    {
     "name": "stdout",
     "output_type": "stream",
     "text": [
      "\n",
      "Epoch 80:\n",
      "  Train Loss     = 1.1859\n",
      "  Valid Loss     = 1.2226\n",
      "  Recon Loss     = 0.0061\n",
      "  Energy Loss    = 12.1650\n",
      "  Valid F1 Score = 0.0034\n",
      "  Valid Recall   = 0.5304\n",
      "  Valid Precision= 0.0017\n"
     ]
    },
    {
     "name": "stderr",
     "output_type": "stream",
     "text": [
      "100%|██████████| 7053/7053 [01:01<00:00, 115.29it/s]\n",
      "100%|██████████| 7053/7053 [01:00<00:00, 115.72it/s]\n",
      "100%|██████████| 7053/7053 [00:59<00:00, 118.61it/s]\n",
      "100%|██████████| 7053/7053 [00:58<00:00, 119.84it/s]\n",
      "100%|██████████| 7053/7053 [00:58<00:00, 119.80it/s]\n",
      "100%|██████████| 7053/7053 [00:59<00:00, 119.43it/s]\n",
      "100%|██████████| 7053/7053 [00:59<00:00, 119.04it/s]\n",
      "100%|██████████| 7053/7053 [00:58<00:00, 120.00it/s]\n",
      "100%|██████████| 7053/7053 [00:58<00:00, 119.89it/s]\n",
      "100%|██████████| 7053/7053 [00:58<00:00, 119.75it/s]\n",
      "IOPub data rate exceeded.\n",
      "The Jupyter server will temporarily stop sending output\n",
      "to the client in order to avoid crashing it.\n",
      "To change this limit, set the config variable\n",
      "`--ServerApp.iopub_data_rate_limit`.\n",
      "\n",
      "Current values:\n",
      "ServerApp.iopub_data_rate_limit=1000000.0 (bytes/sec)\n",
      "ServerApp.rate_limit_window=3.0 (secs)\n",
      "\n"
     ]
    },
    {
     "name": "stdout",
     "output_type": "stream",
     "text": [
      "\n",
      "Epoch 90:\n",
      "  Train Loss     = 1.1858\n",
      "  Valid Loss     = 1.2215\n",
      "  Recon Loss     = 0.0050\n",
      "  Energy Loss    = 12.1644\n",
      "  Valid F1 Score = 0.0034\n",
      "  Valid Recall   = 0.5263\n",
      "  Valid Precision= 0.0017\n"
     ]
    },
    {
     "name": "stderr",
     "output_type": "stream",
     "text": [
      "100%|██████████| 7053/7053 [00:58<00:00, 119.64it/s]\n",
      "100%|██████████| 7053/7053 [00:58<00:00, 119.91it/s]\n",
      "100%|██████████| 7053/7053 [01:00<00:00, 116.50it/s]\n",
      "100%|██████████| 7053/7053 [01:01<00:00, 113.96it/s]\n",
      "100%|██████████| 7053/7053 [01:00<00:00, 117.18it/s]\n",
      "100%|██████████| 7053/7053 [00:58<00:00, 120.02it/s]\n",
      "100%|██████████| 7053/7053 [00:58<00:00, 120.65it/s]\n",
      "100%|██████████| 7053/7053 [00:58<00:00, 120.76it/s]\n",
      "100%|██████████| 7053/7053 [00:57<00:00, 122.05it/s]\n"
     ]
    },
    {
     "name": "stdout",
     "output_type": "stream",
     "text": [
      "Best F1 Score: 0.0034298018838122375\n"
     ]
    }
   ],
   "execution_count": 21
  },
  {
   "metadata": {
    "ExecuteTime": {
     "end_time": "2024-12-06T01:34:00.618477Z",
     "start_time": "2024-12-06T01:33:46.012362Z"
    }
   },
   "cell_type": "code",
   "source": [
    "model.eval()\n",
    "valid_loss = 0\n",
    "reconstruction_errors = []\n",
    "all_labels = []\n",
    "total_recon_loss = 0  # Validation 복원 손실\n",
    "total_energy_loss = 0  # Validation 에너지 손실\n",
    "\n",
    "with torch.no_grad():\n",
    "    for cat_features, num_features, labels in valid_loader:\n",
    "        cat_features = cat_features.to(device)\n",
    "        num_features = num_features.to(device)\n",
    "        labels = labels.to(device)\n",
    "\n",
    "        enc, dec, z, gamma = model(cat_features, num_features)\n",
    "\n",
    "        # Validation 손실 계산\n",
    "        cat_embedding = model.get_embedding_cat(cat_features)\n",
    "        loss, recon_loss, energy_loss, cov_diag_loss = model.loss(\n",
    "            torch.cat(cat_embedding + [num_features], dim=1), dec, z, gamma, lambda_energy, lambda_cov_diag\n",
    "        )\n",
    "        valid_loss += loss.mean().item()  # 총 Validation 손실 계산\n",
    "        total_recon_loss += recon_loss.mean().item()\n",
    "        total_energy_loss += energy_loss.mean().item()\n",
    "\n",
    "        sample_errors = model.compute_energy(z, model.phi, model.mu, model.cov)\n",
    "        reconstruction_errors.extend(sample_errors.cpu().numpy())\n",
    "\n",
    "        all_labels.extend(labels.cpu().numpy())\n",
    "\n",
    "# 손실 평균 계산\n",
    "valid_loss /= len(valid_loader)\n",
    "total_recon_loss /= len(valid_loader)\n",
    "total_energy_loss /= len(valid_loader)\n",
    "\n",
    "# Performance Evaluation\n",
    "threshold = np.percentile(reconstruction_errors, 50)\n",
    "print(reconstruction_errors)\n",
    "predictions = (np.array(reconstruction_errors) > threshold).astype(int)\n",
    "f1 = f1_score(all_labels, predictions)\n",
    "recall = recall_score(all_labels, predictions)\n",
    "precision = precision_score(all_labels, predictions, zero_division=1)\n",
    "\n",
    "# 결과 출력\n",
    "print(f\"  Valid Loss     = {valid_loss:.4f}\")\n",
    "print(f\"  Recon Loss     = {total_recon_loss:.4f}\")\n",
    "print(f\"  Energy Loss    = {total_energy_loss:.4f}\")\n",
    "print(f\"  Valid F1 Score = {f1:.4f}\")\n",
    "print(f\"  Valid Recall   = {recall:.4f}\")\n",
    "print(f\"  Valid Precision= {precision:.4f}\")"
   ],
   "id": "ec5d790ce12b6965",
   "outputs": [
    {
     "name": "stderr",
     "output_type": "stream",
     "text": [
      "IOPub data rate exceeded.\n",
      "The Jupyter server will temporarily stop sending output\n",
      "to the client in order to avoid crashing it.\n",
      "To change this limit, set the config variable\n",
      "`--ServerApp.iopub_data_rate_limit`.\n",
      "\n",
      "Current values:\n",
      "ServerApp.iopub_data_rate_limit=1000000.0 (bytes/sec)\n",
      "ServerApp.rate_limit_window=3.0 (secs)\n",
      "\n"
     ]
    },
    {
     "name": "stdout",
     "output_type": "stream",
     "text": [
      "\n",
      "  Valid Loss     = 1.2217\n",
      "  Recon Loss     = 0.0055\n",
      "  Energy Loss    = 12.1625\n",
      "  Valid F1 Score = 0.0031\n",
      "  Valid Recall   = 0.4858\n",
      "  Valid Precision= 0.0016\n"
     ]
    }
   ],
   "execution_count": 22
  },
  {
   "metadata": {
    "ExecuteTime": {
     "end_time": "2024-12-06T01:37:54.891657Z",
     "start_time": "2024-12-06T01:37:53.417119Z"
    }
   },
   "cell_type": "code",
   "source": [
    "print(\"Confusion Matrix:\\n\", confusion_matrix(all_labels, predictions))\n",
    "plot_confusion_heatmap(\n",
    "    y_true=all_labels,\n",
    "    y_pred=predictions,\n",
    "    class_names=[\"Not Fraud\", \"Fraud\"],\n",
    "    title=\"Base Model Validation Confusion Matrix\",\n",
    "    cmap=\"Blues\"\n",
    ")"
   ],
   "id": "9f9ed5c09861bd97",
   "outputs": [
    {
     "name": "stdout",
     "output_type": "stream",
     "text": [
      "Confusion Matrix:\n",
      " [[154369 154381]\n",
      " [   254    240]]\n"
     ]
    },
    {
     "data": {
      "text/plain": [
       "<Figure size 800x600 with 2 Axes>"
      ],
      "image/png": "[encoded data removed]"
     },
     "metadata": {},
     "output_type": "display_data"
    }
   ],
   "execution_count": 29
  },
  {
   "metadata": {},
   "cell_type": "code",
   "outputs": [],
   "execution_count": null,
   "source": "",
   "id": "5b34b70be0d86a0f"
  }
 ],
 "metadata": {
  "kernelspec": {
   "display_name": "Python 3",
   "language": "python",
   "name": "python3"
  },
  "language_info": {
   "codemirror_mode": {
    "name": "ipython",
    "version": 2
   },
   "file_extension": ".py",
   "mimetype": "text/x-python",
   "name": "python",
   "nbconvert_exporter": "python",
   "pygments_lexer": "ipython2",
   "version": "2.7.6"
  }
 },
 "nbformat": 4,
 "nbformat_minor": 5
}
