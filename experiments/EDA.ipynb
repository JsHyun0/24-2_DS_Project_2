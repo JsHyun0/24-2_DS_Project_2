{
 "cells": [
  {
   "metadata": {
    "ExecuteTime": {
     "end_time": "2024-12-06T12:08:15.425541Z",
     "start_time": "2024-12-06T12:08:13.563981Z"
    }
   },
   "cell_type": "code",
   "source": [
    "import sys\n",
    "import os\n",
    "from tqdm import tqdm, trange\n",
    "import seaborn as sns\n",
    "import matplotlib.pyplot as plt\n",
    "from sklearn.metrics import confusion_matrix\n",
    "import torch\n",
    "import torch.nn as nn\n",
    "import torch.optim as optim\n",
    "from torch.utils.data import DataLoader\n",
    "import json\n",
    "from Models.AutoEncoder import *\n",
    "from utils.utils import *\n",
    "from sklearn.metrics import f1_score\n",
    "import numpy as np\n",
    "from dotenv import load_dotenv\n",
    "import time  # 파일 상단에 import 추가\n",
    "import pandas as pd\n",
    "from sklearn.manifold import TSNE\n",
    "from sklearn.preprocessing import StandardScaler\n",
    "import torch\n",
    "from torch.utils.data import DataLoader, TensorDataset\n",
    "from time import time"
   ],
   "id": "731a5bb9bb704274",
   "outputs": [],
   "execution_count": 3
  },
  {
   "metadata": {
    "ExecuteTime": {
     "end_time": "2024-12-06T12:13:28.347734Z",
     "start_time": "2024-12-06T12:13:28.306317Z"
    }
   },
   "cell_type": "code",
   "source": "device = torch.device('mps' if torch.mps.is_available() else 'cpu')",
   "id": "7802e948acbfc95c",
   "outputs": [],
   "execution_count": 17
  },
  {
   "metadata": {},
   "cell_type": "code",
   "outputs": [],
   "execution_count": null,
   "source": [
    "num_epochs = 100\n",
    "batch_size = 128\n",
    "lr = 1e-4"
   ],
   "id": "d71af24d84afc170"
  },
  {
   "metadata": {
    "ExecuteTime": {
     "end_time": "2024-12-06T12:08:19.661534Z",
     "start_time": "2024-12-06T12:08:19.657450Z"
    }
   },
   "cell_type": "code",
   "source": [
    "# 데이터 준비\n",
    "cat_features = [\n",
    "    'Gender',\n",
    "    'Zipcode',\n",
    "    'Day',\n",
    "    'Card Brand',\n",
    "    'Card Type',\n",
    "    'Has Chip',\n",
    "    'Whether Security Chip is Used',\n",
    "    'Error Message',\n",
    "    'WeekDay',\n",
    "    'Credit Signal',\n",
    "    'PIN Change',\n",
    "    'Security Level'\n",
    "]\n",
    "num_features = [\n",
    "    'Current Age',\n",
    "    'Retirement Age',\n",
    "    'Per Capita Income - Zipcode',\n",
    "    'Yearly Income',\n",
    "    'Total Debt',\n",
    "    'Credit Score',\n",
    "    'Valid Month',\n",
    "    'Credit Limit',\n",
    "    'Since Open Month',\n",
    "    'Year PIN last Changed',\n",
    "    'Amount',\n",
    "    'Credit Util',\n",
    "    'Years Changed PIN',\n",
    "    'Security Score'\n",
    "]\n",
    "discarded = [\n",
    "    'User',\n",
    "    'Birth Year',\n",
    "    'Birth Month',\n",
    "    'Year',\n",
    "    'Month',\n",
    "    'Merchandise Code',\n",
    "    'Card',\n",
    "    'Card Number',\n",
    "    'Expires',\n",
    "    'Acct Open Date',\n",
    "]"
   ],
   "id": "208445cab3b5ba32",
   "outputs": [],
   "execution_count": 4
  },
  {
   "metadata": {
    "ExecuteTime": {
     "end_time": "2024-12-06T12:08:21.719730Z",
     "start_time": "2024-12-06T12:08:21.715283Z"
    }
   },
   "cell_type": "code",
   "source": "data_path = 'Data/[24-2 DS_Project2] Data.csv'",
   "id": "b00f1b13161c959a",
   "outputs": [],
   "execution_count": 5
  },
  {
   "metadata": {
    "ExecuteTime": {
     "end_time": "2024-12-06T12:09:33.586383Z",
     "start_time": "2024-12-06T12:09:22.043210Z"
    }
   },
   "cell_type": "code",
   "source": [
    "(train_cat_X, train_num_X, train_y), (valid_cat_X, valid_num_X, valid_y), _ , _ = dt_process_data(\n",
    "        '../Data/[24-2 DS_Project2] Data.csv', \n",
    "        cat_features, \n",
    "        num_features,\n",
    "        discarded\n",
    "    )"
   ],
   "id": "f0e79247e597c9bc",
   "outputs": [
    {
     "name": "stdout",
     "output_type": "stream",
     "text": [
      "TRANSITION\n",
      "IQR\n",
      "SPLIT\n",
      "DISCARD\n",
      "SCALE\n",
      "ENCODE\n",
      "UNLABEL\n",
      "TARGET\n",
      "TRAIN CAT/NUM\n",
      "VALID CAT/NUM\n",
      "RETURN\n"
     ]
    }
   ],
   "execution_count": 9
  },
  {
   "metadata": {
    "ExecuteTime": {
     "end_time": "2024-12-06T12:13:38.530986Z",
     "start_time": "2024-12-06T12:13:38.411769Z"
    }
   },
   "cell_type": "code",
   "source": [
    "checkpoint = torch.load('../Models/best_autoencoder.pth')\n",
    "model.load_state_dict(checkpoint['model_state_dict'])"
   ],
   "id": "a8607bc5f834a745",
   "outputs": [
    {
     "name": "stderr",
     "output_type": "stream",
     "text": [
      "/var/folders/52/2pbbt5ss6d584yv_994fmyz40000gn/T/ipykernel_68297/3500526499.py:1: FutureWarning: You are using `torch.load` with `weights_only=False` (the current default value), which uses the default pickle module implicitly. It is possible to construct malicious pickle data which will execute arbitrary code during unpickling (See https://github.com/pytorch/pytorch/blob/main/SECURITY.md#untrusted-models for more details). In a future release, the default value for `weights_only` will be flipped to `True`. This limits the functions that could be executed during unpickling. Arbitrary objects will no longer be allowed to be loaded via this mode unless they are explicitly allowlisted by the user via `torch.serialization.add_safe_globals`. We recommend you start setting `weights_only=True` for any use case where you don't have full control of the loaded file. Please open an issue on GitHub for any issues related to this experimental feature.\n",
      "  checkpoint = torch.load('../Models/best_autoencoder.pth')\n"
     ]
    },
    {
     "ename": "RuntimeError",
     "evalue": "Attempting to deserialize object on a CUDA device but torch.cuda.is_available() is False. If you are running on a CPU-only machine, please use torch.load with map_location=torch.device('cpu') to map your storages to the CPU.",
     "output_type": "error",
     "traceback": [
      "\u001B[0;31m---------------------------------------------------------------------------\u001B[0m",
      "\u001B[0;31mRuntimeError\u001B[0m                              Traceback (most recent call last)",
      "Cell \u001B[0;32mIn[18], line 1\u001B[0m\n\u001B[0;32m----> 1\u001B[0m checkpoint \u001B[38;5;241m=\u001B[39m torch\u001B[38;5;241m.\u001B[39mload(\u001B[38;5;124m'\u001B[39m\u001B[38;5;124m../Models/best_autoencoder.pth\u001B[39m\u001B[38;5;124m'\u001B[39m)\n\u001B[1;32m      2\u001B[0m model\u001B[38;5;241m.\u001B[39mload_state_dict(checkpoint[\u001B[38;5;124m'\u001B[39m\u001B[38;5;124mmodel_state_dict\u001B[39m\u001B[38;5;124m'\u001B[39m])\n",
      "File \u001B[0;32m/opt/anaconda3/lib/python3.11/site-packages/torch/serialization.py:1360\u001B[0m, in \u001B[0;36mload\u001B[0;34m(f, map_location, pickle_module, weights_only, mmap, **pickle_load_args)\u001B[0m\n\u001B[1;32m   1358\u001B[0m             \u001B[38;5;28;01mexcept\u001B[39;00m pickle\u001B[38;5;241m.\u001B[39mUnpicklingError \u001B[38;5;28;01mas\u001B[39;00m e:\n\u001B[1;32m   1359\u001B[0m                 \u001B[38;5;28;01mraise\u001B[39;00m pickle\u001B[38;5;241m.\u001B[39mUnpicklingError(_get_wo_message(\u001B[38;5;28mstr\u001B[39m(e))) \u001B[38;5;28;01mfrom\u001B[39;00m \u001B[38;5;28;01mNone\u001B[39;00m\n\u001B[0;32m-> 1360\u001B[0m         \u001B[38;5;28;01mreturn\u001B[39;00m _load(\n\u001B[1;32m   1361\u001B[0m             opened_zipfile,\n\u001B[1;32m   1362\u001B[0m             map_location,\n\u001B[1;32m   1363\u001B[0m             pickle_module,\n\u001B[1;32m   1364\u001B[0m             overall_storage\u001B[38;5;241m=\u001B[39moverall_storage,\n\u001B[1;32m   1365\u001B[0m             \u001B[38;5;241m*\u001B[39m\u001B[38;5;241m*\u001B[39mpickle_load_args,\n\u001B[1;32m   1366\u001B[0m         )\n\u001B[1;32m   1367\u001B[0m \u001B[38;5;28;01mif\u001B[39;00m mmap:\n\u001B[1;32m   1368\u001B[0m     f_name \u001B[38;5;241m=\u001B[39m \u001B[38;5;124m\"\u001B[39m\u001B[38;5;124m\"\u001B[39m \u001B[38;5;28;01mif\u001B[39;00m \u001B[38;5;129;01mnot\u001B[39;00m \u001B[38;5;28misinstance\u001B[39m(f, \u001B[38;5;28mstr\u001B[39m) \u001B[38;5;28;01melse\u001B[39;00m \u001B[38;5;124mf\u001B[39m\u001B[38;5;124m\"\u001B[39m\u001B[38;5;132;01m{\u001B[39;00mf\u001B[38;5;132;01m}\u001B[39;00m\u001B[38;5;124m, \u001B[39m\u001B[38;5;124m\"\u001B[39m\n",
      "File \u001B[0;32m/opt/anaconda3/lib/python3.11/site-packages/torch/serialization.py:1848\u001B[0m, in \u001B[0;36m_load\u001B[0;34m(zip_file, map_location, pickle_module, pickle_file, overall_storage, **pickle_load_args)\u001B[0m\n\u001B[1;32m   1846\u001B[0m \u001B[38;5;28;01mglobal\u001B[39;00m _serialization_tls\n\u001B[1;32m   1847\u001B[0m _serialization_tls\u001B[38;5;241m.\u001B[39mmap_location \u001B[38;5;241m=\u001B[39m map_location\n\u001B[0;32m-> 1848\u001B[0m result \u001B[38;5;241m=\u001B[39m unpickler\u001B[38;5;241m.\u001B[39mload()\n\u001B[1;32m   1849\u001B[0m _serialization_tls\u001B[38;5;241m.\u001B[39mmap_location \u001B[38;5;241m=\u001B[39m \u001B[38;5;28;01mNone\u001B[39;00m\n\u001B[1;32m   1851\u001B[0m torch\u001B[38;5;241m.\u001B[39m_utils\u001B[38;5;241m.\u001B[39m_validate_loaded_sparse_tensors()\n",
      "File \u001B[0;32m/opt/anaconda3/lib/python3.11/site-packages/torch/serialization.py:1812\u001B[0m, in \u001B[0;36m_load.<locals>.persistent_load\u001B[0;34m(saved_id)\u001B[0m\n\u001B[1;32m   1810\u001B[0m \u001B[38;5;28;01melse\u001B[39;00m:\n\u001B[1;32m   1811\u001B[0m     nbytes \u001B[38;5;241m=\u001B[39m numel \u001B[38;5;241m*\u001B[39m torch\u001B[38;5;241m.\u001B[39m_utils\u001B[38;5;241m.\u001B[39m_element_size(dtype)\n\u001B[0;32m-> 1812\u001B[0m     typed_storage \u001B[38;5;241m=\u001B[39m load_tensor(\n\u001B[1;32m   1813\u001B[0m         dtype, nbytes, key, _maybe_decode_ascii(location)\n\u001B[1;32m   1814\u001B[0m     )\n\u001B[1;32m   1816\u001B[0m \u001B[38;5;28;01mreturn\u001B[39;00m typed_storage\n",
      "File \u001B[0;32m/opt/anaconda3/lib/python3.11/site-packages/torch/serialization.py:1784\u001B[0m, in \u001B[0;36m_load.<locals>.load_tensor\u001B[0;34m(dtype, numel, key, location)\u001B[0m\n\u001B[1;32m   1779\u001B[0m         storage\u001B[38;5;241m.\u001B[39mbyteswap(dtype)\n\u001B[1;32m   1781\u001B[0m \u001B[38;5;66;03m# TODO: Once we decide to break serialization FC, we can\u001B[39;00m\n\u001B[1;32m   1782\u001B[0m \u001B[38;5;66;03m# stop wrapping with TypedStorage\u001B[39;00m\n\u001B[1;32m   1783\u001B[0m typed_storage \u001B[38;5;241m=\u001B[39m torch\u001B[38;5;241m.\u001B[39mstorage\u001B[38;5;241m.\u001B[39mTypedStorage(\n\u001B[0;32m-> 1784\u001B[0m     wrap_storage\u001B[38;5;241m=\u001B[39mrestore_location(storage, location),\n\u001B[1;32m   1785\u001B[0m     dtype\u001B[38;5;241m=\u001B[39mdtype,\n\u001B[1;32m   1786\u001B[0m     _internal\u001B[38;5;241m=\u001B[39m\u001B[38;5;28;01mTrue\u001B[39;00m,\n\u001B[1;32m   1787\u001B[0m )\n\u001B[1;32m   1789\u001B[0m \u001B[38;5;28;01mif\u001B[39;00m typed_storage\u001B[38;5;241m.\u001B[39m_data_ptr() \u001B[38;5;241m!=\u001B[39m \u001B[38;5;241m0\u001B[39m:\n\u001B[1;32m   1790\u001B[0m     loaded_storages[key] \u001B[38;5;241m=\u001B[39m typed_storage\n",
      "File \u001B[0;32m/opt/anaconda3/lib/python3.11/site-packages/torch/serialization.py:601\u001B[0m, in \u001B[0;36mdefault_restore_location\u001B[0;34m(storage, location)\u001B[0m\n\u001B[1;32m    581\u001B[0m \u001B[38;5;250m\u001B[39m\u001B[38;5;124;03m\"\"\"\u001B[39;00m\n\u001B[1;32m    582\u001B[0m \u001B[38;5;124;03mRestores `storage` using a deserializer function registered for the `location`.\u001B[39;00m\n\u001B[1;32m    583\u001B[0m \n\u001B[0;32m   (...)\u001B[0m\n\u001B[1;32m    598\u001B[0m \u001B[38;5;124;03m       all matching ones return `None`.\u001B[39;00m\n\u001B[1;32m    599\u001B[0m \u001B[38;5;124;03m\"\"\"\u001B[39;00m\n\u001B[1;32m    600\u001B[0m \u001B[38;5;28;01mfor\u001B[39;00m _, _, fn \u001B[38;5;129;01min\u001B[39;00m _package_registry:\n\u001B[0;32m--> 601\u001B[0m     result \u001B[38;5;241m=\u001B[39m fn(storage, location)\n\u001B[1;32m    602\u001B[0m     \u001B[38;5;28;01mif\u001B[39;00m result \u001B[38;5;129;01mis\u001B[39;00m \u001B[38;5;129;01mnot\u001B[39;00m \u001B[38;5;28;01mNone\u001B[39;00m:\n\u001B[1;32m    603\u001B[0m         \u001B[38;5;28;01mreturn\u001B[39;00m result\n",
      "File \u001B[0;32m/opt/anaconda3/lib/python3.11/site-packages/torch/serialization.py:539\u001B[0m, in \u001B[0;36m_deserialize\u001B[0;34m(backend_name, obj, location)\u001B[0m\n\u001B[1;32m    537\u001B[0m     backend_name \u001B[38;5;241m=\u001B[39m torch\u001B[38;5;241m.\u001B[39m_C\u001B[38;5;241m.\u001B[39m_get_privateuse1_backend_name()\n\u001B[1;32m    538\u001B[0m \u001B[38;5;28;01mif\u001B[39;00m location\u001B[38;5;241m.\u001B[39mstartswith(backend_name):\n\u001B[0;32m--> 539\u001B[0m     device \u001B[38;5;241m=\u001B[39m _validate_device(location, backend_name)\n\u001B[1;32m    540\u001B[0m     \u001B[38;5;28;01mreturn\u001B[39;00m obj\u001B[38;5;241m.\u001B[39mto(device\u001B[38;5;241m=\u001B[39mdevice)\n",
      "File \u001B[0;32m/opt/anaconda3/lib/python3.11/site-packages/torch/serialization.py:508\u001B[0m, in \u001B[0;36m_validate_device\u001B[0;34m(location, backend_name)\u001B[0m\n\u001B[1;32m    506\u001B[0m     device_index \u001B[38;5;241m=\u001B[39m device\u001B[38;5;241m.\u001B[39mindex \u001B[38;5;28;01mif\u001B[39;00m device\u001B[38;5;241m.\u001B[39mindex \u001B[38;5;28;01melse\u001B[39;00m \u001B[38;5;241m0\u001B[39m\n\u001B[1;32m    507\u001B[0m \u001B[38;5;28;01mif\u001B[39;00m \u001B[38;5;28mhasattr\u001B[39m(device_module, \u001B[38;5;124m\"\u001B[39m\u001B[38;5;124mis_available\u001B[39m\u001B[38;5;124m\"\u001B[39m) \u001B[38;5;129;01mand\u001B[39;00m \u001B[38;5;129;01mnot\u001B[39;00m device_module\u001B[38;5;241m.\u001B[39mis_available():\n\u001B[0;32m--> 508\u001B[0m     \u001B[38;5;28;01mraise\u001B[39;00m \u001B[38;5;167;01mRuntimeError\u001B[39;00m(\n\u001B[1;32m    509\u001B[0m         \u001B[38;5;124mf\u001B[39m\u001B[38;5;124m\"\u001B[39m\u001B[38;5;124mAttempting to deserialize object on a \u001B[39m\u001B[38;5;132;01m{\u001B[39;00mbackend_name\u001B[38;5;241m.\u001B[39mupper()\u001B[38;5;132;01m}\u001B[39;00m\u001B[38;5;124m \u001B[39m\u001B[38;5;124m\"\u001B[39m\n\u001B[1;32m    510\u001B[0m         \u001B[38;5;124mf\u001B[39m\u001B[38;5;124m\"\u001B[39m\u001B[38;5;124mdevice but torch.\u001B[39m\u001B[38;5;132;01m{\u001B[39;00mbackend_name\u001B[38;5;132;01m}\u001B[39;00m\u001B[38;5;124m.is_available() is False. \u001B[39m\u001B[38;5;124m\"\u001B[39m\n\u001B[1;32m    511\u001B[0m         \u001B[38;5;124m\"\u001B[39m\u001B[38;5;124mIf you are running on a CPU-only machine, \u001B[39m\u001B[38;5;124m\"\u001B[39m\n\u001B[1;32m    512\u001B[0m         \u001B[38;5;124m\"\u001B[39m\u001B[38;5;124mplease use torch.load with map_location=torch.device(\u001B[39m\u001B[38;5;124m'\u001B[39m\u001B[38;5;124mcpu\u001B[39m\u001B[38;5;124m'\u001B[39m\u001B[38;5;124m) \u001B[39m\u001B[38;5;124m\"\u001B[39m\n\u001B[1;32m    513\u001B[0m         \u001B[38;5;124m\"\u001B[39m\u001B[38;5;124mto map your storages to the CPU.\u001B[39m\u001B[38;5;124m\"\u001B[39m\n\u001B[1;32m    514\u001B[0m     )\n\u001B[1;32m    515\u001B[0m \u001B[38;5;28;01mif\u001B[39;00m \u001B[38;5;28mhasattr\u001B[39m(device_module, \u001B[38;5;124m\"\u001B[39m\u001B[38;5;124mdevice_count\u001B[39m\u001B[38;5;124m\"\u001B[39m):\n\u001B[1;32m    516\u001B[0m     device_count \u001B[38;5;241m=\u001B[39m device_module\u001B[38;5;241m.\u001B[39mdevice_count()\n",
      "\u001B[0;31mRuntimeError\u001B[0m: Attempting to deserialize object on a CUDA device but torch.cuda.is_available() is False. If you are running on a CPU-only machine, please use torch.load with map_location=torch.device('cpu') to map your storages to the CPU."
     ]
    }
   ],
   "execution_count": 18
  },
  {
   "metadata": {
    "ExecuteTime": {
     "end_time": "2024-12-06T12:08:47.157235Z",
     "start_time": "2024-12-06T12:08:47.122306Z"
    }
   },
   "cell_type": "code",
   "source": [
    "#train_dataset = AE_Dataset(train_cat_X, train_num_X, train_y, device)\n",
    "valid_dataset = AE_Dataset(valid_cat_X, valid_num_X, valid_y, device)\n",
    "#train_loader = DataLoader(train_dataset, batch_size=batch_size, shuffle=True)\n",
    "valid_loader = DataLoader(valid_dataset, batch_size=batch_size, shuffle=False)"
   ],
   "id": "3c9e017ac4622b2a",
   "outputs": [
    {
     "ename": "NameError",
     "evalue": "name 'train_y' is not defined",
     "output_type": "error",
     "traceback": [
      "\u001B[0;31m---------------------------------------------------------------------------\u001B[0m",
      "\u001B[0;31mNameError\u001B[0m                                 Traceback (most recent call last)",
      "Cell \u001B[0;32mIn[8], line 1\u001B[0m\n\u001B[0;32m----> 1\u001B[0m train_dataset \u001B[38;5;241m=\u001B[39m AE_Dataset(train_cat_X, train_num_X, train_y, device)\n\u001B[1;32m      2\u001B[0m valid_dataset \u001B[38;5;241m=\u001B[39m AE_Dataset(valid_cat_X, valid_num_X, valid_y, device)\n\u001B[1;32m      3\u001B[0m train_loader \u001B[38;5;241m=\u001B[39m DataLoader(train_dataset, batch_size\u001B[38;5;241m=\u001B[39mbatch_size, shuffle\u001B[38;5;241m=\u001B[39m\u001B[38;5;28;01mTrue\u001B[39;00m)\n",
      "\u001B[0;31mNameError\u001B[0m: name 'train_y' is not defined"
     ]
    }
   ],
   "execution_count": 8
  },
  {
   "metadata": {},
   "cell_type": "code",
   "outputs": [],
   "execution_count": null,
   "source": [
    "model = AutoEncoder(encoding_dim=32, cat_features=cat_features, num_features=num_features).to(device)\n",
    "optimizer = optim.AdamW(model.parameters(), lr=lr, weight_decay=1e-4)\n",
    "criterion = nn.MSELoss()"
   ],
   "id": "62e534118a639c92"
  },
  {
   "metadata": {},
   "cell_type": "code",
   "outputs": [],
   "execution_count": null,
   "source": [
    "latent_variables = model.get_embedding(\n",
    "    torch.tensor(train_cat_X.values, dtype=torch.long).to(device),\n",
    "    torch.tensor(train_num_X.values, dtype=torch.float).to(device),\n",
    ")"
   ],
   "id": "c670ecc9db395e30"
  },
  {
   "cell_type": "code",
   "execution_count": null,
   "id": "initial_id",
   "metadata": {
    "collapsed": true
   },
   "outputs": [],
   "source": [
    "def visualize_latent_space_tsne(latent_variables, perplexity=30, n_iter=1000, save_path=None):\n",
    "    \"\"\"\n",
    "    t-SNE를 사용하여 잠재 공간을 시각화합니다.\n",
    "    \"\"\"\n",
    "    Z = latent_variables\n",
    "    \n",
    "    # t-SNE 수행\n",
    "    print(f\"Running t-SNE on {Z.shape[1]}-dimensional data...\")\n",
    "    tsne = TSNE(n_components=2, perplexity=perplexity, n_iter=n_iter, random_state=42)\n",
    "    Z_tsne = tsne.fit_transform(Z)\n",
    "\n",
    "    # 시각화\n",
    "    plt.figure(figsize=(15, 10))\n",
    "\n",
    "    # t-SNE 산점도\n",
    "    plt.subplot(1, 2, 1)\n",
    "    scatter = plt.scatter(Z_tsne[:, 0], Z_tsne[:, 1], c=Z_tsne[:, 0],\n",
    "                          cmap='viridis', alpha=0.6)\n",
    "    plt.colorbar(scatter)\n",
    "    plt.title('t-SNE Visualization of Latent Space\\n(colored by first component)')\n",
    "    plt.xlabel('t-SNE 1')\n",
    "    plt.ylabel('t-SNE 2')\n",
    "\n",
    "    # 밀도 플롯\n",
    "    plt.subplot(1, 2, 2)\n",
    "    sns.kdeplot(data=pd.DataFrame(Z_tsne, columns=['t-SNE 1', 't-SNE 2']),\n",
    "                x='t-SNE 1', y='t-SNE 2', cmap='viridis', fill=True)\n",
    "    plt.title('Density Plot of t-SNE Embeddings')\n",
    "\n",
    "    plt.tight_layout()\n",
    "\n",
    "    if save_path:\n",
    "        plt.savefig(save_path, dpi=300, bbox_inches='tight')\n",
    "\n",
    "    plt.show()\n",
    "\n",
    "def analyze_latent_space(model, data, scaler):\n",
    "    \"\"\"\n",
    "    잠재 공간의 통계적 특성을 분석합니다.\n",
    "    \"\"\"\n",
    "    # 잠재 변수 추출\n",
    "    scaled_data = scaler.transform(data)\n",
    "    X = torch.FloatTensor(scaled_data)\n",
    "\n",
    "    model.eval()\n",
    "    with torch.no_grad():\n",
    "        _, Z = model(X)\n",
    "        Z = Z.numpy()\n",
    "\n",
    "    # 기본 통계량 계산\n",
    "    stats_df = pd.DataFrame({\n",
    "        'mean': Z.mean(axis=0),\n",
    "        'std': Z.std(axis=0),\n",
    "        'min': Z.min(axis=0),\n",
    "        'max': Z.max(axis=0)\n",
    "    })\n",
    "\n",
    "    print(\"\\nLatent Space Statistics:\")\n",
    "    print(stats_df)\n",
    "\n",
    "    # 상관관계 분석\n",
    "    plt.figure(figsize=(10, 8))\n",
    "    sns.heatmap(pd.DataFrame(Z).corr(), annot=True, cmap='coolwarm', center=0)\n",
    "    plt.title('Correlation Matrix of Latent Variables')\n",
    "    plt.tight_layout()\n",
    "    plt.show()"
   ]
  },
  {
   "metadata": {},
   "cell_type": "code",
   "outputs": [],
   "execution_count": null,
   "source": [
    "def main():\n",
    "\n",
    "    # t-SNE 시각화\n",
    "    visualize_latent_space_tsne(latent_variables= latent_variables,\n",
    "                                perplexity=30,\n",
    "                                n_iter=1000,\n",
    "                                save_path='tsne_visualization.png')\n",
    "\n",
    "    # 잠재 공간 분석\n",
    "    #analyze_latent_space(model, data, scaler)\n",
    "\n",
    "if __name__ == \"__main__\":\n",
    "    main()"
   ],
   "id": "4231de5b70dea343"
  }
 ],
 "metadata": {
  "kernelspec": {
   "display_name": "Python 3",
   "language": "python",
   "name": "python3"
  },
  "language_info": {
   "codemirror_mode": {
    "name": "ipython",
    "version": 2
   },
   "file_extension": ".py",
   "mimetype": "text/x-python",
   "name": "python",
   "nbconvert_exporter": "python",
   "pygments_lexer": "ipython2",
   "version": "2.7.6"
  }
 },
 "nbformat": 4,
 "nbformat_minor": 5
}
