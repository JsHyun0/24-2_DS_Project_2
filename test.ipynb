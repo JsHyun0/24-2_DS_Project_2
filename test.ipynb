{
 "cells": [
  {
   "metadata": {
    "ExecuteTime": {
     "end_time": "2024-12-03T15:27:25.871392Z",
     "start_time": "2024-12-03T15:27:22.602460Z"
    }
   },
   "cell_type": "code",
   "source": "from utils.utils import *\n",
   "id": "cfb3fb66b67726bb",
   "outputs": [],
   "execution_count": 1
  },
  {
   "metadata": {
    "ExecuteTime": {
     "end_time": "2024-12-03T15:27:25.877222Z",
     "start_time": "2024-12-03T15:27:25.874396Z"
    }
   },
   "cell_type": "code",
   "source": "data_path = 'Data/[24-2 DS_Project2] Data.csv'",
   "id": "2e20aca58376d1d5",
   "outputs": [],
   "execution_count": 2
  },
  {
   "metadata": {
    "ExecuteTime": {
     "end_time": "2024-12-03T15:27:25.945551Z",
     "start_time": "2024-12-03T15:27:25.942111Z"
    }
   },
   "cell_type": "code",
   "source": [
    "cat_features = [\n",
    "    'Gender',\n",
    "    'Zipcode',\n",
    "    'Day',\n",
    "    'Card Brand',\n",
    "    'Card Type',\n",
    "    'Has Chip',\n",
    "    'Whether Security Chip is Used',\n",
    "    'Error Message',\n",
    "    'WeekDay',\n",
    "    'Credit Signal',\n",
    "    'PIN Change',\n",
    "    'Security Level'\n",
    "]\n",
    "\n",
    "num_features = [\n",
    "    'Current Age',\n",
    "    'Retirement Age',\n",
    "    'Per Capita Income - Zipcode',\n",
    "    'Yearly Income',\n",
    "    'Total Debt',\n",
    "    'Credit Score',\n",
    "    'Valid Month',\n",
    "    'Credit Limit',\n",
    "    'Since Open Month',\n",
    "    'Year PIN last Changed',\n",
    "    'Amount',\n",
    "    'Credit Util',\n",
    "    'Years Changed PIN',\n",
    "    'Security Score'\n",
    "]\n",
    "\n",
    "discarded = [\n",
    "    'User',\n",
    "    'Birth Year',\n",
    "    'Birth Month',\n",
    "    'Year',\n",
    "    'Month',\n",
    "    'Merchandise Code',\n",
    "    'Card',\n",
    "    'Card Number',\n",
    "    'Expires',\n",
    "    'Acct Open Date',\n",
    "]"
   ],
   "id": "11ca7e7fa24848ef",
   "outputs": [],
   "execution_count": 3
  },
  {
   "metadata": {
    "ExecuteTime": {
     "end_time": "2024-12-03T15:27:39.316222Z",
     "start_time": "2024-12-03T15:27:25.959245Z"
    }
   },
   "cell_type": "code",
   "source": [
    "((train_cat_X, train_num_X, train_y), \n",
    " (valid_cat_X, valid_num_X, valid_y), \n",
    " label_encoders, trans) = process_data(\n",
    "    data_path,\n",
    "    cat_features,\n",
    "    num_features,\n",
    "    discarded\n",
    ")"
   ],
   "id": "d19ab00f7e2eeb3",
   "outputs": [
    {
     "name": "stdout",
     "output_type": "stream",
     "text": [
      "TRANSITION\n",
      "IQR\n",
      "SPLIT\n",
      "DISCARD\n",
      "SCALE\n",
      "ENCODE\n",
      "UNLABEL\n",
      "TARGET\n",
      "TRAIN CAT/NUM\n",
      "VALID CAT/NUM\n",
      "RETURN\n"
     ]
    }
   ],
   "execution_count": 4
  },
  {
   "metadata": {
    "ExecuteTime": {
     "end_time": "2024-12-03T15:27:39.573725Z",
     "start_time": "2024-12-03T15:27:39.566029Z"
    }
   },
   "cell_type": "code",
   "source": "trans.columns",
   "id": "126123beadba7ca7",
   "outputs": [
    {
     "data": {
      "text/plain": [
       "Index(['User', 'Gender', 'Current Age', 'Retirement Age', 'Birth Year',\n",
       "       'Birth Month', 'Zipcode', 'Per Capita Income - Zipcode',\n",
       "       'Yearly Income', 'Total Debt', 'Credit Score', 'Year', 'Month', 'Day',\n",
       "       'Merchandise Code', 'Card', 'Card Brand', 'Card Type', 'Card Number',\n",
       "       'Expires', 'Has Chip', 'Credit Limit', 'Acct Open Date',\n",
       "       'Year PIN last Changed', 'Amount', 'Whether Security Chip is Used',\n",
       "       'Error Message', 'Is Fraud?', 'WeekDay', 'Since Open Month',\n",
       "       'Valid Month', 'Credit Util', 'Credit Signal', 'Years Changed PIN',\n",
       "       'PIN Change', 'Security Score', 'Security Level'],\n",
       "      dtype='object')"
      ]
     },
     "execution_count": 5,
     "metadata": {},
     "output_type": "execute_result"
    }
   ],
   "execution_count": 5
  },
  {
   "metadata": {
    "ExecuteTime": {
     "end_time": "2024-12-03T15:27:39.829180Z",
     "start_time": "2024-12-03T15:27:39.823914Z"
    }
   },
   "cell_type": "code",
   "source": "trans.columns",
   "id": "ccfeaae8a4452ded",
   "outputs": [
    {
     "data": {
      "text/plain": [
       "Index(['User', 'Gender', 'Current Age', 'Retirement Age', 'Birth Year',\n",
       "       'Birth Month', 'Zipcode', 'Per Capita Income - Zipcode',\n",
       "       'Yearly Income', 'Total Debt', 'Credit Score', 'Year', 'Month', 'Day',\n",
       "       'Merchandise Code', 'Card', 'Card Brand', 'Card Type', 'Card Number',\n",
       "       'Expires', 'Has Chip', 'Credit Limit', 'Acct Open Date',\n",
       "       'Year PIN last Changed', 'Amount', 'Whether Security Chip is Used',\n",
       "       'Error Message', 'Is Fraud?', 'WeekDay', 'Since Open Month',\n",
       "       'Valid Month', 'Credit Util', 'Credit Signal', 'Years Changed PIN',\n",
       "       'PIN Change', 'Security Score', 'Security Level'],\n",
       "      dtype='object')"
      ]
     },
     "execution_count": 6,
     "metadata": {},
     "output_type": "execute_result"
    }
   ],
   "execution_count": 6
  },
  {
   "metadata": {
    "ExecuteTime": {
     "end_time": "2024-12-03T15:27:40.150834Z",
     "start_time": "2024-12-03T15:27:40.073974Z"
    }
   },
   "cell_type": "code",
   "source": "trans['Credit Signal'].value_counts()",
   "id": "dd72d1872eda0d04",
   "outputs": [
    {
     "data": {
      "text/plain": [
       "Credit Signal\n",
       "NORMAL     1568795\n",
       "CAUTION      29921\n",
       "DANGER       29697\n",
       "WARNING      16355\n",
       "Name: count, dtype: int64"
      ]
     },
     "execution_count": 7,
     "metadata": {},
     "output_type": "execute_result"
    }
   ],
   "execution_count": 7
  },
  {
   "metadata": {
    "ExecuteTime": {
     "end_time": "2024-12-03T15:27:53.844414Z",
     "start_time": "2024-12-03T15:27:40.434757Z"
    }
   },
   "cell_type": "code",
   "source": [
    "((dtrain_cat_X, dtrain_num_X, dtrain_y),\n",
    " (dvalid_cat_X, dvalid_num_X, dvalid_y),\n",
    " dlabel_encoders, dtrans) = dt_process_data(\n",
    "    data_path,\n",
    "    cat_features,\n",
    "    num_features,\n",
    "    discarded\n",
    ")"
   ],
   "id": "d3aef291987aa64e",
   "outputs": [
    {
     "name": "stdout",
     "output_type": "stream",
     "text": [
      "TRANSITION\n",
      "IQR\n",
      "SPLIT\n",
      "DISCARD\n",
      "SCALE\n",
      "ENCODE\n",
      "TARGET\n",
      "TRAIN CAT/NUM\n",
      "VALID CAT/NUM\n",
      "RETURN\n"
     ]
    }
   ],
   "execution_count": 8
  },
  {
   "metadata": {
    "ExecuteTime": {
     "end_time": "2024-12-03T15:27:53.946228Z",
     "start_time": "2024-12-03T15:27:53.933228Z"
    }
   },
   "cell_type": "code",
   "source": "dtrain_num_X",
   "id": "5c531b023b454244",
   "outputs": [
    {
     "data": {
      "text/plain": [
       "         Current Age  Retirement Age  Per Capita Income - Zipcode  \\\n",
       "1           0.078558       -0.262400                     1.165201   \n",
       "2           0.078558       -0.262400                     1.165201   \n",
       "3           0.078558       -0.262400                     1.165201   \n",
       "5           0.078558       -0.262400                     1.165201   \n",
       "6           0.078558       -0.262400                     1.165201   \n",
       "...              ...             ...                          ...   \n",
       "1642296    -0.297785        0.145524                    -0.997446   \n",
       "1642298    -0.297785        0.145524                    -0.997446   \n",
       "1642299    -0.297785        0.145524                    -0.997446   \n",
       "1642300    -0.297785        0.145524                    -0.997446   \n",
       "1642306    -0.297785        0.145524                    -0.997446   \n",
       "\n",
       "         Yearly Income  Total Debt  Credit Score  Valid Month  Credit Limit  \\\n",
       "1             2.721462    2.253459      0.682192     0.553979      1.165332   \n",
       "2             2.721462    2.253459      0.682192     0.553979      1.165332   \n",
       "3             2.721462    2.253459      0.682192     0.553979      1.165332   \n",
       "5             2.721462    2.253459      0.682192     0.553979      1.165332   \n",
       "6             2.721462    2.253459      0.682192     0.553979      1.165332   \n",
       "...                ...         ...           ...          ...           ...   \n",
       "1642296      -1.062751    0.130488      0.541974    -1.183805     -1.193931   \n",
       "1642298      -1.062751    0.130488      0.541974    -1.183805     -1.193931   \n",
       "1642299      -1.062751    0.130488      0.541974    -1.183805     -1.193931   \n",
       "1642300      -1.062751    0.130488      0.541974    -1.183805     -1.193931   \n",
       "1642306      -1.062751    0.130488      0.541974    -1.183805     -1.193931   \n",
       "\n",
       "         Since Open Month  Year PIN last Changed    Amount  Credit Util  \\\n",
       "1                1.350782              -1.333514  2.585040     0.704661   \n",
       "2                1.350782              -1.333514 -0.727226    -0.735932   \n",
       "3                1.350782              -1.333514  1.848446     0.384297   \n",
       "5                1.350782              -1.333514  0.240456    -0.315061   \n",
       "6                1.350782              -1.333514 -0.847585    -0.788279   \n",
       "...                   ...                    ...       ...          ...   \n",
       "1642296         -0.644403               0.004693 -0.895728    -0.822880   \n",
       "1642298         -0.644403               0.004693 -0.789813    -0.626536   \n",
       "1642299         -0.644403               0.004693  0.004554     0.846044   \n",
       "1642300         -0.644403               0.004693 -0.852399    -0.742557   \n",
       "1642306         -0.644403               0.004693 -0.784998    -0.617611   \n",
       "\n",
       "         Years Changed PIN  Security Score  \n",
       "1                 1.333514        -0.57054  \n",
       "2                 1.333514        -0.57054  \n",
       "3                 1.333514        -0.57054  \n",
       "5                 1.333514        -0.57054  \n",
       "6                 1.333514        -0.57054  \n",
       "...                    ...             ...  \n",
       "1642296          -0.004693        -0.57054  \n",
       "1642298          -0.004693        -0.57054  \n",
       "1642299          -0.004693        -0.57054  \n",
       "1642300          -0.004693        -0.57054  \n",
       "1642306          -0.004693        -0.57054  \n",
       "\n",
       "[734352 rows x 14 columns]"
      ],
      "text/html": [
       "<div>\n",
       "<style scoped>\n",
       "    .dataframe tbody tr th:only-of-type {\n",
       "        vertical-align: middle;\n",
       "    }\n",
       "\n",
       "    .dataframe tbody tr th {\n",
       "        vertical-align: top;\n",
       "    }\n",
       "\n",
       "    .dataframe thead th {\n",
       "        text-align: right;\n",
       "    }\n",
       "</style>\n",
       "<table border=\"1\" class=\"dataframe\">\n",
       "  <thead>\n",
       "    <tr style=\"text-align: right;\">\n",
       "      <th></th>\n",
       "      <th>Current Age</th>\n",
       "      <th>Retirement Age</th>\n",
       "      <th>Per Capita Income - Zipcode</th>\n",
       "      <th>Yearly Income</th>\n",
       "      <th>Total Debt</th>\n",
       "      <th>Credit Score</th>\n",
       "      <th>Valid Month</th>\n",
       "      <th>Credit Limit</th>\n",
       "      <th>Since Open Month</th>\n",
       "      <th>Year PIN last Changed</th>\n",
       "      <th>Amount</th>\n",
       "      <th>Credit Util</th>\n",
       "      <th>Years Changed PIN</th>\n",
       "      <th>Security Score</th>\n",
       "    </tr>\n",
       "  </thead>\n",
       "  <tbody>\n",
       "    <tr>\n",
       "      <th>1</th>\n",
       "      <td>0.078558</td>\n",
       "      <td>-0.262400</td>\n",
       "      <td>1.165201</td>\n",
       "      <td>2.721462</td>\n",
       "      <td>2.253459</td>\n",
       "      <td>0.682192</td>\n",
       "      <td>0.553979</td>\n",
       "      <td>1.165332</td>\n",
       "      <td>1.350782</td>\n",
       "      <td>-1.333514</td>\n",
       "      <td>2.585040</td>\n",
       "      <td>0.704661</td>\n",
       "      <td>1.333514</td>\n",
       "      <td>-0.57054</td>\n",
       "    </tr>\n",
       "    <tr>\n",
       "      <th>2</th>\n",
       "      <td>0.078558</td>\n",
       "      <td>-0.262400</td>\n",
       "      <td>1.165201</td>\n",
       "      <td>2.721462</td>\n",
       "      <td>2.253459</td>\n",
       "      <td>0.682192</td>\n",
       "      <td>0.553979</td>\n",
       "      <td>1.165332</td>\n",
       "      <td>1.350782</td>\n",
       "      <td>-1.333514</td>\n",
       "      <td>-0.727226</td>\n",
       "      <td>-0.735932</td>\n",
       "      <td>1.333514</td>\n",
       "      <td>-0.57054</td>\n",
       "    </tr>\n",
       "    <tr>\n",
       "      <th>3</th>\n",
       "      <td>0.078558</td>\n",
       "      <td>-0.262400</td>\n",
       "      <td>1.165201</td>\n",
       "      <td>2.721462</td>\n",
       "      <td>2.253459</td>\n",
       "      <td>0.682192</td>\n",
       "      <td>0.553979</td>\n",
       "      <td>1.165332</td>\n",
       "      <td>1.350782</td>\n",
       "      <td>-1.333514</td>\n",
       "      <td>1.848446</td>\n",
       "      <td>0.384297</td>\n",
       "      <td>1.333514</td>\n",
       "      <td>-0.57054</td>\n",
       "    </tr>\n",
       "    <tr>\n",
       "      <th>5</th>\n",
       "      <td>0.078558</td>\n",
       "      <td>-0.262400</td>\n",
       "      <td>1.165201</td>\n",
       "      <td>2.721462</td>\n",
       "      <td>2.253459</td>\n",
       "      <td>0.682192</td>\n",
       "      <td>0.553979</td>\n",
       "      <td>1.165332</td>\n",
       "      <td>1.350782</td>\n",
       "      <td>-1.333514</td>\n",
       "      <td>0.240456</td>\n",
       "      <td>-0.315061</td>\n",
       "      <td>1.333514</td>\n",
       "      <td>-0.57054</td>\n",
       "    </tr>\n",
       "    <tr>\n",
       "      <th>6</th>\n",
       "      <td>0.078558</td>\n",
       "      <td>-0.262400</td>\n",
       "      <td>1.165201</td>\n",
       "      <td>2.721462</td>\n",
       "      <td>2.253459</td>\n",
       "      <td>0.682192</td>\n",
       "      <td>0.553979</td>\n",
       "      <td>1.165332</td>\n",
       "      <td>1.350782</td>\n",
       "      <td>-1.333514</td>\n",
       "      <td>-0.847585</td>\n",
       "      <td>-0.788279</td>\n",
       "      <td>1.333514</td>\n",
       "      <td>-0.57054</td>\n",
       "    </tr>\n",
       "    <tr>\n",
       "      <th>...</th>\n",
       "      <td>...</td>\n",
       "      <td>...</td>\n",
       "      <td>...</td>\n",
       "      <td>...</td>\n",
       "      <td>...</td>\n",
       "      <td>...</td>\n",
       "      <td>...</td>\n",
       "      <td>...</td>\n",
       "      <td>...</td>\n",
       "      <td>...</td>\n",
       "      <td>...</td>\n",
       "      <td>...</td>\n",
       "      <td>...</td>\n",
       "      <td>...</td>\n",
       "    </tr>\n",
       "    <tr>\n",
       "      <th>1642296</th>\n",
       "      <td>-0.297785</td>\n",
       "      <td>0.145524</td>\n",
       "      <td>-0.997446</td>\n",
       "      <td>-1.062751</td>\n",
       "      <td>0.130488</td>\n",
       "      <td>0.541974</td>\n",
       "      <td>-1.183805</td>\n",
       "      <td>-1.193931</td>\n",
       "      <td>-0.644403</td>\n",
       "      <td>0.004693</td>\n",
       "      <td>-0.895728</td>\n",
       "      <td>-0.822880</td>\n",
       "      <td>-0.004693</td>\n",
       "      <td>-0.57054</td>\n",
       "    </tr>\n",
       "    <tr>\n",
       "      <th>1642298</th>\n",
       "      <td>-0.297785</td>\n",
       "      <td>0.145524</td>\n",
       "      <td>-0.997446</td>\n",
       "      <td>-1.062751</td>\n",
       "      <td>0.130488</td>\n",
       "      <td>0.541974</td>\n",
       "      <td>-1.183805</td>\n",
       "      <td>-1.193931</td>\n",
       "      <td>-0.644403</td>\n",
       "      <td>0.004693</td>\n",
       "      <td>-0.789813</td>\n",
       "      <td>-0.626536</td>\n",
       "      <td>-0.004693</td>\n",
       "      <td>-0.57054</td>\n",
       "    </tr>\n",
       "    <tr>\n",
       "      <th>1642299</th>\n",
       "      <td>-0.297785</td>\n",
       "      <td>0.145524</td>\n",
       "      <td>-0.997446</td>\n",
       "      <td>-1.062751</td>\n",
       "      <td>0.130488</td>\n",
       "      <td>0.541974</td>\n",
       "      <td>-1.183805</td>\n",
       "      <td>-1.193931</td>\n",
       "      <td>-0.644403</td>\n",
       "      <td>0.004693</td>\n",
       "      <td>0.004554</td>\n",
       "      <td>0.846044</td>\n",
       "      <td>-0.004693</td>\n",
       "      <td>-0.57054</td>\n",
       "    </tr>\n",
       "    <tr>\n",
       "      <th>1642300</th>\n",
       "      <td>-0.297785</td>\n",
       "      <td>0.145524</td>\n",
       "      <td>-0.997446</td>\n",
       "      <td>-1.062751</td>\n",
       "      <td>0.130488</td>\n",
       "      <td>0.541974</td>\n",
       "      <td>-1.183805</td>\n",
       "      <td>-1.193931</td>\n",
       "      <td>-0.644403</td>\n",
       "      <td>0.004693</td>\n",
       "      <td>-0.852399</td>\n",
       "      <td>-0.742557</td>\n",
       "      <td>-0.004693</td>\n",
       "      <td>-0.57054</td>\n",
       "    </tr>\n",
       "    <tr>\n",
       "      <th>1642306</th>\n",
       "      <td>-0.297785</td>\n",
       "      <td>0.145524</td>\n",
       "      <td>-0.997446</td>\n",
       "      <td>-1.062751</td>\n",
       "      <td>0.130488</td>\n",
       "      <td>0.541974</td>\n",
       "      <td>-1.183805</td>\n",
       "      <td>-1.193931</td>\n",
       "      <td>-0.644403</td>\n",
       "      <td>0.004693</td>\n",
       "      <td>-0.784998</td>\n",
       "      <td>-0.617611</td>\n",
       "      <td>-0.004693</td>\n",
       "      <td>-0.57054</td>\n",
       "    </tr>\n",
       "  </tbody>\n",
       "</table>\n",
       "<p>734352 rows × 14 columns</p>\n",
       "</div>"
      ]
     },
     "execution_count": 9,
     "metadata": {},
     "output_type": "execute_result"
    }
   ],
   "execution_count": 9
  },
  {
   "metadata": {
    "ExecuteTime": {
     "end_time": "2024-12-03T15:27:54.021722Z",
     "start_time": "2024-12-03T15:27:54.019877Z"
    }
   },
   "cell_type": "code",
   "source": "",
   "id": "8ebbfa7ce629579b",
   "outputs": [],
   "execution_count": null
  }
 ],
 "metadata": {
  "kernelspec": {
   "display_name": "Python 3",
   "language": "python",
   "name": "python3"
  },
  "language_info": {
   "codemirror_mode": {
    "name": "ipython",
    "version": 2
   },
   "file_extension": ".py",
   "mimetype": "text/x-python",
   "name": "python",
   "nbconvert_exporter": "python",
   "pygments_lexer": "ipython2",
   "version": "2.7.6"
  }
 },
 "nbformat": 4,
 "nbformat_minor": 5
}
