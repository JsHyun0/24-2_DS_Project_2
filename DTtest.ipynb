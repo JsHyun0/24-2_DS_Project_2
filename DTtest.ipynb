{
 "cells": [
  {
   "cell_type": "code",
   "id": "initial_id",
   "metadata": {
    "collapsed": true,
    "ExecuteTime": {
     "end_time": "2024-11-30T06:36:46.858349Z",
     "start_time": "2024-11-30T06:36:43.027547Z"
    }
   },
   "source": [
    "import pandas as pd\n",
    "import numpy as np\n",
    "from future.utils.surrogateescape import encoded\n",
    "\n",
    "from Models.DT import *\n",
    "from utils.utils import *\n",
    "import torch\n",
    "import torch.nn as nn\n",
    "import torch.optim as optim\n",
    "from torch.utils.data import Dataset, DataLoader\n",
    "from Models.AutoEncoder import AutoEncoder, AE_trainDataset, AE_validDataset\n",
    "from utils.utils import *\n",
    "from tqdm import tqdm\n",
    "from sklearn.metrics import f1_score"
   ],
   "outputs": [],
   "execution_count": 1
  },
  {
   "metadata": {
    "ExecuteTime": {
     "end_time": "2024-11-30T06:36:46.881109Z",
     "start_time": "2024-11-30T06:36:46.861354Z"
    }
   },
   "cell_type": "code",
   "source": "device = torch.device('cuda' if torch.cuda.is_available() else 'cpu')",
   "id": "7ec9d7cb8a6da03c",
   "outputs": [],
   "execution_count": 2
  },
  {
   "metadata": {
    "ExecuteTime": {
     "end_time": "2024-11-30T06:36:48.992927Z",
     "start_time": "2024-11-30T06:36:46.953410Z"
    }
   },
   "cell_type": "code",
   "source": "df = pd.read_csv(\"Data/[24-2 DS_Project2] Data.csv\")",
   "id": "4d63752cfb85cefd",
   "outputs": [],
   "execution_count": 3
  },
  {
   "metadata": {
    "ExecuteTime": {
     "end_time": "2024-11-30T06:36:49.185666Z",
     "start_time": "2024-11-30T06:36:49.182433Z"
    }
   },
   "cell_type": "code",
   "source": [
    "num_epochs = 100\n",
    "batch_size = 128\n",
    "lr = 1e-4"
   ],
   "id": "d72db31a100f3786",
   "outputs": [],
   "execution_count": 4
  },
  {
   "metadata": {
    "ExecuteTime": {
     "end_time": "2024-11-30T06:36:49.381854Z",
     "start_time": "2024-11-30T06:36:49.378653Z"
    }
   },
   "cell_type": "code",
   "source": [
    "cat_features = ['Gender', 'Card Brand', 'Card Type', 'Expires', 'Has Chip', 'Year PIN last Changed', 'Whether Security Chip is Used', 'Day', 'Error Message']\n",
    "\n",
    "num_features = ['Current Age', 'Retirement Age', 'Per Capita Income - Zipcode', 'Yearly Income', 'Total Debt', 'Credit Score', 'Credit Limit', 'Amount','Since Open Month']\n",
    "\n",
    "discarded = ['User', 'Birth Year', 'Birth Month', 'Card', 'Card Number', 'Zipcode', 'Merchandise Code', 'Acct Open Date', 'Year', 'Month']\n"
   ],
   "id": "e572b19eb84eb8ac",
   "outputs": [],
   "execution_count": 5
  },
  {
   "metadata": {
    "ExecuteTime": {
     "end_time": "2024-11-30T06:36:49.576208Z",
     "start_time": "2024-11-30T06:36:49.573413Z"
    }
   },
   "cell_type": "code",
   "source": "data_path = 'Data/[24-2 DS_Project2] Data.csv'",
   "id": "64b7b1d007c9f06b",
   "outputs": [],
   "execution_count": 6
  },
  {
   "metadata": {
    "ExecuteTime": {
     "end_time": "2024-11-30T06:36:57.505486Z",
     "start_time": "2024-11-30T06:36:49.768910Z"
    }
   },
   "cell_type": "code",
   "source": [
    "(train_cat_X, train_num_X, train_y), (valid_cat_X, valid_num_X, valid_y), label_encoders= process_data(\n",
    "    data_path,\n",
    "    cat_features,\n",
    "    num_features,\n",
    "    discarded\n",
    ")"
   ],
   "id": "3276eb6da74c20e1",
   "outputs": [
    {
     "name": "stdout",
     "output_type": "stream",
     "text": [
      "TRANSITION\n",
      "IQR\n",
      "SPLIT\n",
      "DISCARD\n",
      "SCALE\n",
      "ENCODE\n",
      "UNLABEL\n",
      "TARGET\n",
      "TRAIN CAT/NUM\n",
      "VALID CAT/NUM\n",
      "RETURN\n"
     ]
    }
   ],
   "execution_count": 7
  },
  {
   "metadata": {
    "ExecuteTime": {
     "end_time": "2024-11-30T06:36:57.842053Z",
     "start_time": "2024-11-30T06:36:57.708701Z"
    }
   },
   "cell_type": "code",
   "source": [
    "train_dataset = AE_trainDataset(train_cat_X, train_num_X, device)\n",
    "valid_dataset = AE_validDataset(valid_cat_X, valid_num_X, valid_y, device)\n",
    "train_loader = DataLoader(train_dataset, batch_size=batch_size, shuffle=True)\n",
    "valid_loader = DataLoader(valid_dataset, batch_size=batch_size, shuffle=False)"
   ],
   "id": "f0a5795c235a562e",
   "outputs": [],
   "execution_count": 8
  },
  {
   "metadata": {
    "ExecuteTime": {
     "end_time": "2024-11-30T06:36:59.008178Z",
     "start_time": "2024-11-30T06:36:58.056465Z"
    }
   },
   "cell_type": "code",
   "source": [
    "model = AutoEncoder(encoding_dim=32, cat_features=cat_features, num_features=num_features).to(device)\n",
    "optimizer = optim.AdamW(model.parameters(), lr=lr, weight_decay=1e-4)\n",
    "criterion = nn.MSELoss()"
   ],
   "id": "63e5c6200ba692f8",
   "outputs": [],
   "execution_count": 9
  },
  {
   "metadata": {
    "ExecuteTime": {
     "end_time": "2024-11-30T06:36:59.237944Z",
     "start_time": "2024-11-30T06:36:59.215826Z"
    }
   },
   "cell_type": "code",
   "source": [
    "checkpoint = torch.load('Models/best_autoencoder.pth')\n",
    "model.load_state_dict(checkpoint['model_state_dict'])"
   ],
   "id": "c691b4502908c863",
   "outputs": [
    {
     "name": "stderr",
     "output_type": "stream",
     "text": [
      "C:\\Users\\kim00\\AppData\\Local\\Temp\\ipykernel_24192\\2072122668.py:1: FutureWarning: You are using `torch.load` with `weights_only=False` (the current default value), which uses the default pickle module implicitly. It is possible to construct malicious pickle data which will execute arbitrary code during unpickling (See https://github.com/pytorch/pytorch/blob/main/SECURITY.md#untrusted-models for more details). In a future release, the default value for `weights_only` will be flipped to `True`. This limits the functions that could be executed during unpickling. Arbitrary objects will no longer be allowed to be loaded via this mode unless they are explicitly allowlisted by the user via `torch.serialization.add_safe_globals`. We recommend you start setting `weights_only=True` for any use case where you don't have full control of the loaded file. Please open an issue on GitHub for any issues related to this experimental feature.\n",
      "  checkpoint = torch.load('Models/best_autoencoder.pth')\n"
     ]
    },
    {
     "data": {
      "text/plain": [
       "<All keys matched successfully>"
      ]
     },
     "execution_count": 10,
     "metadata": {},
     "output_type": "execute_result"
    }
   ],
   "execution_count": 10
  },
  {
   "metadata": {
    "ExecuteTime": {
     "end_time": "2024-11-30T06:36:59.749645Z",
     "start_time": "2024-11-30T06:36:59.745285Z"
    }
   },
   "cell_type": "code",
   "source": "model.eval()",
   "id": "7bee02bb3a6650a3",
   "outputs": [
    {
     "data": {
      "text/plain": [
       "AutoEncoder(\n",
       "  (cat_embeddings): ModuleList(\n",
       "    (0-8): 9 x Embedding(100, 5)\n",
       "  )\n",
       "  (fc_cat): Linear(in_features=54, out_features=64, bias=True)\n",
       "  (encoder): Sequential(\n",
       "    (0): Linear(in_features=64, out_features=64, bias=True)\n",
       "    (1): ReLU()\n",
       "    (2): Linear(in_features=64, out_features=32, bias=True)\n",
       "    (3): ReLU()\n",
       "  )\n",
       "  (decoder): Sequential(\n",
       "    (0): Linear(in_features=32, out_features=48, bias=True)\n",
       "    (1): BatchNorm1d(48, eps=1e-05, momentum=0.1, affine=True, track_running_stats=True)\n",
       "    (2): LeakyReLU(negative_slope=0.01)\n",
       "    (3): Linear(in_features=48, out_features=54, bias=True)\n",
       "  )\n",
       "  (classifier): Sequential(\n",
       "    (0): Linear(in_features=32, out_features=32, bias=True)\n",
       "    (1): ReLU()\n",
       "    (2): Linear(in_features=32, out_features=16, bias=True)\n",
       "    (3): ReLU()\n",
       "    (4): Linear(in_features=16, out_features=1, bias=True)\n",
       "  )\n",
       ")"
      ]
     },
     "execution_count": 11,
     "metadata": {},
     "output_type": "execute_result"
    }
   ],
   "execution_count": 11
  },
  {
   "metadata": {
    "ExecuteTime": {
     "end_time": "2024-11-30T06:37:00.201965Z",
     "start_time": "2024-11-30T06:37:00.198777Z"
    }
   },
   "cell_type": "code",
   "source": [
    "random_state=42 \n",
    "max_depth=10\n",
    "min_samples_leaf=5\n",
    "class_weight={0: 1, 1: 10}"
   ],
   "id": "a3dbc52ba7134ac3",
   "outputs": [],
   "execution_count": 12
  },
  {
   "metadata": {
    "ExecuteTime": {
     "end_time": "2024-11-30T06:37:08.290750Z",
     "start_time": "2024-11-30T06:37:00.649506Z"
    }
   },
   "cell_type": "code",
   "source": [
    "(dt_train_cat_X, dt_train_num_X, dt_train_y), (dt_valid_cat_X, dt_valid_num_X, dt_valid_y), le = dt_process_data(\n",
    "    data_path,\n",
    "    cat_features,\n",
    "    num_features,\n",
    "    discarded\n",
    ")"
   ],
   "id": "99359b3836bb5bb6",
   "outputs": [
    {
     "name": "stdout",
     "output_type": "stream",
     "text": [
      "TRANSITION\n",
      "IQR\n",
      "SPLIT\n",
      "DISCARD\n",
      "SCALE\n",
      "ENCODE\n",
      "TARGET\n",
      "TRAIN CAT/NUM\n",
      "VALID CAT/NUM\n",
      "RETURN\n"
     ]
    }
   ],
   "execution_count": 13
  },
  {
   "metadata": {
    "ExecuteTime": {
     "end_time": "2024-11-30T06:37:09.178003Z",
     "start_time": "2024-11-30T06:37:08.875098Z"
    }
   },
   "cell_type": "code",
   "source": [
    "train_embeddings = model.get_embedding(\n",
    "    torch.tensor(dt_train_cat_X.values, dtype=torch.long).to(device), \n",
    "    torch.tensor(dt_train_num_X.values, dtype=torch.float).to(device),\n",
    ")"
   ],
   "id": "f6c008d24f39576e",
   "outputs": [],
   "execution_count": 14
  },
  {
   "metadata": {
    "ExecuteTime": {
     "end_time": "2024-11-30T06:37:09.682963Z",
     "start_time": "2024-11-30T06:37:09.648362Z"
    }
   },
   "cell_type": "code",
   "source": [
    "valid_embeddings = model.get_embedding(\n",
    "    torch.tensor(dt_valid_cat_X.values, dtype=torch.long).to(device),\n",
    "    torch.tensor(dt_valid_num_X.values, dtype=torch.float).to(device),\n",
    ")"
   ],
   "id": "7e619497a1beb5d",
   "outputs": [],
   "execution_count": 15
  },
  {
   "metadata": {
    "ExecuteTime": {
     "end_time": "2024-11-30T06:42:48.373626Z",
     "start_time": "2024-11-30T06:37:10.210929Z"
    }
   },
   "cell_type": "code",
   "source": [
    "randomforest(\n",
    "    encoded_t=train_embeddings.cpu().detach().numpy(),\n",
    "    encoded_v=valid_embeddings.cpu().detach().numpy(),\n",
    "    train_y=dt_train_y, \n",
    "    valid_y=dt_valid_y,\n",
    "    le=le)"
   ],
   "id": "3b144bfed44245d5",
   "outputs": [
    {
     "name": "stderr",
     "output_type": "stream",
     "text": [
      "C:\\Users\\kim00\\anaconda3\\Lib\\site-packages\\sklearn\\base.py:1474: DataConversionWarning: A column-vector y was passed when a 1d array was expected. Please change the shape of y to (n_samples,), for example using ravel().\n",
      "  return fit_method(estimator, *args, **kwargs)\n"
     ]
    },
    {
     "data": {
      "text/plain": [
       "<Figure size 640x480 with 2 Axes>"
      ],
      "image/png": "[encoded data removed]"
     },
     "metadata": {},
     "output_type": "display_data"
    },
    {
     "name": "stdout",
     "output_type": "stream",
     "text": [
      "report: \n",
      "              precision    recall  f1-score   support\n",
      "\n",
      "         0.0       1.00      1.00      1.00    306155\n",
      "         1.0       0.00      0.00      0.00       484\n",
      "\n",
      "    accuracy                           1.00    306639\n",
      "   macro avg       0.50      0.50      0.50    306639\n",
      "weighted avg       1.00      1.00      1.00    306639\n",
      "\n"
     ]
    }
   ],
   "execution_count": 16
  }
 ],
 "metadata": {
  "kernelspec": {
   "display_name": "Python 3",
   "language": "python",
   "name": "python3"
  },
  "language_info": {
   "codemirror_mode": {
    "name": "ipython",
    "version": 2
   },
   "file_extension": ".py",
   "mimetype": "text/x-python",
   "name": "python",
   "nbconvert_exporter": "python",
   "pygments_lexer": "ipython2",
   "version": "2.7.6"
  }
 },
 "nbformat": 4,
 "nbformat_minor": 5
}
