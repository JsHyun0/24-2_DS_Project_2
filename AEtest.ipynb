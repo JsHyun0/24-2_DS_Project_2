{
 "cells": [
  {
   "cell_type": "code",
   "metadata": {
    "ExecuteTime": {
     "end_time": "2024-11-28T17:07:13.312202Z",
     "start_time": "2024-11-28T17:07:11.779419Z"
    }
   },
   "source": [
    "import torch\n",
    "import torch.nn as nn\n",
    "import torch.optim as optim\n",
    "import pandas as pd\n",
    "from torch.utils.data import Dataset, DataLoader\n",
    "from Models.AutoEncoder import AutoEncoder, AutoEncoderDataset\n",
    "from utils.utils import *\n",
    "from tqdm import tqdm"
   ],
   "outputs": [],
   "execution_count": 1
  },
  {
   "cell_type": "markdown",
   "metadata": {},
   "source": [
    "# Auto Encoder Test"
   ]
  },
  {
   "cell_type": "markdown",
   "metadata": {},
   "source": [
    "## Base Setup"
   ]
  },
  {
   "cell_type": "code",
   "metadata": {
    "ExecuteTime": {
     "end_time": "2024-11-28T17:07:13.316671Z",
     "start_time": "2024-11-28T17:07:13.315062Z"
    }
   },
   "source": [
    "device = torch.device(\"cuda\" if torch.cuda.is_available() else \"cpu\")\n",
    "print(device)"
   ],
   "outputs": [
    {
     "name": "stdout",
     "output_type": "stream",
     "text": [
      "cpu\n"
     ]
    }
   ],
   "execution_count": 2
  },
  {
   "cell_type": "code",
   "metadata": {
    "ExecuteTime": {
     "end_time": "2024-11-28T17:10:34.727610Z",
     "start_time": "2024-11-28T17:10:34.723287Z"
    }
   },
   "source": [
    "num_epochs = 50\n",
    "batch_size = 128\n",
    "lr = 1e-4"
   ],
   "outputs": [],
   "execution_count": 2
  },
  {
   "cell_type": "code",
   "metadata": {
    "ExecuteTime": {
     "end_time": "2024-11-28T17:10:37.153762Z",
     "start_time": "2024-11-28T17:10:37.147928Z"
    }
   },
   "source": [
    "# Feature Selection\n",
    "cat_features = ['Gender', 'Card Brand', 'Card Type', 'Expires', 'Has Chip', 'Year PIN last Changed', 'Whether Security Chip is Used', 'Day', 'Error Message']\n",
    "\n",
    "num_features = ['Current Age', 'Retirement Age', 'Per Capita Income - Zipcode', 'Yearly Income', 'Total Debt', 'Credit Score', 'Credit Limit', 'Amount', 'Since Open Month']\n",
    "\n",
    "discarded = ['User', 'Birth Year', 'Birth Month', 'Card', 'Card Number', 'Zipcode', 'Merchandise Code', 'Acct Open Date']\n"
   ],
   "outputs": [],
   "execution_count": 3
  },
  {
   "metadata": {
    "ExecuteTime": {
     "end_time": "2024-11-28T17:10:47.323576Z",
     "start_time": "2024-11-28T17:10:47.304039Z"
    }
   },
   "cell_type": "code",
   "source": [
    "tmp = pd.read_csv('Data/[24-2 DS_Project2] Data.csv')\n",
    "print(tmp.columns)"
   ],
   "outputs": [
    {
     "ename": "NameError",
     "evalue": "name 'pd' is not defined",
     "output_type": "error",
     "traceback": [
      "\u001B[0;31m---------------------------------------------------------------------------\u001B[0m",
      "\u001B[0;31mNameError\u001B[0m                                 Traceback (most recent call last)",
      "Cell \u001B[0;32mIn[5], line 1\u001B[0m\n\u001B[0;32m----> 1\u001B[0m tmp \u001B[38;5;241m=\u001B[39m pd\u001B[38;5;241m.\u001B[39mread_csv(\u001B[38;5;124m'\u001B[39m\u001B[38;5;124mData/[24-2 DS_Project2] Data.csv\u001B[39m\u001B[38;5;124m'\u001B[39m)\n\u001B[1;32m      2\u001B[0m \u001B[38;5;28mprint\u001B[39m(tmp\u001B[38;5;241m.\u001B[39mcolumns)\n",
      "\u001B[0;31mNameError\u001B[0m: name 'pd' is not defined"
     ]
    }
   ],
   "execution_count": 5
  },
  {
   "metadata": {
    "ExecuteTime": {
     "end_time": "2024-11-28T17:10:29.260037Z",
     "start_time": "2024-11-28T17:10:28.548792Z"
    }
   },
   "cell_type": "code",
   "source": [
    "# 데이터 전처리\n",
    "data_path = 'Data/[24-2 DS_Project2] Data.csv'\n",
    "(train_cat_X, train_num_X, train_y), (valid_cat_X, valid_num_X, valid_y), label_encoders = process_data(\n",
    "    data_path,\n",
    "    cat_features,\n",
    "    num_features,\n",
    "    discarded\n",
    ")"
   ],
   "outputs": [
    {
     "ename": "NameError",
     "evalue": "name 'process_data' is not defined",
     "output_type": "error",
     "traceback": [
      "\u001B[0;31m---------------------------------------------------------------------------\u001B[0m",
      "\u001B[0;31mNameError\u001B[0m                                 Traceback (most recent call last)",
      "Cell \u001B[0;32mIn[1], line 3\u001B[0m\n\u001B[1;32m      1\u001B[0m \u001B[38;5;66;03m# 데이터 전처리\u001B[39;00m\n\u001B[1;32m      2\u001B[0m data_path \u001B[38;5;241m=\u001B[39m \u001B[38;5;124m'\u001B[39m\u001B[38;5;124mData/[24-2 DS_Project2] Data.csv\u001B[39m\u001B[38;5;124m'\u001B[39m\n\u001B[0;32m----> 3\u001B[0m (train_cat_X, train_num_X, train_y), (valid_cat_X, valid_num_X, valid_y), label_encoders \u001B[38;5;241m=\u001B[39m process_data(\n\u001B[1;32m      4\u001B[0m     data_path,\n\u001B[1;32m      5\u001B[0m     cat_features,\n\u001B[1;32m      6\u001B[0m     num_features,\n\u001B[1;32m      7\u001B[0m     discarded\n\u001B[1;32m      8\u001B[0m )\n",
      "\u001B[0;31mNameError\u001B[0m: name 'process_data' is not defined"
     ]
    }
   ],
   "execution_count": 1
  },
  {
   "cell_type": "code",
   "metadata": {},
   "source": [
    "train_dataset = AutoEncoderDataset(train_cat_X, train_num_X, device)\n",
    "valid_dataset = AutoEncoderDataset(valid_cat_X, valid_num_X, device)\n",
    "train_loader = DataLoader(train_dataset, batch_size=128, shuffle=True)\n",
    "valid_loader = DataLoader(valid_dataset, batch_size=128, shuffle=False)"
   ],
   "outputs": [],
   "execution_count": null
  },
  {
   "cell_type": "code",
   "metadata": {},
   "source": [
    "model = AutoEncoder(encoding_dim=16, cat_features=cat_features, num_features=num_features).to(device)\n",
    "optimizer = optim.Adam(model.parameters(), lr=0.001)\n",
    "criterion = nn.MSELoss()"
   ],
   "outputs": [],
   "execution_count": null
  },
  {
   "cell_type": "code",
   "metadata": {},
   "source": [
    "for epoch in range(100):\n",
    "    model.train()\n",
    "    train_loss = 0\n",
    "    for batch_idx, (cat_features, num_features) in tqdm(enumerate(train_loader), total=len(train_loader), desc=f'에포크 {epoch+1}', bar_format='{l_bar}{bar:20}{r_bar}'):\n",
    "        optimizer.zero_grad()\n",
    "        y_hat, y = model(cat_features, num_features)\n",
    "        loss = criterion(y_hat, y)\n",
    "        loss.backward()\n",
    "        optimizer.step()\n",
    "        train_loss += loss.item()\n",
    "    \n",
    "    avg_train_loss = train_loss / len(train_loader)\n",
    "    print(f'에포크 {epoch+1}/100 | 평균 학습 손실: {avg_train_loss:.6f}')"
   ],
   "outputs": [],
   "execution_count": null
  },
  {
   "cell_type": "code",
   "metadata": {},
   "source": [],
   "outputs": [],
   "execution_count": null
  }
 ],
 "metadata": {
  "kernelspec": {
   "display_name": "ai",
   "language": "python",
   "name": "python3"
  },
  "language_info": {
   "codemirror_mode": {
    "name": "ipython",
    "version": 3
   },
   "file_extension": ".py",
   "mimetype": "text/x-python",
   "name": "python",
   "nbconvert_exporter": "python",
   "pygments_lexer": "ipython3",
   "version": "3.12.2"
  }
 },
 "nbformat": 4,
 "nbformat_minor": 2
}
