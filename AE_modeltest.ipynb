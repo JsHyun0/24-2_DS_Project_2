{
 "cells": [
  {
   "cell_type": "code",
   "execution_count": 11,
   "metadata": {
    "ExecuteTime": {
     "end_time": "2024-11-29T06:24:42.370848Z",
     "start_time": "2024-11-29T06:24:38.969541Z"
    }
   },
   "outputs": [],
   "source": [
    "import neptune\n",
    "import optuna\n",
    "import torch\n",
    "import torch.nn as nn\n",
    "import torch.optim as optim\n",
    "from torch.utils.data import DataLoader\n",
    "import os\n",
    "import json\n",
    "from Models.AutoEncoder import AutoEncoder, AE_validDataset, AE_trainDataset\n",
    "from utils.utils import process_data\n",
    "from sklearn.metrics import f1_score\n",
    "import numpy as np"
   ]
  },
  {
   "cell_type": "markdown",
   "metadata": {},
   "source": [
    "# Auto Encoder Test"
   ]
  },
  {
   "cell_type": "markdown",
   "metadata": {},
   "source": [
    "* L1 정규화 추가\n",
    "* weight_decay 추가\n",
    "* BatchNorm 추가"
   ]
  },
  {
   "cell_type": "markdown",
   "metadata": {},
   "source": [
    "## Base Setup"
   ]
  },
  {
   "cell_type": "code",
   "execution_count": 12,
   "metadata": {
    "ExecuteTime": {
     "end_time": "2024-11-29T06:24:42.393847Z",
     "start_time": "2024-11-29T06:24:42.373866Z"
    }
   },
   "outputs": [
    {
     "name": "stdout",
     "output_type": "stream",
     "text": [
      "cuda\n"
     ]
    }
   ],
   "source": [
    "device = torch.device(\"cuda\" if torch.cuda.is_available() else \"cpu\")\n",
    "print(device)"
   ]
  },
  {
   "cell_type": "code",
   "execution_count": 13,
   "metadata": {
    "ExecuteTime": {
     "end_time": "2024-11-29T06:24:42.463692Z",
     "start_time": "2024-11-29T06:24:42.460493Z"
    }
   },
   "outputs": [],
   "source": [
    "num_epochs = 100\n",
    "batch_size = 128\n",
    "lr = 1e-4\n",
    "encoding_dim = 28"
   ]
  },
  {
   "cell_type": "code",
   "execution_count": 14,
   "metadata": {
    "ExecuteTime": {
     "end_time": "2024-11-29T06:24:42.482970Z",
     "start_time": "2024-11-29T06:24:42.478984Z"
    }
   },
   "outputs": [
    {
     "name": "stdout",
     "output_type": "stream",
     "text": [
      "54\n"
     ]
    }
   ],
   "source": [
    "# Feature Selection\n",
    "cat_features = ['Card', 'Gender', 'Card Brand', 'Card Type', 'Expires', 'Has Chip', \n",
    "                'Year PIN last Changed', 'Whether Security Chip is Used', 'Day']\n",
    "num_features = ['Current Age', 'Retirement Age', 'Per Capita Income - Zipcode', 'Zipcode',\n",
    "                'Yearly Income', 'Total Debt', 'Credit Score', 'Credit Limit', 'Amount']\n",
    "discarded = ['User', 'Birth Year', 'Birth Month']\n",
    "print(len(cat_features)*5 + len(num_features))\n"
   ]
  },
  {
   "cell_type": "code",
   "execution_count": 15,
   "metadata": {
    "ExecuteTime": {
     "end_time": "2024-11-29T06:24:50.640184Z",
     "start_time": "2024-11-29T06:24:42.491352Z"
    }
   },
   "outputs": [
    {
     "name": "stdout",
     "output_type": "stream",
     "text": [
      "TRANSITION\n",
      "IQR\n",
      "SPLIT\n",
      "DISCARD\n",
      "SCALE\n",
      "ENCODE\n",
      "UNLABEL\n",
      "TARGET\n",
      "TRAIN CAT/NUM\n",
      "VALID CAT/NUM\n",
      "RETURN\n"
     ]
    }
   ],
   "source": [
    "# 데이터 전처리\n",
    "data_path = 'Data/[24-2 DS_Project2] Data.csv'\n",
    "(train_cat_X, train_num_X, train_y), (valid_cat_X, valid_num_X, valid_y), label_encoders = process_data(\n",
    "    data_path,\n",
    "    cat_features,\n",
    "    num_features,\n",
    "    discarded\n",
    ")"
   ]
  },
  {
   "cell_type": "code",
   "execution_count": 16,
   "metadata": {},
   "outputs": [
    {
     "name": "stdout",
     "output_type": "stream",
     "text": [
      "(902733, 1)\n",
      "(902733, 9)\n"
     ]
    }
   ],
   "source": [
    "print(train_y.shape)\n",
    "print(train_cat_X.shape)"
   ]
  },
  {
   "cell_type": "code",
   "execution_count": 17,
   "metadata": {
    "ExecuteTime": {
     "end_time": "2024-11-29T06:24:50.675458Z",
     "start_time": "2024-11-29T06:24:50.667307Z"
    }
   },
   "outputs": [
    {
     "data": {
      "text/plain": [
       "{'Card': LabelEncoder(),\n",
       " 'Gender': LabelEncoder(),\n",
       " 'Card Brand': LabelEncoder(),\n",
       " 'Card Type': LabelEncoder(),\n",
       " 'Expires': LabelEncoder(),\n",
       " 'Has Chip': LabelEncoder(),\n",
       " 'Year PIN last Changed': LabelEncoder(),\n",
       " 'Whether Security Chip is Used': LabelEncoder(),\n",
       " 'Day': LabelEncoder()}"
      ]
     },
     "execution_count": 17,
     "metadata": {},
     "output_type": "execute_result"
    }
   ],
   "source": [
    "train_cat_X,\n",
    "train_num_X,\n",
    "train_y,\n",
    "valid_cat_X,\n",
    "valid_num_X,\n",
    "valid_y,\n",
    "label_encoders"
   ]
  },
  {
   "cell_type": "code",
   "execution_count": 18,
   "metadata": {
    "ExecuteTime": {
     "end_time": "2024-11-29T06:24:50.908741Z",
     "start_time": "2024-11-29T06:24:50.745031Z"
    }
   },
   "outputs": [],
   "source": [
    "train_dataset = AE_trainDataset(train_cat_X, train_num_X, device)\n",
    "valid_dataset = AE_validDataset(valid_cat_X, valid_num_X, valid_y, device)\n",
    "train_loader = DataLoader(train_dataset, batch_size=batch_size, shuffle=True)\n",
    "valid_loader = DataLoader(valid_dataset, batch_size=batch_size, shuffle=False)"
   ]
  },
  {
   "cell_type": "code",
   "execution_count": 19,
   "metadata": {
    "ExecuteTime": {
     "end_time": "2024-11-29T06:24:52.019432Z",
     "start_time": "2024-11-29T06:24:50.927058Z"
    }
   },
   "outputs": [],
   "source": [
    "model = AutoEncoder(encoding_dim=encoding_dim, cat_features=cat_features, num_features=num_features).to(device)\n",
    "optimizer = optim.AdamW(model.parameters(), lr=lr, weight_decay=1e-4)\n",
    "criterion = nn.MSELoss()\n"
   ]
  },
  {
   "cell_type": "code",
   "execution_count": 21,
   "metadata": {},
   "outputs": [],
   "source": [
    "# Kaiming Initialization 적용\n",
    "for name, param in model.named_parameters():\n",
    "    if isinstance(param, nn.Linear):\n",
    "        nn.init.kaiming_normal_(param.weight, mode='fan_in', nonlinearity='relu')\n",
    "        if param.bias is not None:\n",
    "            nn.init.zeros_(param.bias)"
   ]
  },
  {
   "cell_type": "code",
   "execution_count": 22,
   "metadata": {},
   "outputs": [
    {
     "name": "stderr",
     "output_type": "stream",
     "text": [
      "  0%|          | 0/100 [00:47<?, ?it/s]\n"
     ]
    },
    {
     "ename": "KeyboardInterrupt",
     "evalue": "",
     "output_type": "error",
     "traceback": [
      "\u001b[0;31m---------------------------------------------------------------------------\u001b[0m",
      "\u001b[0;31mKeyboardInterrupt\u001b[0m                         Traceback (most recent call last)",
      "Cell \u001b[0;32mIn[22], line 23\u001b[0m\n\u001b[1;32m     20\u001b[0m \u001b[38;5;66;03m# 총 손실 = MSE 손실 + L1 정규화\u001b[39;00m\n\u001b[1;32m     21\u001b[0m loss \u001b[38;5;241m=\u001b[39m mse_loss \u001b[38;5;241m+\u001b[39m l1_lambda \u001b[38;5;241m*\u001b[39m l1_reg\n\u001b[0;32m---> 23\u001b[0m \u001b[43mloss\u001b[49m\u001b[38;5;241;43m.\u001b[39;49m\u001b[43mbackward\u001b[49m\u001b[43m(\u001b[49m\u001b[43m)\u001b[49m\n\u001b[1;32m     24\u001b[0m optimizer\u001b[38;5;241m.\u001b[39mstep()\n\u001b[1;32m     25\u001b[0m train_loss \u001b[38;5;241m+\u001b[39m\u001b[38;5;241m=\u001b[39m loss\u001b[38;5;241m.\u001b[39mitem()\n",
      "File \u001b[0;32m~/anaconda3/envs/ai/lib/python3.9/site-packages/torch/_tensor.py:581\u001b[0m, in \u001b[0;36mTensor.backward\u001b[0;34m(self, gradient, retain_graph, create_graph, inputs)\u001b[0m\n\u001b[1;32m    571\u001b[0m \u001b[38;5;28;01mif\u001b[39;00m has_torch_function_unary(\u001b[38;5;28mself\u001b[39m):\n\u001b[1;32m    572\u001b[0m     \u001b[38;5;28;01mreturn\u001b[39;00m handle_torch_function(\n\u001b[1;32m    573\u001b[0m         Tensor\u001b[38;5;241m.\u001b[39mbackward,\n\u001b[1;32m    574\u001b[0m         (\u001b[38;5;28mself\u001b[39m,),\n\u001b[0;32m   (...)\u001b[0m\n\u001b[1;32m    579\u001b[0m         inputs\u001b[38;5;241m=\u001b[39minputs,\n\u001b[1;32m    580\u001b[0m     )\n\u001b[0;32m--> 581\u001b[0m \u001b[43mtorch\u001b[49m\u001b[38;5;241;43m.\u001b[39;49m\u001b[43mautograd\u001b[49m\u001b[38;5;241;43m.\u001b[39;49m\u001b[43mbackward\u001b[49m\u001b[43m(\u001b[49m\n\u001b[1;32m    582\u001b[0m \u001b[43m    \u001b[49m\u001b[38;5;28;43mself\u001b[39;49m\u001b[43m,\u001b[49m\u001b[43m \u001b[49m\u001b[43mgradient\u001b[49m\u001b[43m,\u001b[49m\u001b[43m \u001b[49m\u001b[43mretain_graph\u001b[49m\u001b[43m,\u001b[49m\u001b[43m \u001b[49m\u001b[43mcreate_graph\u001b[49m\u001b[43m,\u001b[49m\u001b[43m \u001b[49m\u001b[43minputs\u001b[49m\u001b[38;5;241;43m=\u001b[39;49m\u001b[43minputs\u001b[49m\n\u001b[1;32m    583\u001b[0m \u001b[43m\u001b[49m\u001b[43m)\u001b[49m\n",
      "File \u001b[0;32m~/anaconda3/envs/ai/lib/python3.9/site-packages/torch/autograd/__init__.py:347\u001b[0m, in \u001b[0;36mbackward\u001b[0;34m(tensors, grad_tensors, retain_graph, create_graph, grad_variables, inputs)\u001b[0m\n\u001b[1;32m    342\u001b[0m     retain_graph \u001b[38;5;241m=\u001b[39m create_graph\n\u001b[1;32m    344\u001b[0m \u001b[38;5;66;03m# The reason we repeat the same comment below is that\u001b[39;00m\n\u001b[1;32m    345\u001b[0m \u001b[38;5;66;03m# some Python versions print out the first line of a multi-line function\u001b[39;00m\n\u001b[1;32m    346\u001b[0m \u001b[38;5;66;03m# calls in the traceback and some print out the last line\u001b[39;00m\n\u001b[0;32m--> 347\u001b[0m \u001b[43m_engine_run_backward\u001b[49m\u001b[43m(\u001b[49m\n\u001b[1;32m    348\u001b[0m \u001b[43m    \u001b[49m\u001b[43mtensors\u001b[49m\u001b[43m,\u001b[49m\n\u001b[1;32m    349\u001b[0m \u001b[43m    \u001b[49m\u001b[43mgrad_tensors_\u001b[49m\u001b[43m,\u001b[49m\n\u001b[1;32m    350\u001b[0m \u001b[43m    \u001b[49m\u001b[43mretain_graph\u001b[49m\u001b[43m,\u001b[49m\n\u001b[1;32m    351\u001b[0m \u001b[43m    \u001b[49m\u001b[43mcreate_graph\u001b[49m\u001b[43m,\u001b[49m\n\u001b[1;32m    352\u001b[0m \u001b[43m    \u001b[49m\u001b[43minputs\u001b[49m\u001b[43m,\u001b[49m\n\u001b[1;32m    353\u001b[0m \u001b[43m    \u001b[49m\u001b[43mallow_unreachable\u001b[49m\u001b[38;5;241;43m=\u001b[39;49m\u001b[38;5;28;43;01mTrue\u001b[39;49;00m\u001b[43m,\u001b[49m\n\u001b[1;32m    354\u001b[0m \u001b[43m    \u001b[49m\u001b[43maccumulate_grad\u001b[49m\u001b[38;5;241;43m=\u001b[39;49m\u001b[38;5;28;43;01mTrue\u001b[39;49;00m\u001b[43m,\u001b[49m\n\u001b[1;32m    355\u001b[0m \u001b[43m\u001b[49m\u001b[43m)\u001b[49m\n",
      "File \u001b[0;32m~/anaconda3/envs/ai/lib/python3.9/site-packages/torch/autograd/graph.py:825\u001b[0m, in \u001b[0;36m_engine_run_backward\u001b[0;34m(t_outputs, *args, **kwargs)\u001b[0m\n\u001b[1;32m    823\u001b[0m     unregister_hooks \u001b[38;5;241m=\u001b[39m _register_logging_hooks_on_whole_graph(t_outputs)\n\u001b[1;32m    824\u001b[0m \u001b[38;5;28;01mtry\u001b[39;00m:\n\u001b[0;32m--> 825\u001b[0m     \u001b[38;5;28;01mreturn\u001b[39;00m \u001b[43mVariable\u001b[49m\u001b[38;5;241;43m.\u001b[39;49m\u001b[43m_execution_engine\u001b[49m\u001b[38;5;241;43m.\u001b[39;49m\u001b[43mrun_backward\u001b[49m\u001b[43m(\u001b[49m\u001b[43m  \u001b[49m\u001b[38;5;66;43;03m# Calls into the C++ engine to run the backward pass\u001b[39;49;00m\n\u001b[1;32m    826\u001b[0m \u001b[43m        \u001b[49m\u001b[43mt_outputs\u001b[49m\u001b[43m,\u001b[49m\u001b[43m \u001b[49m\u001b[38;5;241;43m*\u001b[39;49m\u001b[43margs\u001b[49m\u001b[43m,\u001b[49m\u001b[43m \u001b[49m\u001b[38;5;241;43m*\u001b[39;49m\u001b[38;5;241;43m*\u001b[39;49m\u001b[43mkwargs\u001b[49m\n\u001b[1;32m    827\u001b[0m \u001b[43m    \u001b[49m\u001b[43m)\u001b[49m  \u001b[38;5;66;03m# Calls into the C++ engine to run the backward pass\u001b[39;00m\n\u001b[1;32m    828\u001b[0m \u001b[38;5;28;01mfinally\u001b[39;00m:\n\u001b[1;32m    829\u001b[0m     \u001b[38;5;28;01mif\u001b[39;00m attach_logging_hooks:\n",
      "\u001b[0;31mKeyboardInterrupt\u001b[0m: "
     ]
    }
   ],
   "source": [
    "best_f1 = 0\n",
    "l1_lambda = 1e-5\n",
    "from tqdm import tqdm\n",
    "for epoch in tqdm(range(num_epochs)):\n",
    "    # 학습 단계\n",
    "    model.train()\n",
    "    train_loss = 0\n",
    "    for cat_features, num_features in train_loader:\n",
    "        optimizer.zero_grad()\n",
    "        y_hat, y = model(cat_features, num_features)\n",
    "        \n",
    "        # MSE 손실 계산\n",
    "        mse_loss = criterion(y_hat, y)\n",
    "        \n",
    "        # L1 정규화 계산\n",
    "        l1_reg = torch.tensor(0., requires_grad=True).to(device)\n",
    "        for param in model.parameters():\n",
    "            l1_reg = l1_reg + torch.norm(param, 1)\n",
    "        \n",
    "        # 총 손실 = MSE 손실 + L1 정규화\n",
    "        loss = mse_loss + l1_lambda * l1_reg\n",
    "        \n",
    "        loss.backward()\n",
    "        optimizer.step()\n",
    "        train_loss += loss.item()\n",
    "    \n",
    "    # 평균 train_loss 계산\n",
    "    train_loss /= len(train_loader)\n",
    "    \n",
    "    # 검증 단계 (10 에포크마다)\n",
    "    if epoch % 10 == 0:\n",
    "        model.eval()\n",
    "        valid_loss = 0\n",
    "        reconstruction_errors = []\n",
    "        all_labels = []\n",
    "        \n",
    "        with torch.no_grad():\n",
    "            for cat_features, num_features, labels in valid_loader:\n",
    "                y_hat, y = model(cat_features, num_features)\n",
    "                batch_loss = criterion(y_hat, y)\n",
    "                valid_loss += batch_loss.item()\n",
    "                \n",
    "                sample_errors = torch.mean((y_hat - y) ** 2, dim=1)\n",
    "                reconstruction_errors.extend(sample_errors.cpu().numpy())\n",
    "                all_labels.extend(labels.cpu().numpy())\n",
    "            \n",
    "            # 성능 평가\n",
    "            threshold = np.percentile(reconstruction_errors, 90)\n",
    "            predictions = (np.array(reconstruction_errors) > threshold).astype(int)\n",
    "            f1 = f1_score(all_labels, predictions)\n",
    "            \n",
    "            # 결과 로깅\n",
    "            print(f\"Epoch {epoch}: Valid Loss = {valid_loss:.4f}, F1 Score = {f1:.4f}\")\n",
    "            \n",
    "            # 최고 성능 모델 저장\n",
    "            if f1 > best_f1:\n",
    "                best_f1 = f1\n",
    "\n",
    "print(f'best F1 Score: {best_f1}')"
   ]
  },
  {
   "cell_type": "code",
   "execution_count": null,
   "metadata": {
    "ExecuteTime": {
     "end_time": "2024-11-29T06:24:52.069308Z",
     "start_time": "2024-11-29T06:24:52.066644Z"
    }
   },
   "outputs": [],
   "source": []
  }
 ],
 "metadata": {
  "kernelspec": {
   "display_name": "ai",
   "language": "python",
   "name": "python3"
  },
  "language_info": {
   "codemirror_mode": {
    "name": "ipython",
    "version": 3
   },
   "file_extension": ".py",
   "mimetype": "text/x-python",
   "name": "python",
   "nbconvert_exporter": "python",
   "pygments_lexer": "ipython3",
   "version": "3.9.20"
  }
 },
 "nbformat": 4,
 "nbformat_minor": 2
}
